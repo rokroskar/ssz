{
 "cells": [
  {
   "cell_type": "code",
   "execution_count": 1,
   "metadata": {},
   "outputs": [
    {
     "data": {
      "text/html": [
       "<div class=\"krn-spql\"><div class=\"magic\">Endpoint set to: https://ld.zazuko.com/query</div><div class=\"magic\">HTTP authentication: method=basic, user=public, passwd set</div><div class=\"magic\">Display: table</div><div class=\"magic\">Result maximum size: 80</div></div>"
      ],
      "text/plain": [
       "Endpoint set to: https://ld.zazuko.com/query\n",
       "HTTP authentication: method=basic, user=public, passwd set\n",
       "Display: table\n",
       "Result maximum size: 80\n"
      ]
     },
     "metadata": {},
     "output_type": "display_data"
    }
   ],
   "source": [
    "#Params\n",
    "%endpoint https://ld.zazuko.com/query\n",
    "%auth basic public public\n",
    "%display table\n",
    "\n",
    "%show 80"
   ]
  },
  {
   "cell_type": "markdown",
   "metadata": {},
   "source": [
    "## Graphs\n",
    "\n",
    "One endpoint can contain multiple graphs. You can see what graphs are available using `WHERE` and `GRAPH` statements. \n",
    "\n",
    "Let's see what graphs are available in our endpoint."
   ]
  },
  {
   "cell_type": "code",
   "execution_count": 2,
   "metadata": {},
   "outputs": [
    {
     "data": {
      "text/html": [
       "<div class=\"krn-spql\"><table><tr class=hdr><th>g</th></tr><tr class=odd><td class=val><a href=\"https://linked.opendata.swiss/graph/bk/termdat\" target=\"_other\">https://linked.opendata.swiss/graph/bk/termdat</a></td></tr><tr class=even><td class=val><a href=\"http://ld.zazuko.com/swissski\" target=\"_other\">http://ld.zazuko.com/swissski</a></td></tr><tr class=odd><td class=val><a href=\"http://ld.zazuko.com/cube-demo\" target=\"_other\">http://ld.zazuko.com/cube-demo</a></td></tr><tr class=even><td class=val><a href=\"https://lindas.admin.ch/elcom/electricityprice\" target=\"_other\">https://lindas.admin.ch/elcom/electricityprice</a></td></tr><tr class=odd><td class=val><a href=\"https://linked.opendata.swiss/graph/eCH-0071\" target=\"_other\">https://linked.opendata.swiss/graph/eCH-0071</a></td></tr><tr class=even><td class=val><a href=\"https://lindas.admin.ch/fso/agvch\" target=\"_other\">https://lindas.admin.ch/fso/agvch</a></td></tr><tr class=odd><td class=val><a href=\"https://lindas.admin.ch/sbb/didok\" target=\"_other\">https://lindas.admin.ch/sbb/didok</a></td></tr><tr class=even><td class=val><a href=\"http://example.org/nesting\" target=\"_other\">http://example.org/nesting</a></td></tr><tr class=odd><td class=val><a href=\"http://zazuko.com/gitlab/bafu\" target=\"_other\">http://zazuko.com/gitlab/bafu</a></td></tr><tr class=even><td class=val><a href=\"http://example.org/rdf-cube-schema\" target=\"_other\">http://example.org/rdf-cube-schema</a></td></tr><tr class=odd><td class=val><a href=\"https://lindas.admin.ch/stadtzuerich/stat\" target=\"_other\">https://lindas.admin.ch/stadtzuerich/stat</a></td></tr><tr class=even><td class=val><a href=\"https://lindas.admin.ch/foen/cube/px\" target=\"_other\">https://lindas.admin.ch/foen/cube/px</a></td></tr><tr class=odd><td class=val><a href=\"https://lindas.admin.ch/stadtzuerich/stat/views\" target=\"_other\">https://lindas.admin.ch/stadtzuerich/stat/views</a></td></tr><tr class=even><td class=val><a href=\"http://example.org/graph/amos\" target=\"_other\">http://example.org/graph/amos</a></td></tr><tr class=odd><td class=val><a href=\"https://lindas.admin.ch/meta\" target=\"_other\">https://lindas.admin.ch/meta</a></td></tr></table><div class=\"tinfo\">Total: 15, Shown: 15</div></div>"
      ]
     },
     "metadata": {},
     "output_type": "display_data"
    }
   ],
   "source": [
    "# List graphs in endpoint\n",
    "SELECT DISTINCT ?g \n",
    "WHERE {\n",
    "  GRAPH ?g {\n",
    "      ?s ?p ?o;\n",
    "  }\n",
    "}"
   ]
  },
  {
   "cell_type": "markdown",
   "metadata": {},
   "source": [
    "The graphs have potentilly nothing in common. They are just stored in the same database instance. \n",
    "\n",
    "Here, we have the one endpoint storing information on subject as diverse as train timetable, electricity prices, or animal diseases:\n",
    "\n",
    "* trains timetable (https://lindas.admin.ch/sbb/setactual)\n",
    "* electricity prices (https://lindas.admin.ch/elcom/electricityprice)\n",
    "* animal diseases (https://linked.opendata.swiss/fsvo/animalpest)\n",
    "\n",
    "All those graphs can be accessed from the same SPARQL endpoint."
   ]
  },
  {
   "cell_type": "markdown",
   "metadata": {},
   "source": [
    "### Exploring a graph\n",
    "Let's explore the dataset from Zurich Statistical Office.\n",
    "\n",
    "The correspondig graph can be accessed with this uri:\n",
    "https://lindas.admin.ch/stadtzuerich/stat/views\n"
   ]
  },
  {
   "cell_type": "code",
   "execution_count": 3,
   "metadata": {},
   "outputs": [
    {
     "data": {
      "text/html": [
       "<div class=\"krn-spql\"><table><tr class=hdr><th>p</th></tr><tr class=odd><td class=val><a href=\"http://www.w3.org/1999/02/22-rdf-syntax-ns#type\" target=\"_other\">http://www.w3.org/1999/02/22-rdf-syntax-ns#type</a></td></tr><tr class=even><td class=val><a href=\"http://schema.org/name\" target=\"_other\">http://schema.org/name</a></td></tr><tr class=odd><td class=val><a href=\"http://schema.org/description\" target=\"_other\">http://schema.org/description</a></td></tr><tr class=even><td class=val><a href=\"http://www.w3.org/2000/01/rdf-schema#seeAlso\" target=\"_other\">http://www.w3.org/2000/01/rdf-schema#seeAlso</a></td></tr><tr class=odd><td class=val><a href=\"http://schema.org/url\" target=\"_other\">http://schema.org/url</a></td></tr><tr class=even><td class=val><a href=\"http://www.w3.org/ns/shacl#closed\" target=\"_other\">http://www.w3.org/ns/shacl#closed</a></td></tr><tr class=odd><td class=val><a href=\"http://www.w3.org/ns/shacl#datatype\" target=\"_other\">http://www.w3.org/ns/shacl#datatype</a></td></tr><tr class=even><td class=val><a href=\"http://www.w3.org/ns/shacl#maxCount\" target=\"_other\">http://www.w3.org/ns/shacl#maxCount</a></td></tr><tr class=odd><td class=val><a href=\"http://www.w3.org/ns/shacl#maxInclusive\" target=\"_other\">http://www.w3.org/ns/shacl#maxInclusive</a></td></tr><tr class=even><td class=val><a href=\"http://www.w3.org/ns/shacl#minCount\" target=\"_other\">http://www.w3.org/ns/shacl#minCount</a></td></tr><tr class=odd><td class=val><a href=\"http://www.w3.org/ns/shacl#minInclusive\" target=\"_other\">http://www.w3.org/ns/shacl#minInclusive</a></td></tr><tr class=even><td class=val><a href=\"http://www.w3.org/ns/shacl#path\" target=\"_other\">http://www.w3.org/ns/shacl#path</a></td></tr><tr class=odd><td class=val><a href=\"http://www.w3.org/ns/shacl#property\" target=\"_other\">http://www.w3.org/ns/shacl#property</a></td></tr><tr class=even><td class=val><a href=\"http://www.w3.org/ns/shacl#nodeKind\" target=\"_other\">http://www.w3.org/ns/shacl#nodeKind</a></td></tr><tr class=odd><td class=val><a href=\"http://www.w3.org/1999/02/22-rdf-syntax-ns#first\" target=\"_other\">http://www.w3.org/1999/02/22-rdf-syntax-ns#first</a></td></tr><tr class=even><td class=val><a href=\"http://www.w3.org/1999/02/22-rdf-syntax-ns#rest\" target=\"_other\">http://www.w3.org/1999/02/22-rdf-syntax-ns#rest</a></td></tr><tr class=odd><td class=val><a href=\"http://www.w3.org/ns/shacl#in\" target=\"_other\">http://www.w3.org/ns/shacl#in</a></td></tr><tr class=even><td class=val><a href=\"http://www.w3.org/2004/02/skos/core#inScheme\" target=\"_other\">http://www.w3.org/2004/02/skos/core#inScheme</a></td></tr><tr class=odd><td class=val><a href=\"http://xmlns.com/foaf/0.1/homepage\" target=\"_other\">http://xmlns.com/foaf/0.1/homepage</a></td></tr><tr class=even><td class=val><a href=\"http://purl.org/dc/terms/creator\" target=\"_other\">http://purl.org/dc/terms/creator</a></td></tr><tr class=odd><td class=val><a href=\"http://purl.org/dc/terms/publisher\" target=\"_other\">http://purl.org/dc/terms/publisher</a></td></tr><tr class=even><td class=val><a href=\"http://usefulinc.com/ns/doap#repository\" target=\"_other\">http://usefulinc.com/ns/doap#repository</a></td></tr><tr class=odd><td class=val><a href=\"http://rdfs.org/ns/void#sparqlEndpoint\" target=\"_other\">http://rdfs.org/ns/void#sparqlEndpoint</a></td></tr><tr class=even><td class=val><a href=\"http://usefulinc.com/ns/doap#browse\" target=\"_other\">http://usefulinc.com/ns/doap#browse</a></td></tr><tr class=odd><td class=val><a href=\"http://usefulinc.com/ns/doap#location\" target=\"_other\">http://usefulinc.com/ns/doap#location</a></td></tr><tr class=even><td class=val><a href=\"http://schema.org/identifier\" target=\"_other\">http://schema.org/identifier</a></td></tr><tr class=odd><td class=val><a href=\"http://schema.org/dataset\" target=\"_other\">http://schema.org/dataset</a></td></tr><tr class=even><td class=val><a href=\"http://qudt.org/vocab/unit#unit\" target=\"_other\">http://qudt.org/vocab/unit#unit</a></td></tr><tr class=odd><td class=val><a href=\"http://www.w3.org/2004/02/skos/core#scopeNote\" target=\"_other\">http://www.w3.org/2004/02/skos/core#scopeNote</a></td></tr><tr class=even><td class=val><a href=\"http://www.w3.org/2004/02/skos/core#member\" target=\"_other\">http://www.w3.org/2004/02/skos/core#member</a></td></tr><tr class=odd><td class=val><a href=\"http://schema.org/position\" target=\"_other\">http://schema.org/position</a></td></tr><tr class=even><td class=val><a href=\"http://schema.org/sameAs\" target=\"_other\">http://schema.org/sameAs</a></td></tr><tr class=odd><td class=val><a href=\"https://ld.stadt-zuerich.ch/statistics/property/ZEIT\" target=\"_other\">https://ld.stadt-zuerich.ch/statistics/property/ZEIT</a></td></tr><tr class=even><td class=val><a href=\"https://ld.stadt-zuerich.ch/statistics/property/RAUM\" target=\"_other\">https://ld.stadt-zuerich.ch/statistics/property/RAUM</a></td></tr><tr class=odd><td class=val><a href=\"https://ld.stadt-zuerich.ch/statistics/property/ALT\" target=\"_other\">https://ld.stadt-zuerich.ch/statistics/property/ALT</a></td></tr><tr class=even><td class=val><a href=\"https://ld.stadt-zuerich.ch/statistics/measure/BEW\" target=\"_other\">https://ld.stadt-zuerich.ch/statistics/measure/BEW</a></td></tr><tr class=odd><td class=val><a href=\"https://ld.stadt-zuerich.ch/statistics/attribute/KORREKTUR\" target=\"_other\">https://ld.stadt-zuerich.ch/statistics/attribute/KORREKTUR</a></td></tr><tr class=even><td class=val><a href=\"https://ld.stadt-zuerich.ch/statistics/property/BTA\" target=\"_other\">https://ld.stadt-zuerich.ch/statistics/property/BTA</a></td></tr><tr class=odd><td class=val><a href=\"https://ld.stadt-zuerich.ch/statistics/measure/AST\" target=\"_other\">https://ld.stadt-zuerich.ch/statistics/measure/AST</a></td></tr><tr class=even><td class=val><a href=\"https://ld.stadt-zuerich.ch/statistics/property/EAP\" target=\"_other\">https://ld.stadt-zuerich.ch/statistics/property/EAP</a></td></tr><tr class=odd><td class=val><a href=\"https://ld.stadt-zuerich.ch/statistics/measure/WRT\" target=\"_other\">https://ld.stadt-zuerich.ch/statistics/measure/WRT</a></td></tr><tr class=even><td class=val><a href=\"https://ld.stadt-zuerich.ch/statistics/property/SEX\" target=\"_other\">https://ld.stadt-zuerich.ch/statistics/property/SEX</a></td></tr><tr class=odd><td class=val><a href=\"https://ld.stadt-zuerich.ch/statistics/property/TOU\" target=\"_other\">https://ld.stadt-zuerich.ch/statistics/property/TOU</a></td></tr><tr class=even><td class=val><a href=\"https://ld.stadt-zuerich.ch/statistics/measure/GES\" target=\"_other\">https://ld.stadt-zuerich.ch/statistics/measure/GES</a></td></tr><tr class=odd><td class=val><a href=\"https://ld.stadt-zuerich.ch/statistics/property/TIG\" target=\"_other\">https://ld.stadt-zuerich.ch/statistics/property/TIG</a></td></tr><tr class=even><td class=val><a href=\"https://ld.stadt-zuerich.ch/statistics/measure/TII\" target=\"_other\">https://ld.stadt-zuerich.ch/statistics/measure/TII</a></td></tr><tr class=odd><td class=val><a href=\"https://ld.stadt-zuerich.ch/statistics/measure/TIA\" target=\"_other\">https://ld.stadt-zuerich.ch/statistics/measure/TIA</a></td></tr><tr class=even><td class=val><a href=\"https://ld.stadt-zuerich.ch/statistics/property/BEW\" target=\"_other\">https://ld.stadt-zuerich.ch/statistics/property/BEW</a></td></tr><tr class=odd><td class=val><a href=\"https://ld.stadt-zuerich.ch/statistics/measure/BES\" target=\"_other\">https://ld.stadt-zuerich.ch/statistics/measure/BES</a></td></tr><tr class=even><td class=val><a href=\"https://ld.stadt-zuerich.ch/statistics/property/HEL\" target=\"_other\">https://ld.stadt-zuerich.ch/statistics/property/HEL</a></td></tr><tr class=odd><td class=val><a href=\"https://ld.stadt-zuerich.ch/statistics/measure/ZUS\" target=\"_other\">https://ld.stadt-zuerich.ch/statistics/measure/ZUS</a></td></tr><tr class=even><td class=val><a href=\"https://ld.stadt-zuerich.ch/statistics/property/ZSA\" target=\"_other\">https://ld.stadt-zuerich.ch/statistics/property/ZSA</a></td></tr><tr class=odd><td class=val><a href=\"https://ld.stadt-zuerich.ch/statistics/measure/WHG\" target=\"_other\">https://ld.stadt-zuerich.ch/statistics/measure/WHG</a></td></tr><tr class=even><td class=val><a href=\"https://ld.stadt-zuerich.ch/statistics/property/ZIM\" target=\"_other\">https://ld.stadt-zuerich.ch/statistics/property/ZIM</a></td></tr><tr class=odd><td class=val><a href=\"https://ld.stadt-zuerich.ch/statistics/measure/WHA\" target=\"_other\">https://ld.stadt-zuerich.ch/statistics/measure/WHA</a></td></tr><tr class=even><td class=val><a href=\"https://ld.stadt-zuerich.ch/statistics/measure/ZIM\" target=\"_other\">https://ld.stadt-zuerich.ch/statistics/measure/ZIM</a></td></tr><tr class=odd><td class=val><a href=\"https://ld.stadt-zuerich.ch/statistics/property/WHA\" target=\"_other\">https://ld.stadt-zuerich.ch/statistics/property/WHA</a></td></tr><tr class=even><td class=val><a href=\"https://ld.stadt-zuerich.ch/statistics/measure/APZ\" target=\"_other\">https://ld.stadt-zuerich.ch/statistics/measure/APZ</a></td></tr><tr class=odd><td class=val><a href=\"https://ld.stadt-zuerich.ch/statistics/property/GGH\" target=\"_other\">https://ld.stadt-zuerich.ch/statistics/property/GGH</a></td></tr><tr class=even><td class=val><a href=\"https://ld.stadt-zuerich.ch/statistics/measure/ANT\" target=\"_other\">https://ld.stadt-zuerich.ch/statistics/measure/ANT</a></td></tr><tr class=odd><td class=val><a href=\"https://ld.stadt-zuerich.ch/schema/hasEnd\" target=\"_other\">https://ld.stadt-zuerich.ch/schema/hasEnd</a></td></tr><tr class=even><td class=val><a href=\"https://ld.stadt-zuerich.ch/schema/referenceTime\" target=\"_other\">https://ld.stadt-zuerich.ch/schema/referenceTime</a></td></tr><tr class=odd><td class=val><a href=\"https://ld.stadt-zuerich.ch/schema/hasBeginning\" target=\"_other\">https://ld.stadt-zuerich.ch/schema/hasBeginning</a></td></tr><tr class=even><td class=val><a href=\"https://ld.stadt-zuerich.ch/statistics/property/TIME\" target=\"_other\">https://ld.stadt-zuerich.ch/statistics/property/TIME</a></td></tr><tr class=odd><td class=val><a href=\"https://cube.link/observedBy\" target=\"_other\">https://cube.link/observedBy</a></td></tr><tr class=even><td class=val><a href=\"https://cube.link/observation\" target=\"_other\">https://cube.link/observation</a></td></tr><tr class=odd><td class=val><a href=\"https://cube.link/observationSet\" target=\"_other\">https://cube.link/observationSet</a></td></tr><tr class=even><td class=val><a href=\"https://cube.link/observationConstraint\" target=\"_other\">https://cube.link/observationConstraint</a></td></tr><tr class=odd><td class=val><a href=\"http://schema.org/isPartOf\" target=\"_other\">http://schema.org/isPartOf</a></td></tr><tr class=even><td class=val><a href=\"http://schema.org/hasPart\" target=\"_other\">http://schema.org/hasPart</a></td></tr><tr class=odd><td class=val><a href=\"http://www.w3.org/2004/02/skos/core#broader\" target=\"_other\">http://www.w3.org/2004/02/skos/core#broader</a></td></tr><tr class=even><td class=val><a href=\"https://ld.stadt-zuerich.ch/statistics/property/EIG\" target=\"_other\">https://ld.stadt-zuerich.ch/statistics/property/EIG</a></td></tr><tr class=odd><td class=val><a href=\"https://ld.stadt-zuerich.ch/statistics/property/HAA\" target=\"_other\">https://ld.stadt-zuerich.ch/statistics/property/HAA</a></td></tr><tr class=even><td class=val><a href=\"https://ld.stadt-zuerich.ch/statistics/property/OBJ\" target=\"_other\">https://ld.stadt-zuerich.ch/statistics/property/OBJ</a></td></tr><tr class=odd><td class=val><a href=\"https://ld.stadt-zuerich.ch/statistics/measure/QMP\" target=\"_other\">https://ld.stadt-zuerich.ch/statistics/measure/QMP</a></td></tr></table><div class=\"tinfo\">Total: 75, Shown: 75</div></div>"
      ]
     },
     "metadata": {},
     "output_type": "display_data"
    }
   ],
   "source": [
    "# List graphs in endpoint\n",
    "SELECT DISTINCT ?p\n",
    "WHERE {\n",
    "  GRAPH <https://lindas.admin.ch/stadtzuerich/stat> {\n",
    "      ?s ?p ?o;\n",
    "  }\n",
    "}"
   ]
  },
  {
   "cell_type": "markdown",
   "metadata": {},
   "source": [
    "### TODO: Explain RDF type\n",
    "\n",
    "To understand better our data structure, let's access all properties defined by `a` (RDF type)."
   ]
  },
  {
   "cell_type": "code",
   "execution_count": 4,
   "metadata": {},
   "outputs": [
    {
     "data": {
      "text/html": [
       "<div class=\"krn-spql\"><table><tr class=hdr><th>cls</th></tr><tr class=odd><td class=val><a href=\"http://schema.org/Corporation\" target=\"_other\">http://schema.org/Corporation</a></td></tr><tr class=even><td class=val><a href=\"http://www.w3.org/ns/shacl#NodeShape\" target=\"_other\">http://www.w3.org/ns/shacl#NodeShape</a></td></tr><tr class=odd><td class=val><a href=\"http://www.w3.org/1999/02/22-rdf-syntax-ns#Property\" target=\"_other\">http://www.w3.org/1999/02/22-rdf-syntax-ns#Property</a></td></tr><tr class=even><td class=val><a href=\"http://schema.org/Place\" target=\"_other\">http://schema.org/Place</a></td></tr><tr class=odd><td class=val><a href=\"http://schema.org/DefinedTermSet\" target=\"_other\">http://schema.org/DefinedTermSet</a></td></tr><tr class=even><td class=val><a href=\"http://www.w3.org/2004/02/skos/core#Concept\" target=\"_other\">http://www.w3.org/2004/02/skos/core#Concept</a></td></tr><tr class=odd><td class=val><a href=\"http://www.w3.org/2004/02/skos/core#ConceptScheme\" target=\"_other\">http://www.w3.org/2004/02/skos/core#ConceptScheme</a></td></tr><tr class=even><td class=val><a href=\"http://rdfs.org/ns/void#DatasetDescription\" target=\"_other\">http://rdfs.org/ns/void#DatasetDescription</a></td></tr><tr class=odd><td class=val><a href=\"http://xmlns.com/foaf/0.1/Organization\" target=\"_other\">http://xmlns.com/foaf/0.1/Organization</a></td></tr><tr class=even><td class=val><a href=\"http://schema.org/GovernmentOrganization\" target=\"_other\">http://schema.org/GovernmentOrganization</a></td></tr><tr class=odd><td class=val><a href=\"http://usefulinc.com/ns/doap#GitRepository\" target=\"_other\">http://usefulinc.com/ns/doap#GitRepository</a></td></tr><tr class=even><td class=val><a href=\"http://schema.org/DataCatalog\" target=\"_other\">http://schema.org/DataCatalog</a></td></tr><tr class=odd><td class=val><a href=\"http://qudt.org/vocab/unit#Unit\" target=\"_other\">http://qudt.org/vocab/unit#Unit</a></td></tr><tr class=even><td class=val><a href=\"http://www.w3.org/2004/02/skos/core#Collection\" target=\"_other\">http://www.w3.org/2004/02/skos/core#Collection</a></td></tr><tr class=odd><td class=val><a href=\"http://www.w3.org/2006/time#TemporalEntity\" target=\"_other\">http://www.w3.org/2006/time#TemporalEntity</a></td></tr><tr class=even><td class=val><a href=\"https://cube.link/Observation\" target=\"_other\">https://cube.link/Observation</a></td></tr><tr class=odd><td class=val><a href=\"https://cube.link/Cube\" target=\"_other\">https://cube.link/Cube</a></td></tr><tr class=even><td class=val><a href=\"https://cube.link/ObservationSet\" target=\"_other\">https://cube.link/ObservationSet</a></td></tr><tr class=odd><td class=val><a href=\"https://cube.link/Constraint\" target=\"_other\">https://cube.link/Constraint</a></td></tr><tr class=even><td class=val><a href=\"http://schema.org/DefinedTerm\" target=\"_other\">http://schema.org/DefinedTerm</a></td></tr><tr class=odd><td class=val><a href=\"http://www.w3.org/ns/dcat#Catalog\" target=\"_other\">http://www.w3.org/ns/dcat#Catalog</a></td></tr><tr class=even><td class=val><a href=\"http://purl.org/dc/terms/RightsStatement\" target=\"_other\">http://purl.org/dc/terms/RightsStatement</a></td></tr></table><div class=\"tinfo\">Total: 22, Shown: 22</div></div>"
      ]
     },
     "metadata": {},
     "output_type": "display_data"
    }
   ],
   "source": [
    "# List all classes\n",
    "\n",
    "PREFIX rdfs: <http://www.w3.org/2000/01/rdf-schema#>\n",
    "\n",
    "SELECT DISTINCT ?cls\n",
    "FROM <https://lindas.admin.ch/stadtzuerich/stat>\n",
    "WHERE {\n",
    "  ?subject a ?cls .\n",
    "}\n",
    "LIMIT 50"
   ]
  },
  {
   "cell_type": "markdown",
   "metadata": {},
   "source": [
    "That's better! Much easier to find what is important when looking at 22 classes only. \n",
    "\n",
    "We are looking for something that represents a dataset: collection of triples around certain subject.\n",
    "The potential candidates are:\n",
    "* https://cube.link/Cube\n",
    "* https://cube.link/ObservationSet\n",
    "* http://www.w3.org/2004/02/skos/core#Collection\n",
    "\n",
    "Let's get some examples of those"
   ]
  },
  {
   "cell_type": "code",
   "execution_count": 5,
   "metadata": {},
   "outputs": [
    {
     "data": {
      "text/html": [
       "<div class=\"krn-spql\"><table><tr class=hdr><th>s</th></tr><tr class=odd><td class=val><a href=\"https://ld.stadt-zuerich.ch/statistics/BEW-ALT\" target=\"_other\">https://ld.stadt-zuerich.ch/statistics/BEW-ALT</a></td></tr><tr class=even><td class=val><a href=\"https://ld.stadt-zuerich.ch/statistics/AST-BTA\" target=\"_other\">https://ld.stadt-zuerich.ch/statistics/AST-BTA</a></td></tr><tr class=odd><td class=val><a href=\"https://ld.stadt-zuerich.ch/statistics/WRT-BTA-EAP\" target=\"_other\">https://ld.stadt-zuerich.ch/statistics/WRT-BTA-EAP</a></td></tr><tr class=even><td class=val><a href=\"https://ld.stadt-zuerich.ch/statistics/GES-ALT-SEX-TOU\" target=\"_other\">https://ld.stadt-zuerich.ch/statistics/GES-ALT-SEX-TOU</a></td></tr><tr class=odd><td class=val><a href=\"https://ld.stadt-zuerich.ch/statistics/GES-SEX-TOU\" target=\"_other\">https://ld.stadt-zuerich.ch/statistics/GES-SEX-TOU</a></td></tr><tr class=even><td class=val><a href=\"https://ld.stadt-zuerich.ch/statistics/TII-BTA-TIG\" target=\"_other\">https://ld.stadt-zuerich.ch/statistics/TII-BTA-TIG</a></td></tr><tr class=odd><td class=val><a href=\"https://ld.stadt-zuerich.ch/statistics/TIA-BTA\" target=\"_other\">https://ld.stadt-zuerich.ch/statistics/TIA-BTA</a></td></tr><tr class=even><td class=val><a href=\"https://ld.stadt-zuerich.ch/statistics/TIA-BTA-TIG\" target=\"_other\">https://ld.stadt-zuerich.ch/statistics/TIA-BTA-TIG</a></td></tr><tr class=odd><td class=val><a href=\"https://ld.stadt-zuerich.ch/statistics/TII-BTA\" target=\"_other\">https://ld.stadt-zuerich.ch/statistics/TII-BTA</a></td></tr><tr class=even><td class=val><a href=\"https://ld.stadt-zuerich.ch/statistics/AST-BEW-BTA\" target=\"_other\">https://ld.stadt-zuerich.ch/statistics/AST-BEW-BTA</a></td></tr></table><div class=\"tinfo\">Total: 10, Shown: 10</div></div>"
      ]
     },
     "metadata": {},
     "output_type": "display_data"
    }
   ],
   "source": [
    "# List all classes\n",
    "\n",
    "PREFIX rdfs: <http://www.w3.org/2000/01/rdf-schema#>\n",
    "\n",
    "SELECT DISTINCT ?s\n",
    "FROM <https://lindas.admin.ch/stadtzuerich/stat>\n",
    "WHERE {\n",
    "  ?s a <https://cube.link/Cube> .\n",
    "}\n",
    "LIMIT 10"
   ]
  },
  {
   "cell_type": "markdown",
   "metadata": {},
   "source": [
    "That looks plausible. Let's check in the [documentation](https://cube.link/):\n",
    "\n",
    "**Cube**  \n",
    "*Represents the entry point for a collection of observations, conforming to some common dimensional structure.*\n",
    "\n",
    "Exactly what we were looking for!\n"
   ]
  },
  {
   "cell_type": "code",
   "execution_count": 6,
   "metadata": {},
   "outputs": [
    {
     "data": {
      "text/html": [
       "<div class=\"krn-spql\"><table><tr class=hdr><th>sub</th>\n",
       "<th>name</th>\n",
       "<th>id</th></tr><tr class=odd><td class=val><a href=\"https://ld.stadt-zuerich.ch/statistics/BEW-ALT\" target=\"_other\">https://ld.stadt-zuerich.ch/statistics/BEW-ALT</a></td>\n",
       "<td class=val>Wirtschaftliche Wohnbevölkerung nach Alter</td>\n",
       "<td class=val>BEW-ALT</td></tr><tr class=even><td class=val><a href=\"https://ld.stadt-zuerich.ch/statistics/AST-BTA\" target=\"_other\">https://ld.stadt-zuerich.ch/statistics/AST-BTA</a></td>\n",
       "<td class=val>Arbeitsstätten nach Betriebsart</td>\n",
       "<td class=val>AST-BTA</td></tr><tr class=odd><td class=val><a href=\"https://ld.stadt-zuerich.ch/statistics/WRT-BTA-EAP\" target=\"_other\">https://ld.stadt-zuerich.ch/statistics/WRT-BTA-EAP</a></td>\n",
       "<td class=val>Wert nach Betriebsart, Erfolgsrechnung</td>\n",
       "<td class=val>WRT-BTA-EAP</td></tr><tr class=even><td class=val><a href=\"https://ld.stadt-zuerich.ch/statistics/GES-ALT-SEX-TOU\" target=\"_other\">https://ld.stadt-zuerich.ch/statistics/GES-ALT-SEX-TOU</a></td>\n",
       "<td class=val>Sterbefälle (wirtschaftlich) nach Alter, Geschlecht, Todesursachen</td>\n",
       "<td class=val>GES-ALT-SEX-TOU</td></tr><tr class=odd><td class=val><a href=\"https://ld.stadt-zuerich.ch/statistics/GES-SEX-TOU\" target=\"_other\">https://ld.stadt-zuerich.ch/statistics/GES-SEX-TOU</a></td>\n",
       "<td class=val>Sterbefälle (wirtschaftlich) nach Geschlecht, Todesursachen</td>\n",
       "<td class=val>GES-SEX-TOU</td></tr><tr class=even><td class=val><a href=\"https://ld.stadt-zuerich.ch/statistics/TII-BTA-TIG\" target=\"_other\">https://ld.stadt-zuerich.ch/statistics/TII-BTA-TIG</a></td>\n",
       "<td class=val>Tierindividuen nach Betriebsart, Tiergattung</td>\n",
       "<td class=val>TII-BTA-TIG</td></tr><tr class=odd><td class=val><a href=\"https://ld.stadt-zuerich.ch/statistics/TIA-BTA\" target=\"_other\">https://ld.stadt-zuerich.ch/statistics/TIA-BTA</a></td>\n",
       "<td class=val>Tierarten nach Betriebsart</td>\n",
       "<td class=val>TIA-BTA</td></tr><tr class=even><td class=val><a href=\"https://ld.stadt-zuerich.ch/statistics/TIA-BTA-TIG\" target=\"_other\">https://ld.stadt-zuerich.ch/statistics/TIA-BTA-TIG</a></td>\n",
       "<td class=val>Tierarten nach Betriebsart, Tiergattung</td>\n",
       "<td class=val>TIA-BTA-TIG</td></tr><tr class=odd><td class=val><a href=\"https://ld.stadt-zuerich.ch/statistics/TII-BTA\" target=\"_other\">https://ld.stadt-zuerich.ch/statistics/TII-BTA</a></td>\n",
       "<td class=val>Tierindividuen nach Betriebsart</td>\n",
       "<td class=val>TII-BTA</td></tr><tr class=even><td class=val><a href=\"https://ld.stadt-zuerich.ch/statistics/AST-BEW-BTA\" target=\"_other\">https://ld.stadt-zuerich.ch/statistics/AST-BEW-BTA</a></td>\n",
       "<td class=val>Arbeitsstätten nach Bewilligung, Betriebsart</td>\n",
       "<td class=val>AST-BEW-BTA</td></tr><tr class=odd><td class=val><a href=\"https://ld.stadt-zuerich.ch/statistics/GES-ALT-SEX\" target=\"_other\">https://ld.stadt-zuerich.ch/statistics/GES-ALT-SEX</a></td>\n",
       "<td class=val>Sterbefälle (wirtschaftlich) nach Alter, Geschlecht</td>\n",
       "<td class=val>GES-ALT-SEX</td></tr><tr class=even><td class=val><a href=\"https://ld.stadt-zuerich.ch/statistics/BEW\" target=\"_other\">https://ld.stadt-zuerich.ch/statistics/BEW</a></td>\n",
       "<td class=val>Wirtschaftliche Wohnbevölkerung</td>\n",
       "<td class=val>BEW</td></tr><tr class=odd><td class=val><a href=\"https://ld.stadt-zuerich.ch/statistics/BES-BTA-SEX\" target=\"_other\">https://ld.stadt-zuerich.ch/statistics/BES-BTA-SEX</a></td>\n",
       "<td class=val>Beschäftigte nach Betriebsart, Geschlecht</td>\n",
       "<td class=val>BES-BTA-SEX</td></tr><tr class=even><td class=val><a href=\"https://ld.stadt-zuerich.ch/statistics/BES-BTA\" target=\"_other\">https://ld.stadt-zuerich.ch/statistics/BES-BTA</a></td>\n",
       "<td class=val>Beschäftigte nach Betriebsart</td>\n",
       "<td class=val>BES-BTA</td></tr><tr class=odd><td class=val><a href=\"https://ld.stadt-zuerich.ch/statistics/ZUS-BTA-HEL\" target=\"_other\">https://ld.stadt-zuerich.ch/statistics/ZUS-BTA-HEL</a></td>\n",
       "<td class=val>Zuschauer/innen, Besucher/innen nach Betriebsart, Heimatland</td>\n",
       "<td class=val>ZUS-BTA-HEL</td></tr><tr class=even><td class=val><a href=\"https://ld.stadt-zuerich.ch/statistics/ZUS-BTA-SEX\" target=\"_other\">https://ld.stadt-zuerich.ch/statistics/ZUS-BTA-SEX</a></td>\n",
       "<td class=val>Zuschauer/innen, Besucher/innen nach Betriebsart, Geschlecht</td>\n",
       "<td class=val>ZUS-BTA-SEX</td></tr><tr class=odd><td class=val><a href=\"https://ld.stadt-zuerich.ch/statistics/ZUS-BTA\" target=\"_other\">https://ld.stadt-zuerich.ch/statistics/ZUS-BTA</a></td>\n",
       "<td class=val>Zuschauer/innen, Besucher/innen nach Betriebsart</td>\n",
       "<td class=val>ZUS-BTA</td></tr><tr class=even><td class=val><a href=\"https://ld.stadt-zuerich.ch/statistics/ZUS-BTA-ZSA\" target=\"_other\">https://ld.stadt-zuerich.ch/statistics/ZUS-BTA-ZSA</a></td>\n",
       "<td class=val>Zuschauer/innen, Besucher/innen nach Betriebsart, Zuschauer- bzw. Besucherart</td>\n",
       "<td class=val>ZUS-BTA-ZSA</td></tr><tr class=odd><td class=val><a href=\"https://ld.stadt-zuerich.ch/statistics/WHG\" target=\"_other\">https://ld.stadt-zuerich.ch/statistics/WHG</a></td>\n",
       "<td class=val>Statistische Wohnungen</td>\n",
       "<td class=val>WHG</td></tr><tr class=even><td class=val><a href=\"https://ld.stadt-zuerich.ch/statistics/WHA-ZIM\" target=\"_other\">https://ld.stadt-zuerich.ch/statistics/WHA-ZIM</a></td>\n",
       "<td class=val>Wohnungen (ohne Appartements) nach Zimmerzahl einer Wohnung</td>\n",
       "<td class=val>WHA-ZIM</td></tr><tr class=odd><td class=val><a href=\"https://ld.stadt-zuerich.ch/statistics/ZIM\" target=\"_other\">https://ld.stadt-zuerich.ch/statistics/ZIM</a></td>\n",
       "<td class=val>Zimmer</td>\n",
       "<td class=val>ZIM</td></tr><tr class=even><td class=val><a href=\"https://ld.stadt-zuerich.ch/statistics/WHA\" target=\"_other\">https://ld.stadt-zuerich.ch/statistics/WHA</a></td>\n",
       "<td class=val>Wohnungen (ohne Appartements)</td>\n",
       "<td class=val>WHA</td></tr><tr class=odd><td class=val><a href=\"https://ld.stadt-zuerich.ch/statistics/WHG-ZIM\" target=\"_other\">https://ld.stadt-zuerich.ch/statistics/WHG-ZIM</a></td>\n",
       "<td class=val>Statistische Wohnungen nach Zimmerzahl einer Wohnung</td>\n",
       "<td class=val>WHG-ZIM</td></tr><tr class=even><td class=val><a href=\"https://ld.stadt-zuerich.ch/statistics/ZIM-WHA\" target=\"_other\">https://ld.stadt-zuerich.ch/statistics/ZIM-WHA</a></td>\n",
       "<td class=val>Zimmer nach Wohnungsart</td>\n",
       "<td class=val>ZIM-WHA</td></tr><tr class=odd><td class=val><a href=\"https://ld.stadt-zuerich.ch/statistics/APZ\" target=\"_other\">https://ld.stadt-zuerich.ch/statistics/APZ</a></td>\n",
       "<td class=val>Appartementzimmer</td>\n",
       "<td class=val>APZ</td></tr><tr class=even><td class=val><a href=\"https://ld.stadt-zuerich.ch/statistics/BEW-HEL-SEX\" target=\"_other\">https://ld.stadt-zuerich.ch/statistics/BEW-HEL-SEX</a></td>\n",
       "<td class=val>Wirtschaftliche Wohnbevölkerung nach Heimatland, Geschlecht</td>\n",
       "<td class=val>BEW-HEL-SEX</td></tr><tr class=odd><td class=val><a href=\"https://ld.stadt-zuerich.ch/statistics/BEW-HEL\" target=\"_other\">https://ld.stadt-zuerich.ch/statistics/BEW-HEL</a></td>\n",
       "<td class=val>Wirtschaftliche Wohnbevölkerung nach Heimatland</td>\n",
       "<td class=val>BEW-HEL</td></tr><tr class=even><td class=val><a href=\"https://ld.stadt-zuerich.ch/statistics/BEW-SEX\" target=\"_other\">https://ld.stadt-zuerich.ch/statistics/BEW-SEX</a></td>\n",
       "<td class=val>Wirtschaftliche Wohnbevölkerung nach Geschlecht</td>\n",
       "<td class=val>BEW-SEX</td></tr><tr class=odd><td class=val><a href=\"https://ld.stadt-zuerich.ch/statistics/ANT-GGH-HEL\" target=\"_other\">https://ld.stadt-zuerich.ch/statistics/ANT-GGH-HEL</a></td>\n",
       "<td class=val>Anteil nach Grundgesamtheit, Heimatland</td>\n",
       "<td class=val>ANT-GGH-HEL</td></tr><tr class=even><td class=val><a href=\"https://ld.stadt-zuerich.ch/statistics/GES-SEX\" target=\"_other\">https://ld.stadt-zuerich.ch/statistics/GES-SEX</a></td>\n",
       "<td class=val>Sterbefälle (wirtschaftlich) nach Geschlecht</td>\n",
       "<td class=val>GES-SEX</td></tr><tr class=odd><td class=val><a href=\"https://ld.stadt-zuerich.ch/statistics/BEW-ALT-HEL-SEX\" target=\"_other\">https://ld.stadt-zuerich.ch/statistics/BEW-ALT-HEL-SEX</a></td>\n",
       "<td class=val>Wirtschaftliche Wohnbevölkerung nach Alter, Heimatland, Geschlecht</td>\n",
       "<td class=val>BEW-ALT-HEL-SEX</td></tr><tr class=even><td class=val><a href=\"https://ld.stadt-zuerich.ch/statistics/BEW-ALT-HEL\" target=\"_other\">https://ld.stadt-zuerich.ch/statistics/BEW-ALT-HEL</a></td>\n",
       "<td class=val>Wirtschaftliche Wohnbevölkerung nach Alter, Heimatland</td>\n",
       "<td class=val>BEW-ALT-HEL</td></tr><tr class=odd><td class=val><a href=\"https://ld.stadt-zuerich.ch/statistics/BEW-ALT-SEX\" target=\"_other\">https://ld.stadt-zuerich.ch/statistics/BEW-ALT-SEX</a></td>\n",
       "<td class=val>Wirtschaftliche Wohnbevölkerung nach Alter, Geschlecht</td>\n",
       "<td class=val>BEW-ALT-SEX</td></tr><tr class=even><td class=val><a href=\"https://ld.stadt-zuerich.ch/statistics/QMP-EIG-HAA-OBJ-ZIM\" target=\"_other\">https://ld.stadt-zuerich.ch/statistics/QMP-EIG-HAA-OBJ-ZIM</a></td>\n",
       "<td class=val>Quadratmeterpreis nach Eigentümerart, Handänderungsart, Objektart, Zimmerzahl einer Wohnung</td>\n",
       "<td class=val>QMP-EIG-HAA-OBJ-ZIM</td></tr></table><div class=\"tinfo\">Total: 34, Shown: 34</div></div>"
      ]
     },
     "metadata": {},
     "output_type": "display_data"
    }
   ],
   "source": [
    "PREFIX schema: <http://schema.org/>\n",
    "PREFIX rdf: <http://www.w3.org/1999/02/22-rdf-syntax-ns#>\n",
    "PREFIX rdfs: <http://www.w3.org/2000/01/rdf-schema#>\n",
    "PREFIX cube: <https://cube.link/>\n",
    "\n",
    "SELECT *\n",
    "FROM <https://lindas.admin.ch/stadtzuerich/stat>\n",
    "WHERE {\n",
    "  ?sub a cube:Cube ;\n",
    "       schema:name ?name ;\n",
    "       schema:identifier ?id .\n",
    "} "
   ]
  },
  {
   "cell_type": "markdown",
   "metadata": {},
   "source": [
    "Let's narrow it down to unique dimensions:\n",
    "\n",
    "* https://ld.stadt-zuerich.ch/statistics/BEW-ALT\n",
    "* https://ld.stadt-zuerich.ch/statistics/BEW-HEL-SEX\n",
    "\n",
    "* https://ld.stadt-zuerich.ch/statistics/APZ\n",
    "* https://ld.stadt-zuerich.ch/statistics/ANT-GGH-HEL\n",
    "* https://ld.stadt-zuerich.ch/statistics/AST-BEW-BTA\n",
    "\n",
    "* https://ld.stadt-zuerich.ch/statistics/TII-BTA-TIG\n",
    "* https://ld.stadt-zuerich.ch/statistics/TIA-BTA-TIG\n",
    "\n",
    "* https://ld.stadt-zuerich.ch/statistics/GES-ALT-SEX\n",
    "* https://ld.stadt-zuerich.ch/statistics/BES-BTA-SEX\n",
    "\n",
    "* https://ld.stadt-zuerich.ch/statistics/ZUS-BTA-HEL\n",
    "* https://ld.stadt-zuerich.ch/statistics/ZUS-BTA-SEX\n",
    "* https://ld.stadt-zuerich.ch/statistics/ZUS-BTA-ZSA\n",
    "\n",
    "* https://ld.stadt-zuerich.ch/statistics/WHA-ZIM # DIFFERENCE?\n",
    "* https://ld.stadt-zuerich.ch/statistics/ZIM-WHA\n",
    "* https://ld.stadt-zuerich.ch/statistics/WHG-ZIM\n",
    "\n",
    "* https://ld.stadt-zuerich.ch/statistics/WRT-BTA-EAP\n",
    "\n",
    "\n"
   ]
  },
  {
   "cell_type": "code",
   "execution_count": 7,
   "metadata": {},
   "outputs": [
    {
     "data": {
      "text/html": [
       "<div class=\"krn-spql\"><table><tr class=hdr><th>property</th></tr><tr class=odd><td class=val><a href=\"http://www.w3.org/1999/02/22-rdf-syntax-ns#type\" target=\"_other\">http://www.w3.org/1999/02/22-rdf-syntax-ns#type</a></td></tr><tr class=even><td class=val><a href=\"http://schema.org/name\" target=\"_other\">http://schema.org/name</a></td></tr><tr class=odd><td class=val><a href=\"http://schema.org/identifier\" target=\"_other\">http://schema.org/identifier</a></td></tr><tr class=even><td class=val><a href=\"https://cube.link/observationSet\" target=\"_other\">https://cube.link/observationSet</a></td></tr><tr class=odd><td class=val><a href=\"https://cube.link/observationConstraint\" target=\"_other\">https://cube.link/observationConstraint</a></td></tr></table><div class=\"tinfo\">Total: 5, Shown: 5</div></div>"
      ]
     },
     "metadata": {},
     "output_type": "display_data"
    }
   ],
   "source": [
    "# List all properties of a Cube class\n",
    "\n",
    "PREFIX schema: <http://schema.org/>\n",
    "PREFIX cube: <https://cube.link/>\n",
    "\n",
    "SELECT DISTINCT ?property\n",
    "FROM <https://lindas.admin.ch/stadtzuerich/stat>\n",
    "WHERE {\n",
    "  ?subject a cube:Cube;\n",
    "           ?property ?object.\n",
    "}\n",
    "LIMIT 20"
   ]
  },
  {
   "cell_type": "markdown",
   "metadata": {},
   "source": [
    "We will be interested in observationSet. Let's explore it for https://ld.stadt-zuerich.ch/statistics/BEW-ALT dataset"
   ]
  },
  {
   "cell_type": "code",
   "execution_count": 8,
   "metadata": {},
   "outputs": [
    {
     "data": {
      "text/html": [
       "<div class=\"krn-spql\"><table><tr class=hdr><th>object</th></tr><tr class=odd><td class=val><a href=\"https://ld.stadt-zuerich.ch/statistics/BEW-HEL-SEX/observation/\" target=\"_other\">https://ld.stadt-zuerich.ch/statistics/BEW-HEL-SEX/observation/</a></td></tr></table><div class=\"tinfo\">Total: 1, Shown: 1</div></div>"
      ]
     },
     "metadata": {},
     "output_type": "display_data"
    }
   ],
   "source": [
    "# List all properties of a Cube class\n",
    "\n",
    "PREFIX schema: <http://schema.org/>\n",
    "PREFIX cube: <https://cube.link/>\n",
    "\n",
    "SELECT DISTINCT ?object\n",
    "FROM <https://lindas.admin.ch/stadtzuerich/stat>\n",
    "WHERE {\n",
    "  <https://ld.stadt-zuerich.ch/statistics/BEW-HEL-SEX> a cube:Cube;\n",
    "           cube:observationSet ?object.\n",
    "}\n",
    "LIMIT 20"
   ]
  },
  {
   "cell_type": "code",
   "execution_count": 9,
   "metadata": {},
   "outputs": [
    {
     "data": {
      "text/html": [
       "<div class=\"krn-spql\"><table><tr class=hdr><th>p</th>\n",
       "<th>o</th></tr><tr class=odd><td class=val><a href=\"http://www.w3.org/1999/02/22-rdf-syntax-ns#type\" target=\"_other\">http://www.w3.org/1999/02/22-rdf-syntax-ns#type</a></td>\n",
       "<td class=val><a href=\"https://cube.link/ObservationSet\" target=\"_other\">https://cube.link/ObservationSet</a></td></tr><tr class=even><td class=val><a href=\"https://cube.link/observation\" target=\"_other\">https://cube.link/observation</a></td>\n",
       "<td class=val><a href=\"https://ld.stadt-zuerich.ch/statistics/BEW-HEL-SEX/observation/HEL1000-SEX0001-R00011-Z31122017\" target=\"_other\">https://ld.stadt-zuerich.ch/statistics/BEW-HEL-SEX/observation/HEL1000-SEX0001-R00011-Z31122017</a></td></tr><tr class=odd><td class=val><a href=\"https://cube.link/observation\" target=\"_other\">https://cube.link/observation</a></td>\n",
       "<td class=val><a href=\"https://ld.stadt-zuerich.ch/statistics/BEW-HEL-SEX/observation/HEL1000-SEX0002-R00012-Z31122017\" target=\"_other\">https://ld.stadt-zuerich.ch/statistics/BEW-HEL-SEX/observation/HEL1000-SEX0002-R00012-Z31122017</a></td></tr><tr class=even><td class=val><a href=\"https://cube.link/observation\" target=\"_other\">https://cube.link/observation</a></td>\n",
       "<td class=val><a href=\"https://ld.stadt-zuerich.ch/statistics/BEW-HEL-SEX/observation/HEL2000-SEX0001-R00013-Z31122017\" target=\"_other\">https://ld.stadt-zuerich.ch/statistics/BEW-HEL-SEX/observation/HEL2000-SEX0001-R00013-Z31122017</a></td></tr><tr class=odd><td class=val><a href=\"https://cube.link/observation\" target=\"_other\">https://cube.link/observation</a></td>\n",
       "<td class=val><a href=\"https://ld.stadt-zuerich.ch/statistics/BEW-HEL-SEX/observation/HEL2000-SEX0002-R00014-Z31122017\" target=\"_other\">https://ld.stadt-zuerich.ch/statistics/BEW-HEL-SEX/observation/HEL2000-SEX0002-R00014-Z31122017</a></td></tr><tr class=even><td class=val><a href=\"https://cube.link/observation\" target=\"_other\">https://cube.link/observation</a></td>\n",
       "<td class=val><a href=\"https://ld.stadt-zuerich.ch/statistics/BEW-HEL-SEX/observation/HEL1000-SEX0001-R00034-Z31122017\" target=\"_other\">https://ld.stadt-zuerich.ch/statistics/BEW-HEL-SEX/observation/HEL1000-SEX0001-R00034-Z31122017</a></td></tr><tr class=odd><td class=val><a href=\"https://cube.link/observation\" target=\"_other\">https://cube.link/observation</a></td>\n",
       "<td class=val><a href=\"https://ld.stadt-zuerich.ch/statistics/BEW-HEL-SEX/observation/HEL1000-SEX0002-R00041-Z31122017\" target=\"_other\">https://ld.stadt-zuerich.ch/statistics/BEW-HEL-SEX/observation/HEL1000-SEX0002-R00041-Z31122017</a></td></tr><tr class=even><td class=val><a href=\"https://cube.link/observation\" target=\"_other\">https://cube.link/observation</a></td>\n",
       "<td class=val><a href=\"https://ld.stadt-zuerich.ch/statistics/BEW-HEL-SEX/observation/HEL2000-SEX0001-R00042-Z31122017\" target=\"_other\">https://ld.stadt-zuerich.ch/statistics/BEW-HEL-SEX/observation/HEL2000-SEX0001-R00042-Z31122017</a></td></tr><tr class=odd><td class=val><a href=\"https://cube.link/observation\" target=\"_other\">https://cube.link/observation</a></td>\n",
       "<td class=val><a href=\"https://ld.stadt-zuerich.ch/statistics/BEW-HEL-SEX/observation/HEL2000-SEX0002-R00044-Z31122017\" target=\"_other\">https://ld.stadt-zuerich.ch/statistics/BEW-HEL-SEX/observation/HEL2000-SEX0002-R00044-Z31122017</a></td></tr><tr class=even><td class=val><a href=\"https://cube.link/observation\" target=\"_other\">https://cube.link/observation</a></td>\n",
       "<td class=val><a href=\"https://ld.stadt-zuerich.ch/statistics/BEW-HEL-SEX/observation/HEL1000-SEX0002-R00072-Z31122017\" target=\"_other\">https://ld.stadt-zuerich.ch/statistics/BEW-HEL-SEX/observation/HEL1000-SEX0002-R00072-Z31122017</a></td></tr></table><div class=\"tinfo\">Total: 10, Shown: 10</div></div>"
      ]
     },
     "metadata": {},
     "output_type": "display_data"
    }
   ],
   "source": [
    "# Explore this observation\n",
    "\n",
    "PREFIX schema: <http://schema.org/>\n",
    "PREFIX cube: <https://cube.link/>\n",
    "\n",
    "SELECT DISTINCT ?p ?o\n",
    "FROM <https://lindas.admin.ch/stadtzuerich/stat>\n",
    "WHERE {\n",
    "  <https://ld.stadt-zuerich.ch/statistics/BEW-HEL-SEX/observation/> ?p ?o.\n",
    "}\n",
    "LIMIT 10"
   ]
  },
  {
   "cell_type": "markdown",
   "metadata": {},
   "source": [
    "With 10k similar observations, that looks like sth we were looking for!"
   ]
  },
  {
   "cell_type": "code",
   "execution_count": 10,
   "metadata": {},
   "outputs": [
    {
     "data": {
      "text/html": [
       "<div class=\"krn-spql\"><table><tr class=hdr><th>p</th></tr><tr class=odd><td class=val><a href=\"http://www.w3.org/1999/02/22-rdf-syntax-ns#type\" target=\"_other\">http://www.w3.org/1999/02/22-rdf-syntax-ns#type</a></td></tr><tr class=even><td class=val><a href=\"http://schema.org/identifier\" target=\"_other\">http://schema.org/identifier</a></td></tr><tr class=odd><td class=val><a href=\"https://ld.stadt-zuerich.ch/statistics/property/ZEIT\" target=\"_other\">https://ld.stadt-zuerich.ch/statistics/property/ZEIT</a></td></tr><tr class=even><td class=val><a href=\"https://ld.stadt-zuerich.ch/statistics/property/RAUM\" target=\"_other\">https://ld.stadt-zuerich.ch/statistics/property/RAUM</a></td></tr><tr class=odd><td class=val><a href=\"https://ld.stadt-zuerich.ch/statistics/measure/BEW\" target=\"_other\">https://ld.stadt-zuerich.ch/statistics/measure/BEW</a></td></tr><tr class=even><td class=val><a href=\"https://ld.stadt-zuerich.ch/statistics/attribute/KORREKTUR\" target=\"_other\">https://ld.stadt-zuerich.ch/statistics/attribute/KORREKTUR</a></td></tr><tr class=odd><td class=val><a href=\"https://ld.stadt-zuerich.ch/statistics/property/SEX\" target=\"_other\">https://ld.stadt-zuerich.ch/statistics/property/SEX</a></td></tr><tr class=even><td class=val><a href=\"https://ld.stadt-zuerich.ch/statistics/property/HEL\" target=\"_other\">https://ld.stadt-zuerich.ch/statistics/property/HEL</a></td></tr><tr class=odd><td class=val><a href=\"https://ld.stadt-zuerich.ch/statistics/property/TIME\" target=\"_other\">https://ld.stadt-zuerich.ch/statistics/property/TIME</a></td></tr><tr class=even><td class=val><a href=\"https://cube.link/observedBy\" target=\"_other\">https://cube.link/observedBy</a></td></tr></table><div class=\"tinfo\">Total: 10, Shown: 10</div></div>"
      ]
     },
     "metadata": {},
     "output_type": "display_data"
    }
   ],
   "source": [
    "# Let's properties of an observation\n",
    "\n",
    "PREFIX schema: <http://schema.org/>\n",
    "PREFIX cube: <https://cube.link/>\n",
    "\n",
    "SELECT DISTINCT ?p\n",
    "FROM <https://lindas.admin.ch/stadtzuerich/stat>\n",
    "WHERE {\n",
    "  <https://ld.stadt-zuerich.ch/statistics/BEW-HEL-SEX/observation/HEL1000-SEX0001-R00011-Z31122017> ?p ?o.\n",
    "}"
   ]
  },
  {
   "cell_type": "code",
   "execution_count": 11,
   "metadata": {},
   "outputs": [
    {
     "data": {
      "text/html": [
       "<div class=\"krn-spql\"><table><tr class=hdr><th>obsProperty</th></tr><tr class=odd><td class=val><a href=\"http://www.w3.org/1999/02/22-rdf-syntax-ns#type\" target=\"_other\">http://www.w3.org/1999/02/22-rdf-syntax-ns#type</a></td></tr><tr class=even><td class=val><a href=\"http://schema.org/identifier\" target=\"_other\">http://schema.org/identifier</a></td></tr><tr class=odd><td class=val><a href=\"https://ld.stadt-zuerich.ch/statistics/property/ZEIT\" target=\"_other\">https://ld.stadt-zuerich.ch/statistics/property/ZEIT</a></td></tr><tr class=even><td class=val><a href=\"https://ld.stadt-zuerich.ch/statistics/property/RAUM\" target=\"_other\">https://ld.stadt-zuerich.ch/statistics/property/RAUM</a></td></tr><tr class=odd><td class=val><a href=\"https://ld.stadt-zuerich.ch/statistics/property/ALT\" target=\"_other\">https://ld.stadt-zuerich.ch/statistics/property/ALT</a></td></tr><tr class=even><td class=val><a href=\"https://ld.stadt-zuerich.ch/statistics/measure/BEW\" target=\"_other\">https://ld.stadt-zuerich.ch/statistics/measure/BEW</a></td></tr><tr class=odd><td class=val><a href=\"https://ld.stadt-zuerich.ch/statistics/attribute/KORREKTUR\" target=\"_other\">https://ld.stadt-zuerich.ch/statistics/attribute/KORREKTUR</a></td></tr><tr class=even><td class=val><a href=\"https://ld.stadt-zuerich.ch/statistics/property/TIME\" target=\"_other\">https://ld.stadt-zuerich.ch/statistics/property/TIME</a></td></tr><tr class=odd><td class=val><a href=\"https://cube.link/observedBy\" target=\"_other\">https://cube.link/observedBy</a></td></tr><tr class=even><td class=val><a href=\"https://ld.stadt-zuerich.ch/statistics/property/BTA\" target=\"_other\">https://ld.stadt-zuerich.ch/statistics/property/BTA</a></td></tr><tr class=odd><td class=val><a href=\"https://ld.stadt-zuerich.ch/statistics/measure/AST\" target=\"_other\">https://ld.stadt-zuerich.ch/statistics/measure/AST</a></td></tr><tr class=even><td class=val><a href=\"https://ld.stadt-zuerich.ch/statistics/property/EAP\" target=\"_other\">https://ld.stadt-zuerich.ch/statistics/property/EAP</a></td></tr><tr class=odd><td class=val><a href=\"https://ld.stadt-zuerich.ch/statistics/measure/WRT\" target=\"_other\">https://ld.stadt-zuerich.ch/statistics/measure/WRT</a></td></tr><tr class=even><td class=val><a href=\"https://ld.stadt-zuerich.ch/statistics/property/SEX\" target=\"_other\">https://ld.stadt-zuerich.ch/statistics/property/SEX</a></td></tr><tr class=odd><td class=val><a href=\"https://ld.stadt-zuerich.ch/statistics/property/TOU\" target=\"_other\">https://ld.stadt-zuerich.ch/statistics/property/TOU</a></td></tr><tr class=even><td class=val><a href=\"https://ld.stadt-zuerich.ch/statistics/measure/GES\" target=\"_other\">https://ld.stadt-zuerich.ch/statistics/measure/GES</a></td></tr><tr class=odd><td class=val><a href=\"https://ld.stadt-zuerich.ch/statistics/property/TIG\" target=\"_other\">https://ld.stadt-zuerich.ch/statistics/property/TIG</a></td></tr><tr class=even><td class=val><a href=\"https://ld.stadt-zuerich.ch/statistics/measure/TII\" target=\"_other\">https://ld.stadt-zuerich.ch/statistics/measure/TII</a></td></tr><tr class=odd><td class=val><a href=\"https://ld.stadt-zuerich.ch/statistics/measure/TIA\" target=\"_other\">https://ld.stadt-zuerich.ch/statistics/measure/TIA</a></td></tr><tr class=even><td class=val><a href=\"https://ld.stadt-zuerich.ch/statistics/property/BEW\" target=\"_other\">https://ld.stadt-zuerich.ch/statistics/property/BEW</a></td></tr><tr class=odd><td class=val><a href=\"https://ld.stadt-zuerich.ch/statistics/measure/BES\" target=\"_other\">https://ld.stadt-zuerich.ch/statistics/measure/BES</a></td></tr><tr class=even><td class=val><a href=\"https://ld.stadt-zuerich.ch/statistics/property/HEL\" target=\"_other\">https://ld.stadt-zuerich.ch/statistics/property/HEL</a></td></tr><tr class=odd><td class=val><a href=\"https://ld.stadt-zuerich.ch/statistics/measure/ZUS\" target=\"_other\">https://ld.stadt-zuerich.ch/statistics/measure/ZUS</a></td></tr><tr class=even><td class=val><a href=\"https://ld.stadt-zuerich.ch/statistics/property/ZSA\" target=\"_other\">https://ld.stadt-zuerich.ch/statistics/property/ZSA</a></td></tr><tr class=odd><td class=val><a href=\"https://ld.stadt-zuerich.ch/statistics/measure/WHG\" target=\"_other\">https://ld.stadt-zuerich.ch/statistics/measure/WHG</a></td></tr><tr class=even><td class=val><a href=\"https://ld.stadt-zuerich.ch/statistics/property/ZIM\" target=\"_other\">https://ld.stadt-zuerich.ch/statistics/property/ZIM</a></td></tr><tr class=odd><td class=val><a href=\"https://ld.stadt-zuerich.ch/statistics/measure/WHA\" target=\"_other\">https://ld.stadt-zuerich.ch/statistics/measure/WHA</a></td></tr><tr class=even><td class=val><a href=\"https://ld.stadt-zuerich.ch/statistics/measure/ZIM\" target=\"_other\">https://ld.stadt-zuerich.ch/statistics/measure/ZIM</a></td></tr><tr class=odd><td class=val><a href=\"https://ld.stadt-zuerich.ch/statistics/property/WHA\" target=\"_other\">https://ld.stadt-zuerich.ch/statistics/property/WHA</a></td></tr><tr class=even><td class=val><a href=\"https://ld.stadt-zuerich.ch/statistics/measure/APZ\" target=\"_other\">https://ld.stadt-zuerich.ch/statistics/measure/APZ</a></td></tr><tr class=odd><td class=val><a href=\"https://ld.stadt-zuerich.ch/statistics/property/GGH\" target=\"_other\">https://ld.stadt-zuerich.ch/statistics/property/GGH</a></td></tr><tr class=even><td class=val><a href=\"https://ld.stadt-zuerich.ch/statistics/measure/ANT\" target=\"_other\">https://ld.stadt-zuerich.ch/statistics/measure/ANT</a></td></tr><tr class=odd><td class=val><a href=\"https://ld.stadt-zuerich.ch/statistics/property/EIG\" target=\"_other\">https://ld.stadt-zuerich.ch/statistics/property/EIG</a></td></tr><tr class=even><td class=val><a href=\"https://ld.stadt-zuerich.ch/statistics/property/HAA\" target=\"_other\">https://ld.stadt-zuerich.ch/statistics/property/HAA</a></td></tr><tr class=odd><td class=val><a href=\"https://ld.stadt-zuerich.ch/statistics/property/OBJ\" target=\"_other\">https://ld.stadt-zuerich.ch/statistics/property/OBJ</a></td></tr><tr class=even><td class=val><a href=\"https://ld.stadt-zuerich.ch/statistics/measure/QMP\" target=\"_other\">https://ld.stadt-zuerich.ch/statistics/measure/QMP</a></td></tr></table><div class=\"tinfo\">Total: 36, Shown: 36</div></div>"
      ]
     },
     "metadata": {},
     "output_type": "display_data"
    }
   ],
   "source": [
    "# Let's get all observation properties at the same time\n",
    "\n",
    "PREFIX schema: <http://schema.org/>\n",
    "PREFIX cube: <https://cube.link/>\n",
    "\n",
    "SELECT DISTINCT ?obsProperty\n",
    "FROM <https://lindas.admin.ch/stadtzuerich/stat>\n",
    "WHERE {\n",
    "  ?dataset a cube:Cube;\n",
    "             cube:observationSet/cube:observation ?observation. \n",
    "    # Equivalent to:\n",
    "    #       cube:observationSet ?observationSet.\n",
    "    #?observationSet cube:observation ?observation.\n",
    "    ?observation ?obsProperty ?obsVal.\n",
    "}"
   ]
  },
  {
   "cell_type": "markdown",
   "metadata": {},
   "source": [
    "Quite a bit! Now, not every dataset will have all those properties. \n",
    "\n",
    "Let's get a list of datasets, and their respective properties."
   ]
  },
  {
   "cell_type": "code",
   "execution_count": 12,
   "metadata": {},
   "outputs": [
    {
     "data": {
      "text/html": [
       "<div class=\"krn-spql\"><table><tr class=hdr><th>dataset</th>\n",
       "<th>properties</th></tr><tr class=odd><td class=val><a href=\"https://ld.stadt-zuerich.ch/statistics/BEW-SEX\" target=\"_other\">https://ld.stadt-zuerich.ch/statistics/BEW-SEX</a></td>\n",
       "<td class=val>BEW, SEX</td></tr><tr class=even><td class=val><a href=\"https://ld.stadt-zuerich.ch/statistics/ANT-GGH-HEL\" target=\"_other\">https://ld.stadt-zuerich.ch/statistics/ANT-GGH-HEL</a></td>\n",
       "<td class=val>HEL, GGH, ANT</td></tr><tr class=odd><td class=val><a href=\"https://ld.stadt-zuerich.ch/statistics/GES-SEX\" target=\"_other\">https://ld.stadt-zuerich.ch/statistics/GES-SEX</a></td>\n",
       "<td class=val>SEX, GES</td></tr><tr class=even><td class=val><a href=\"https://ld.stadt-zuerich.ch/statistics/BEW-ALT\" target=\"_other\">https://ld.stadt-zuerich.ch/statistics/BEW-ALT</a></td>\n",
       "<td class=val>ALT, BEW</td></tr><tr class=odd><td class=val><a href=\"https://ld.stadt-zuerich.ch/statistics/AST-BTA\" target=\"_other\">https://ld.stadt-zuerich.ch/statistics/AST-BTA</a></td>\n",
       "<td class=val>BTA, AST</td></tr><tr class=even><td class=val><a href=\"https://ld.stadt-zuerich.ch/statistics/WRT-BTA-EAP\" target=\"_other\">https://ld.stadt-zuerich.ch/statistics/WRT-BTA-EAP</a></td>\n",
       "<td class=val>BTA, EAP, WRT</td></tr><tr class=odd><td class=val><a href=\"https://ld.stadt-zuerich.ch/statistics/BEW-ALT-HEL\" target=\"_other\">https://ld.stadt-zuerich.ch/statistics/BEW-ALT-HEL</a></td>\n",
       "<td class=val>ALT, BEW, HEL</td></tr><tr class=even><td class=val><a href=\"https://ld.stadt-zuerich.ch/statistics/BEW-ALT-SEX\" target=\"_other\">https://ld.stadt-zuerich.ch/statistics/BEW-ALT-SEX</a></td>\n",
       "<td class=val>ALT, BEW, SEX</td></tr><tr class=odd><td class=val><a href=\"https://ld.stadt-zuerich.ch/statistics/GES-ALT-SEX-TOU\" target=\"_other\">https://ld.stadt-zuerich.ch/statistics/GES-ALT-SEX-TOU</a></td>\n",
       "<td class=val>ALT, SEX, TOU, GES</td></tr><tr class=even><td class=val><a href=\"https://ld.stadt-zuerich.ch/statistics/GES-SEX-TOU\" target=\"_other\">https://ld.stadt-zuerich.ch/statistics/GES-SEX-TOU</a></td>\n",
       "<td class=val>SEX, TOU, GES</td></tr><tr class=odd><td class=val><a href=\"https://ld.stadt-zuerich.ch/statistics/TII-BTA-TIG\" target=\"_other\">https://ld.stadt-zuerich.ch/statistics/TII-BTA-TIG</a></td>\n",
       "<td class=val>BTA, TIG, TII</td></tr><tr class=even><td class=val><a href=\"https://ld.stadt-zuerich.ch/statistics/TIA-BTA\" target=\"_other\">https://ld.stadt-zuerich.ch/statistics/TIA-BTA</a></td>\n",
       "<td class=val>BTA, TIA</td></tr><tr class=odd><td class=val><a href=\"https://ld.stadt-zuerich.ch/statistics/TIA-BTA-TIG\" target=\"_other\">https://ld.stadt-zuerich.ch/statistics/TIA-BTA-TIG</a></td>\n",
       "<td class=val>BTA, TIG, TIA</td></tr><tr class=even><td class=val><a href=\"https://ld.stadt-zuerich.ch/statistics/TII-BTA\" target=\"_other\">https://ld.stadt-zuerich.ch/statistics/TII-BTA</a></td>\n",
       "<td class=val>BTA, TII</td></tr><tr class=odd><td class=val><a href=\"https://ld.stadt-zuerich.ch/statistics/AST-BEW-BTA\" target=\"_other\">https://ld.stadt-zuerich.ch/statistics/AST-BEW-BTA</a></td>\n",
       "<td class=val>BTA, AST, BEW</td></tr><tr class=even><td class=val><a href=\"https://ld.stadt-zuerich.ch/statistics/GES-ALT-SEX\" target=\"_other\">https://ld.stadt-zuerich.ch/statistics/GES-ALT-SEX</a></td>\n",
       "<td class=val>ALT, SEX, GES</td></tr><tr class=odd><td class=val><a href=\"https://ld.stadt-zuerich.ch/statistics/BEW\" target=\"_other\">https://ld.stadt-zuerich.ch/statistics/BEW</a></td>\n",
       "<td class=val>BEW</td></tr><tr class=even><td class=val><a href=\"https://ld.stadt-zuerich.ch/statistics/BES-BTA-SEX\" target=\"_other\">https://ld.stadt-zuerich.ch/statistics/BES-BTA-SEX</a></td>\n",
       "<td class=val>BTA, SEX, BES</td></tr><tr class=odd><td class=val><a href=\"https://ld.stadt-zuerich.ch/statistics/BES-BTA\" target=\"_other\">https://ld.stadt-zuerich.ch/statistics/BES-BTA</a></td>\n",
       "<td class=val>BTA, BES</td></tr><tr class=even><td class=val><a href=\"https://ld.stadt-zuerich.ch/statistics/ZUS-BTA-HEL\" target=\"_other\">https://ld.stadt-zuerich.ch/statistics/ZUS-BTA-HEL</a></td>\n",
       "<td class=val>BTA, HEL, ZUS</td></tr><tr class=odd><td class=val><a href=\"https://ld.stadt-zuerich.ch/statistics/ZUS-BTA-SEX\" target=\"_other\">https://ld.stadt-zuerich.ch/statistics/ZUS-BTA-SEX</a></td>\n",
       "<td class=val>BTA, SEX, ZUS</td></tr><tr class=even><td class=val><a href=\"https://ld.stadt-zuerich.ch/statistics/ZUS-BTA\" target=\"_other\">https://ld.stadt-zuerich.ch/statistics/ZUS-BTA</a></td>\n",
       "<td class=val>BTA, ZUS</td></tr><tr class=odd><td class=val><a href=\"https://ld.stadt-zuerich.ch/statistics/ZUS-BTA-ZSA\" target=\"_other\">https://ld.stadt-zuerich.ch/statistics/ZUS-BTA-ZSA</a></td>\n",
       "<td class=val>BTA, ZUS, ZSA</td></tr><tr class=even><td class=val><a href=\"https://ld.stadt-zuerich.ch/statistics/QMP-EIG-HAA-OBJ-ZIM\" target=\"_other\">https://ld.stadt-zuerich.ch/statistics/QMP-EIG-HAA-OBJ-ZIM</a></td>\n",
       "<td class=val>ZIM, EIG, HAA, OBJ, QMP</td></tr><tr class=odd><td class=val><a href=\"https://ld.stadt-zuerich.ch/statistics/WHG\" target=\"_other\">https://ld.stadt-zuerich.ch/statistics/WHG</a></td>\n",
       "<td class=val>WHG</td></tr><tr class=even><td class=val><a href=\"https://ld.stadt-zuerich.ch/statistics/WHA-ZIM\" target=\"_other\">https://ld.stadt-zuerich.ch/statistics/WHA-ZIM</a></td>\n",
       "<td class=val>ZIM, WHA</td></tr><tr class=odd><td class=val><a href=\"https://ld.stadt-zuerich.ch/statistics/ZIM\" target=\"_other\">https://ld.stadt-zuerich.ch/statistics/ZIM</a></td>\n",
       "<td class=val>ZIM</td></tr><tr class=even><td class=val><a href=\"https://ld.stadt-zuerich.ch/statistics/WHA\" target=\"_other\">https://ld.stadt-zuerich.ch/statistics/WHA</a></td>\n",
       "<td class=val>WHA</td></tr><tr class=odd><td class=val><a href=\"https://ld.stadt-zuerich.ch/statistics/WHG-ZIM\" target=\"_other\">https://ld.stadt-zuerich.ch/statistics/WHG-ZIM</a></td>\n",
       "<td class=val>WHG, ZIM</td></tr><tr class=even><td class=val><a href=\"https://ld.stadt-zuerich.ch/statistics/ZIM-WHA\" target=\"_other\">https://ld.stadt-zuerich.ch/statistics/ZIM-WHA</a></td>\n",
       "<td class=val>ZIM, WHA</td></tr><tr class=odd><td class=val><a href=\"https://ld.stadt-zuerich.ch/statistics/BEW-ALT-HEL-SEX\" target=\"_other\">https://ld.stadt-zuerich.ch/statistics/BEW-ALT-HEL-SEX</a></td>\n",
       "<td class=val>ALT, BEW, SEX, HEL</td></tr><tr class=even><td class=val><a href=\"https://ld.stadt-zuerich.ch/statistics/APZ\" target=\"_other\">https://ld.stadt-zuerich.ch/statistics/APZ</a></td>\n",
       "<td class=val>APZ</td></tr><tr class=odd><td class=val><a href=\"https://ld.stadt-zuerich.ch/statistics/BEW-HEL-SEX\" target=\"_other\">https://ld.stadt-zuerich.ch/statistics/BEW-HEL-SEX</a></td>\n",
       "<td class=val>BEW, SEX, HEL</td></tr><tr class=even><td class=val><a href=\"https://ld.stadt-zuerich.ch/statistics/BEW-HEL\" target=\"_other\">https://ld.stadt-zuerich.ch/statistics/BEW-HEL</a></td>\n",
       "<td class=val>BEW, HEL</td></tr></table><div class=\"tinfo\">Total: 34, Shown: 34</div></div>"
      ]
     },
     "metadata": {},
     "output_type": "display_data"
    }
   ],
   "source": [
    "# Let's get all observation properties at the same time\n",
    "PREFIX schema: <http://schema.org/>\n",
    "PREFIX cube: <https://cube.link/>\n",
    "\n",
    "SELECT ?dataset (group_concat(distinct ?q; separator=\", \") as ?properties)\n",
    "\n",
    "FROM <https://lindas.admin.ch/stadtzuerich/stat>\n",
    "WHERE {\n",
    "  ?dataset a cube:Cube;\n",
    "             cube:observationSet/cube:observation ?observation. \n",
    "    ?observation ?obsProperty ?obsVal.\n",
    "  FILTER(?obsProperty NOT IN (<https://ld.stadt-zuerich.ch/statistics/property/ZEIT>, <https://ld.stadt-zuerich.ch/statistics/property/RAUM>, <https://ld.stadt-zuerich.ch/statistics/property/TIME>, <http://schema.org/identifier>, <http://www.w3.org/1999/02/22-rdf-syntax-ns#type>, <http://www.w3.org/2004/02/skos/core#notation>, <https://ld.stadt-zuerich.ch/statistics/attribute/KORREKTUR>, <https://cube.link/observedBy>))\n",
    "  \n",
    "  BIND(replace(str(?obsProperty), str(\"https://ld.stadt-zuerich.ch/statistics/property/\"), \"\") as ?p)\n",
    "  BIND(replace(str(?p), str(\"https://ld.stadt-zuerich.ch/statistics/measure/\"), \"\") as ?q)\n",
    "}\n",
    "GROUP BY ?dataset"
   ]
  },
  {
   "cell_type": "markdown",
   "metadata": {},
   "source": [
    "Let's take a look at available dimensions (properties).\n",
    "\n",
    "For all datasets:\n",
    "* ZEIT \n",
    "* RAUM \n",
    "* TIME \n",
    "\n",
    "For selected datasets:\n",
    "* ALT: age\n",
    "* BEW: population\n",
    "* BTA\n",
    "* EAP \n",
    "* SEX: gender\n",
    "* TIG\n",
    "* TOU\n",
    "* GGH\n",
    "* HEL\n",
    "* WHA\n",
    "* ZSA \n",
    "* ZIM \n",
    "\n",
    "\n",
    "As for the measures, the following ones are available:\n",
    "* ANT\n",
    "* APZ\n",
    "* AST\n",
    "* BES\n",
    "* BEW\n",
    "* GES\n",
    "* TIA\n",
    "* TII\n",
    "* WHG\n",
    "* WHA\n",
    "* WRT\n",
    "* ZIM\n",
    "* ZUS"
   ]
  },
  {
   "cell_type": "code",
   "execution_count": 13,
   "metadata": {},
   "outputs": [
    {
     "data": {
      "text/html": [
       "<div class=\"krn-spql\"><table><tr class=hdr><th>time</th>\n",
       "<th>raumName</th>\n",
       "<th>people</th>\n",
       "<th>zeit</th></tr><tr class=odd><td class=val>1920-12-31</td>\n",
       "<td class=val>Stadt nach 1. Eingemeindung 1893 (1893-1933)</td>\n",
       "<td class=val>206273.0</td>\n",
       "<td class=val><a href=\"https://ld.stadt-zuerich.ch/statistics/code/Z31121920\" target=\"_other\">https://ld.stadt-zuerich.ch/statistics/code/Z31121920</a></td></tr><tr class=even><td class=val>1921-12-31</td>\n",
       "<td class=val>Stadt nach 1. Eingemeindung 1893 (1893-1933)</td>\n",
       "<td class=val>200873.0</td>\n",
       "<td class=val><a href=\"https://ld.stadt-zuerich.ch/statistics/code/Z31121921\" target=\"_other\">https://ld.stadt-zuerich.ch/statistics/code/Z31121921</a></td></tr><tr class=odd><td class=val>1922-12-31</td>\n",
       "<td class=val>Stadt nach 1. Eingemeindung 1893 (1893-1933)</td>\n",
       "<td class=val>199567.0</td>\n",
       "<td class=val><a href=\"https://ld.stadt-zuerich.ch/statistics/code/Z31121922\" target=\"_other\">https://ld.stadt-zuerich.ch/statistics/code/Z31121922</a></td></tr><tr class=even><td class=val>1923-12-31</td>\n",
       "<td class=val>Stadt nach 1. Eingemeindung 1893 (1893-1933)</td>\n",
       "<td class=val>202949.0</td>\n",
       "<td class=val><a href=\"https://ld.stadt-zuerich.ch/statistics/code/Z31121923\" target=\"_other\">https://ld.stadt-zuerich.ch/statistics/code/Z31121923</a></td></tr><tr class=odd><td class=val>1934-12-31</td>\n",
       "<td class=val>Stadt Zürich (ab 1934)</td>\n",
       "<td class=val>317367.0</td>\n",
       "<td class=val><a href=\"https://ld.stadt-zuerich.ch/statistics/code/Z31121934\" target=\"_other\">https://ld.stadt-zuerich.ch/statistics/code/Z31121934</a></td></tr><tr class=even><td class=val>1935-12-31</td>\n",
       "<td class=val>Stadt Zürich (ab 1934)</td>\n",
       "<td class=val>318981.0</td>\n",
       "<td class=val><a href=\"https://ld.stadt-zuerich.ch/statistics/code/Z31121935\" target=\"_other\">https://ld.stadt-zuerich.ch/statistics/code/Z31121935</a></td></tr><tr class=odd><td class=val>1936-12-31</td>\n",
       "<td class=val>Stadt Zürich (ab 1934)</td>\n",
       "<td class=val>319849.0</td>\n",
       "<td class=val><a href=\"https://ld.stadt-zuerich.ch/statistics/code/Z31121936\" target=\"_other\">https://ld.stadt-zuerich.ch/statistics/code/Z31121936</a></td></tr><tr class=even><td class=val>1937-12-31</td>\n",
       "<td class=val>Stadt Zürich (ab 1934)</td>\n",
       "<td class=val>321380.0</td>\n",
       "<td class=val><a href=\"https://ld.stadt-zuerich.ch/statistics/code/Z31121937\" target=\"_other\">https://ld.stadt-zuerich.ch/statistics/code/Z31121937</a></td></tr><tr class=odd><td class=val>1938-12-31</td>\n",
       "<td class=val>Stadt Zürich (ab 1934)</td>\n",
       "<td class=val>329780.0</td>\n",
       "<td class=val><a href=\"https://ld.stadt-zuerich.ch/statistics/code/Z31121938\" target=\"_other\">https://ld.stadt-zuerich.ch/statistics/code/Z31121938</a></td></tr><tr class=even><td class=val>1939-12-31</td>\n",
       "<td class=val>Stadt Zürich (ab 1934)</td>\n",
       "<td class=val>337164.0</td>\n",
       "<td class=val><a href=\"https://ld.stadt-zuerich.ch/statistics/code/Z31121939\" target=\"_other\">https://ld.stadt-zuerich.ch/statistics/code/Z31121939</a></td></tr><tr class=odd><td class=val>1940-12-31</td>\n",
       "<td class=val>Stadt Zürich (ab 1934)</td>\n",
       "<td class=val>337499.0</td>\n",
       "<td class=val><a href=\"https://ld.stadt-zuerich.ch/statistics/code/Z31121940\" target=\"_other\">https://ld.stadt-zuerich.ch/statistics/code/Z31121940</a></td></tr><tr class=even><td class=val>1941-12-31</td>\n",
       "<td class=val>Stadt Zürich (ab 1934)</td>\n",
       "<td class=val>340280.0</td>\n",
       "<td class=val><a href=\"https://ld.stadt-zuerich.ch/statistics/code/Z31121941\" target=\"_other\">https://ld.stadt-zuerich.ch/statistics/code/Z31121941</a></td></tr><tr class=odd><td class=val>1942-12-31</td>\n",
       "<td class=val>Stadt Zürich (ab 1934)</td>\n",
       "<td class=val>339635.0</td>\n",
       "<td class=val><a href=\"https://ld.stadt-zuerich.ch/statistics/code/Z31121942\" target=\"_other\">https://ld.stadt-zuerich.ch/statistics/code/Z31121942</a></td></tr><tr class=even><td class=val>1943-12-31</td>\n",
       "<td class=val>Stadt Zürich (ab 1934)</td>\n",
       "<td class=val>345658.0</td>\n",
       "<td class=val><a href=\"https://ld.stadt-zuerich.ch/statistics/code/Z31121943\" target=\"_other\">https://ld.stadt-zuerich.ch/statistics/code/Z31121943</a></td></tr><tr class=odd><td class=val>1944-12-31</td>\n",
       "<td class=val>Stadt Zürich (ab 1934)</td>\n",
       "<td class=val>351444.0</td>\n",
       "<td class=val><a href=\"https://ld.stadt-zuerich.ch/statistics/code/Z31121944\" target=\"_other\">https://ld.stadt-zuerich.ch/statistics/code/Z31121944</a></td></tr></table><div class=\"tinfo\">Total: 15, Shown: 15</div></div>"
      ]
     },
     "metadata": {},
     "output_type": "display_data"
    }
   ],
   "source": [
    "# Let's explore one dataset at a time\n",
    "\n",
    "# BEW\n",
    "PREFIX schema: <http://schema.org/>\n",
    "PREFIX cube: <https://cube.link/>\n",
    "\n",
    "SELECT ?time ?raumName ?people ?zeit\n",
    "FROM <https://lindas.admin.ch/stadtzuerich/stat>\n",
    "WHERE {\n",
    "  <https://ld.stadt-zuerich.ch/statistics/BEW> a cube:Cube;\n",
    "             cube:observationSet/cube:observation ?observation. \n",
    "    \n",
    "    ?observation <https://ld.stadt-zuerich.ch/statistics/measure/BEW> ?people ;\n",
    "                 <https://ld.stadt-zuerich.ch/statistics/property/RAUM> ?raum ;\n",
    "                 <https://ld.stadt-zuerich.ch/statistics/property/TIME> ?time ;\n",
    "    <https://ld.stadt-zuerich.ch/statistics/property/ZEIT> ?zeit .\n",
    "    \n",
    "    ?raum schema:name ?raumName .\n",
    "}\n",
    "LIMIT 15"
   ]
  },
  {
   "cell_type": "markdown",
   "metadata": {},
   "source": [
    "Let's try building a generic query for any dataset"
   ]
  },
  {
   "cell_type": "code",
   "execution_count": 14,
   "metadata": {},
   "outputs": [
    {
     "data": {
      "text/html": [
       "<div class=\"krn-spql\"><table><tr class=hdr><th>time</th>\n",
       "<th>place</th>\n",
       "<th>gender</th>\n",
       "<th>alt</th>\n",
       "<th>tou</th>\n",
       "<th>ges</th></tr><tr class=odd><td class=val>2014-12-31</td>\n",
       "<td class=val>Stadt Zürich (ab 1934)</td>\n",
       "<td class=val>weiblich</td>\n",
       "<td class=val>0 Jahre alt</td>\n",
       "<td class=val>andere Atmungsorgane</td>\n",
       "<td class=val>0.0</td></tr><tr class=even><td class=val>2014-12-31</td>\n",
       "<td class=val>Stadt Zürich (ab 1934)</td>\n",
       "<td class=val>weiblich</td>\n",
       "<td class=val>0 Jahre alt</td>\n",
       "<td class=val>andere Atmungsorgane</td>\n",
       "<td class=val>0.0</td></tr><tr class=odd><td class=val>2014-12-31</td>\n",
       "<td class=val>Stadt Zürich (ab 1934)</td>\n",
       "<td class=val>weiblich</td>\n",
       "<td class=val>0 Jahre alt</td>\n",
       "<td class=val>andere Atmungsorgane</td>\n",
       "<td class=val>0.0</td></tr><tr class=even><td class=val>2014-12-31</td>\n",
       "<td class=val>Stadt Zürich (ab 1934)</td>\n",
       "<td class=val>weiblich</td>\n",
       "<td class=val>0 Jahre alt</td>\n",
       "<td class=val>andere Atmungsorgane</td>\n",
       "<td class=val>0.0</td></tr><tr class=odd><td class=val>2014-12-31</td>\n",
       "<td class=val>Stadt Zürich (ab 1934)</td>\n",
       "<td class=val>weiblich</td>\n",
       "<td class=val>0 Jahre alt</td>\n",
       "<td class=val>andere Atmungsorgane</td>\n",
       "<td class=val>0.0</td></tr><tr class=even><td class=val>2014-12-31</td>\n",
       "<td class=val>Stadt Zürich (ab 1934)</td>\n",
       "<td class=val>weiblich</td>\n",
       "<td class=val>0 Jahre alt</td>\n",
       "<td class=val>andere Atmungsorgane</td>\n",
       "<td class=val>0.0</td></tr><tr class=odd><td class=val>2014-12-31</td>\n",
       "<td class=val>Stadt Zürich (ab 1934)</td>\n",
       "<td class=val>weiblich</td>\n",
       "<td class=val>0 Jahre alt</td>\n",
       "<td class=val>andere Atmungsorgane</td>\n",
       "<td class=val>0.0</td></tr><tr class=even><td class=val>2014-12-31</td>\n",
       "<td class=val>Stadt Zürich (ab 1934)</td>\n",
       "<td class=val>weiblich</td>\n",
       "<td class=val>0 Jahre alt</td>\n",
       "<td class=val>andere Atmungsorgane</td>\n",
       "<td class=val>0.0</td></tr><tr class=odd><td class=val>2014-12-31</td>\n",
       "<td class=val>Stadt Zürich (ab 1934)</td>\n",
       "<td class=val>weiblich</td>\n",
       "<td class=val>0 Jahre alt</td>\n",
       "<td class=val>andere Atmungsorgane</td>\n",
       "<td class=val>0.0</td></tr><tr class=even><td class=val>2014-12-31</td>\n",
       "<td class=val>Stadt Zürich (ab 1934)</td>\n",
       "<td class=val>weiblich</td>\n",
       "<td class=val>0 Jahre alt</td>\n",
       "<td class=val>andere Atmungsorgane</td>\n",
       "<td class=val>0.0</td></tr><tr class=odd><td class=val>2014-12-31</td>\n",
       "<td class=val>Stadt Zürich (ab 1934)</td>\n",
       "<td class=val>weiblich</td>\n",
       "<td class=val>0 Jahre alt</td>\n",
       "<td class=val>andere Atmungsorgane</td>\n",
       "<td class=val>0.0</td></tr><tr class=even><td class=val>2014-12-31</td>\n",
       "<td class=val>Stadt Zürich (ab 1934)</td>\n",
       "<td class=val>weiblich</td>\n",
       "<td class=val>60–64 Jahre alt</td>\n",
       "<td class=val>Harnorgane</td>\n",
       "<td class=val>0.0</td></tr><tr class=odd><td class=val>2014-12-31</td>\n",
       "<td class=val>Stadt Zürich (ab 1934)</td>\n",
       "<td class=val>weiblich</td>\n",
       "<td class=val>60–64 Jahre alt</td>\n",
       "<td class=val>Harnorgane</td>\n",
       "<td class=val>0.0</td></tr><tr class=even><td class=val>2014-12-31</td>\n",
       "<td class=val>Stadt Zürich (ab 1934)</td>\n",
       "<td class=val>weiblich</td>\n",
       "<td class=val>60–64 Jahre alt</td>\n",
       "<td class=val>Harnorgane</td>\n",
       "<td class=val>0.0</td></tr><tr class=odd><td class=val>2014-12-31</td>\n",
       "<td class=val>Stadt Zürich (ab 1934)</td>\n",
       "<td class=val>weiblich</td>\n",
       "<td class=val>60–64 Jahre alt</td>\n",
       "<td class=val>Harnorgane</td>\n",
       "<td class=val>0.0</td></tr></table><div class=\"tinfo\">Total: 15, Shown: 15</div></div>"
      ]
     },
     "metadata": {},
     "output_type": "display_data"
    }
   ],
   "source": [
    "# Let's explore one dataset at a time\n",
    "\n",
    "# https://ld.stadt-zuerich.ch/statistics/GES-ALT-SEX-TOU\n",
    "PREFIX schema: <http://schema.org/>\n",
    "PREFIX cube: <https://cube.link/>\n",
    "PREFIX ssz: <https://ld.stadt-zuerich.ch/statistics/property/>\n",
    "\n",
    "SELECT ?time ?place ?gender ?alt ?tou ?ges \n",
    "\n",
    "\n",
    "FROM <https://lindas.admin.ch/stadtzuerich/stat>\n",
    "WHERE {\n",
    "  <https://ld.stadt-zuerich.ch/statistics/GES-ALT-SEX-TOU> a cube:Cube;\n",
    "             cube:observationSet/cube:observation ?observation. \n",
    "    \n",
    "        ?observation ?p ?measure ;\n",
    "                 ssz:RAUM/schema:name ?place ;\n",
    "                 ssz:TIME ?time ;\n",
    "                 <https://ld.stadt-zuerich.ch/statistics/measure/GES> ?ges ;\n",
    "                 ssz:SEX/schema:name ?gender ;\n",
    "                 ssz:TOU/schema:name ?tou ;\n",
    "                 ssz:ALT/schema:name ?alt .\n",
    "    \n",
    "}\n",
    "LIMIT 15"
   ]
  }
 ],
 "metadata": {
  "kernelspec": {
   "display_name": "SPARQL",
   "language": "sparql",
   "name": "sparql"
  },
  "language_info": {
   "codemirror_mode": {
    "name": "sparql"
   },
   "mimetype": "application/sparql-query",
   "name": "sparql",
   "pygments_lexer": "sparql-nb"
  }
 },
 "nbformat": 4,
 "nbformat_minor": 4
}
