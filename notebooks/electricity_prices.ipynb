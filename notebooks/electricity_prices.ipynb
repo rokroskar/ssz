{
 "cells": [
  {
   "cell_type": "code",
   "execution_count": null,
   "id": "90b569b3",
   "metadata": {},
   "outputs": [],
   "source": [
    "import string\n",
    "import re\n",
    "import json\n",
    "\n",
    "import pandas as pd\n",
    "import plotly.express as px\n",
    "import matplotlib.pyplot as plt\n",
    "import seaborn as sns\n",
    "import mapclassify\n",
    "\n",
    "from graphly.api_client import SparqlClient\n",
    "\n",
    "# TODO: \n",
    "# 1. simplify geometries!!!\n",
    "# 2. Join query with swisstopo\n",
    "\n",
    "# 3. Idea: Electricity prices over time\n",
    "# 4. Idea: Can we get location of powerplants as linked data?"
   ]
  },
  {
   "cell_type": "code",
   "execution_count": null,
   "id": "97d8b781",
   "metadata": {},
   "outputs": [],
   "source": [
    "ENDPOINT = \"https://lindas.admin.ch/query\"\n",
    "\n",
    "sparql = SparqlClient(ENDPOINT)\n",
    "sparql.add_prefixes({\n",
    "    \"schema\": \"<http://schema.org/>\",\n",
    "    \"cube\": \"<https://cube.link/>\",\n",
    "    \"property\": \"<https://ld.stadt-zuerich.ch/statistics/property/>\",\n",
    "    \"measure\": \"<https://ld.stadt-zuerich.ch/statistics/measure/>\",\n",
    "    \"skos\": \"<http://www.w3.org/2004/02/skos/core#>\",\n",
    "    \"ssz\": \"<https://ld.stadt-zuerich.ch/statistics/>\"\n",
    "})"
   ]
  },
  {
   "cell_type": "code",
   "execution_count": null,
   "id": "1bccd740",
   "metadata": {},
   "outputs": [],
   "source": [
    "query = \"\"\"\n",
    "PREFIX cube: <https://cube.link/>\n",
    "PREFIX elcom: <https://energy.ld.admin.ch/elcom/electricityprice/dimension/>\n",
    "PREFIX schema: <http://schema.org/>\n",
    "\n",
    "SELECT ?municipality_uri ?category ?energy ?grid ?aidfee (?community_fees + ?aidfee as ?taxes) ?fixcosts ?variablecosts \n",
    "FROM <https://lindas.admin.ch/elcom/electricityprice>\n",
    "WHERE {\n",
    "    <https://energy.ld.admin.ch/elcom/electricityprice/observation/> cube:observation ?observation.\n",
    "    \n",
    "    ?observation\n",
    "      elcom:category/schema:name ?category;\n",
    "      elcom:municipality ?muni_iri;\n",
    "      elcom:period \"2020\"^^<http://www.w3.org/2001/XMLSchema#gYear>;\n",
    "      elcom:product <https://energy.ld.admin.ch/elcom/electricityprice/product/standard>;\n",
    "      elcom:fixcosts ?fixcosts;\n",
    "      elcom:total ?variablecosts;\n",
    "      elcom:gridusage ?grid;\n",
    "      elcom:energy ?energy;\n",
    "      elcom:charge ?community_fees;\n",
    "      elcom:aidfee ?aidfee.\n",
    "    \n",
    "    BIND(IRI(REPLACE(STR(?muni_iri),\"https://ld.admin.ch/\", \"https://ld.geo.admin.ch/boundaries/\")) AS ?municipality_uri) .\n",
    "}\n",
    "\"\"\"\n",
    "\n",
    "prices = sparql.send_query(query)\n",
    "prices.head()"
   ]
  },
  {
   "cell_type": "code",
   "execution_count": null,
   "id": "b20c3b7d",
   "metadata": {},
   "outputs": [],
   "source": [
    "query = \"\"\"\n",
    "PREFIX schema: <http://schema.org/>\n",
    "\n",
    "SELECT DISTINCT ?category ?description\n",
    "WHERE {\n",
    "  GRAPH <https://lindas.admin.ch/elcom/electricityprice> {\n",
    "    \n",
    "    ?s <https://energy.ld.admin.ch/elcom/electricityprice/dimension/category> ?category_uri.\n",
    "    ?category_uri schema:name ?category .\n",
    "    ?category_uri schema:description ?description .\n",
    "  }\n",
    "}\n",
    "ORDER BY ?category\n",
    "\"\"\"\n",
    "df = sparql.send_query(query)\n",
    "df.head()"
   ]
  },
  {
   "cell_type": "code",
   "execution_count": null,
   "id": "8dbe00be",
   "metadata": {},
   "outputs": [],
   "source": [
    "def extract_consumption(description: str) -> int:\n",
    "    \"\"\"\n",
    "    Extract average electricity consumption from a description.\n",
    "    Args:\n",
    "        description:  Category description for electricity prices\n",
    "        \n",
    "    Returns: \n",
    "        int:          Electricity consumption in kWh/year\n",
    "    \n",
    "    \"\"\"\n",
    "    \n",
    "    number_as_string = description.split(\" kWh/Jahr\")[0]\n",
    "    return int(number_as_string.translate(str.maketrans('', '', string.punctuation)))"
   ]
  },
  {
   "cell_type": "code",
   "execution_count": null,
   "id": "2a3f00ec",
   "metadata": {},
   "outputs": [],
   "source": [
    "cat2description = dict(zip(df.category, df.description))\n",
    "cat2consumption = dict(zip(df.category, [extract_consumption(d) for d in df.description]))\n",
    "\n",
    "prices[\"consumption\"] = prices[[\"category\"]].replace({\"category\": cat2consumption})\n",
    "prices[\"monthly_bill\"] = (prices.consumption*prices.variablecosts/12 + prices.fixcosts)/100\n",
    "prices.head()"
   ]
  },
  {
   "cell_type": "code",
   "execution_count": null,
   "id": "635b363a",
   "metadata": {},
   "outputs": [],
   "source": [
    "geosparql = SparqlClient(\"https://ld.geo.admin.ch/query\")\n",
    "\n",
    "query = \"\"\"\n",
    "PREFIX dct: <http://purl.org/dc/terms/>\n",
    "PREFIX geonames: <http://www.geonames.org/ontology#>\n",
    "PREFIX schema: <http://schema.org/>\n",
    "PREFIX geosparql: <http://www.opengis.net/ont/geosparql#>\n",
    "    \n",
    "SELECT ?municipality_uri ?municipality ?population ?polygon WHERE {\n",
    "  \n",
    "  ?municipality_uri dct:hasVersion ?version ;\n",
    "                geonames:featureCode geonames:A.ADM3 .\n",
    "  \n",
    "  ?version schema:validUntil \"2020-12-31\"^^<http://www.w3.org/2001/XMLSchema#date>;\n",
    "           geonames:population ?population ;\n",
    "           schema:name ?municipality .\n",
    "  \n",
    "  ?version geosparql:hasGeometry/geosparql:asWKT ?polygon\n",
    "  \n",
    "} \n",
    "\"\"\"\n",
    "communes = geosparql.send_query(query)\n",
    "communes = communes.set_crs(epsg=4326)\n",
    "communes.head()"
   ]
  },
  {
   "cell_type": "code",
   "execution_count": null,
   "id": "d08d676c",
   "metadata": {},
   "outputs": [],
   "source": [
    "join = pd.merge(communes, prices, how=\"inner\", on=\"municipality_uri\")\n",
    "join.drop(columns=[\"municipality_uri\", \"consumption\"], inplace=True)\n",
    "join.head()"
   ]
  },
  {
   "cell_type": "code",
   "execution_count": null,
   "id": "a0a62ba9",
   "metadata": {},
   "outputs": [],
   "source": [
    "def plot_prices_heatmap(category, color_palette, variable, legend_label, N):\n",
    "    \n",
    "    colors = sns.color_palette(color_palette, n_colors=N).as_hex()\n",
    "    \n",
    "    df = join[join[\"category\"] == category]\n",
    "    df = df.set_index(\"municipality\")\n",
    "\n",
    "    classifier = mapclassify.NaturalBreaks(y=df[variable], k=N)\n",
    "    df[\"buckets\"] = df[[variable]].apply(classifier)\n",
    "    labels = mapclassify.classifiers._get_mpl_labels(classifier, fmt=\"{:.0f}\")\n",
    "    labels = [\"-\".join(re.findall(r\"\\d+\", l)) for l in labels]\n",
    "    bucket2label = dict(zip(range(N), labels))\n",
    "    df = df.replace({\"buckets\": bucket2label})\n",
    "\n",
    "    colormap={bucket2label[i]: color for i, color in enumerate(colors)}\n",
    "\n",
    "    fig = px.choropleth(df, geojson=json.loads(df.to_json()), locations=df.index, \n",
    "                        color=\"buckets\",\n",
    "                        color_discrete_map=colormap,\n",
    "                        projection=\"transverse mercator\",\n",
    "                        hover_name=df.index,\n",
    "                        hover_data={\"buckets\": False, variable: ':.2f'},\n",
    "                        title=\"Electricity Prices: {}\".format(cat2description[category]),\n",
    "                        labels={\"buckets\": legend_label})\n",
    "    fig.update_geos(fitbounds=\"locations\", visible=False)\n",
    "    fig.update_layout(margin={\"r\":0,\"l\":0,\"b\":0})\n",
    "    fig.update_traces(marker_line_width=0)\n",
    "    fig.show()\n",
    "    "
   ]
  },
  {
   "cell_type": "code",
   "execution_count": null,
   "id": "023313f4",
   "metadata": {},
   "outputs": [],
   "source": [
    "colors=\"YlGn\"\n",
    "plot_prices_heatmap(\"H2\", colors, \"monthly_bill\", \"average monthly bill [CHF]\", 5)"
   ]
  },
  {
   "cell_type": "code",
   "execution_count": null,
   "id": "92907c4b",
   "metadata": {},
   "outputs": [],
   "source": [
    "plot_prices_heatmap(\"C1\", colors, 'monthly_bill', \"average monthly bill [CHF]\", 5)"
   ]
  },
  {
   "cell_type": "code",
   "execution_count": null,
   "id": "124431a8",
   "metadata": {},
   "outputs": [],
   "source": [
    "# Extension: Same map for different tariffs (side-to-side)"
   ]
  },
  {
   "cell_type": "markdown",
   "id": "1e4c1d8d",
   "metadata": {},
   "source": [
    "### Grid costs and population density \n",
    "=> which region is the most expensive to maintain\n",
    "Does that correlate with area?"
   ]
  },
  {
   "cell_type": "code",
   "execution_count": null,
   "id": "20fdc464",
   "metadata": {},
   "outputs": [],
   "source": [
    "join[\"hectares\"] = join.to_crs(epsg=3035).area/10000 # In hectares\n",
    "join[\"population_density\"] = join[\"population\"]/join[\"hectares\"]\n",
    "join.head()"
   ]
  },
  {
   "cell_type": "code",
   "execution_count": null,
   "id": "ac0776e0",
   "metadata": {},
   "outputs": [],
   "source": [
    "plot_prices_heatmap(\"C1\", \"YlOrRd\", 'population_density', \"Inhabitants per ha\", 6)"
   ]
  },
  {
   "cell_type": "code",
   "execution_count": null,
   "id": "54d95c02",
   "metadata": {},
   "outputs": [],
   "source": [
    "plot_prices_heatmap(\"C1\", \"YlOrRd\", 'grid', \"Grid usage [Rp/kWh]\", 6)"
   ]
  },
  {
   "cell_type": "code",
   "execution_count": null,
   "id": "bcb52946",
   "metadata": {},
   "outputs": [],
   "source": [
    "# Relationship between grid costs, and population density\n",
    "dff = join[join.category == \"C1\"]\n",
    "\n",
    "fig = px.scatter(dff, y=\"grid\", x=\"population_density\", hover_data=[\"municipality\"],\n",
    "                labels={\n",
    "                     \"population_density\": \"Inbahitants per ha\",\n",
    "                     \"grid\": \"Grid costs per kWh\"})\n",
    "fig.show()"
   ]
  },
  {
   "cell_type": "code",
   "execution_count": null,
   "id": "e2dd29be",
   "metadata": {},
   "outputs": [],
   "source": [
    "# Idea: add a map that shows these communes with 0 grid costs\n",
    "join = join.assign(pays_for_grid=lambda x: x.grid!=0)\n",
    "join.head()"
   ]
  },
  {
   "cell_type": "code",
   "execution_count": null,
   "id": "0d722e77",
   "metadata": {},
   "outputs": [],
   "source": [
    "df = join[join.category==\"C1\"]\n",
    "df = df.set_index(\"municipality\")\n",
    "fig = px.choropleth(df, geojson=json.loads(df.to_json()), locations=df.index, \n",
    "                    color=\"pays_for_grid\",\n",
    "                    projection=\"transverse mercator\",\n",
    "                    hover_name=df.index,\n",
    "                    #hover_data={\"buckets\": False},\n",
    "                    labels={\"pays_for_grid\": \"Paid grid usage\"})\n",
    "fig.update_geos(fitbounds=\"locations\", visible=False)\n",
    "fig.update_layout(margin={\"r\":0,\"l\":0,\"b\":0})\n",
    "fig.update_traces(marker_line_width=0)\n",
    "fig.show()"
   ]
  },
  {
   "cell_type": "code",
   "execution_count": null,
   "id": "5fb8aa6e",
   "metadata": {},
   "outputs": [],
   "source": [
    "# Idea: these communes do not pay Bundesabgaben (aidfee)\n",
    "join = join.assign(pays_aidfee=lambda x: x.aidfee!=0)\n",
    "join = join.assign(pays_energy=lambda x: (x.energy)!=0)\n",
    "\n",
    "df = join[join.category==\"C1\"]\n",
    "df = df.set_index(\"municipality\")\n",
    "data=json.loads(df.to_json())"
   ]
  },
  {
   "cell_type": "code",
   "execution_count": null,
   "id": "6d7e82f9",
   "metadata": {},
   "outputs": [],
   "source": [
    "fig = px.choropleth(df, geojson=data, locations=df.index, \n",
    "                    color=\"pays_aidfee\",\n",
    "                    projection=\"transverse mercator\",\n",
    "                    hover_name=df.index,\n",
    "                    labels={\"pays_aidfee\": \"Pays aidfee\"},\n",
    "                    color_discrete_map={True: \"#00CC96\", False: \"#AB63FA\"}\n",
    "                   )\n",
    "fig.update_geos(fitbounds=\"locations\", visible=False)\n",
    "fig.update_layout(margin={\"r\":0,\"l\":0,\"b\":0})\n",
    "fig.update_traces(marker_line_width=0)\n",
    "fig.show()"
   ]
  },
  {
   "cell_type": "code",
   "execution_count": null,
   "id": "ec5d27e2",
   "metadata": {},
   "outputs": [],
   "source": [
    "df = join[join.category==\"C4\"]\n",
    "df = df.set_index(\"municipality\")\n",
    "data=json.loads(df.to_json())\n",
    "\n",
    "fig = px.choropleth(df, geojson=data, locations=df.index, \n",
    "                    color=\"pays_energy\",\n",
    "                    projection=\"transverse mercator\",\n",
    "                    hover_name=df.index,\n",
    "                    labels={\"pays_energy\": \"Pays energy\"}\n",
    "                   )\n",
    "fig.update_geos(fitbounds=\"locations\", visible=False)\n",
    "fig.update_layout(margin={\"r\":0,\"l\":0,\"b\":0}, title=cat2description[\"C4\"])\n",
    "fig.update_traces(marker_line_width=0)\n",
    "fig.show()"
   ]
  },
  {
   "cell_type": "code",
   "execution_count": null,
   "id": "e5656e3c",
   "metadata": {},
   "outputs": [],
   "source": [
    "# Idea: Zefix\n",
    "# find companies registered in this region (and hence entitiled to free elencticity)\n",
    "# AGs in Sufers: https://s.zazuko.com/y3SDQ\n",
    "    \n",
    "df[(~df.pays_energy)]"
   ]
  },
  {
   "cell_type": "code",
   "execution_count": null,
   "id": "46ec18c6",
   "metadata": {},
   "outputs": [],
   "source": [
    "cat2description"
   ]
  },
  {
   "cell_type": "code",
   "execution_count": null,
   "id": "a56f9bb5",
   "metadata": {},
   "outputs": [],
   "source": [
    "# Idea 3: Distance centroid-powerplant. Correlate distance with the grid usage prices.\n",
    "# the further it is, the more grid infrastructure is needed, the more expensive it should get ?\n",
    "# Population density (ppl/area) + grid prices => compare\n",
    "\n",
    "name = \"viridis\"\n",
    "print(sns.color_palette(name, n_colors=15).as_hex())\n",
    "sns.color_palette(name, n_colors=10).as_hex()"
   ]
  },
  {
   "cell_type": "markdown",
   "id": "e3e88456",
   "metadata": {},
   "source": [
    "## Join DFs"
   ]
  },
  {
   "cell_type": "code",
   "execution_count": null,
   "id": "dc139676",
   "metadata": {},
   "outputs": [],
   "source": [
    "query = \"\"\"\n",
    "PREFIX cube: <https://cube.link/>\n",
    "PREFIX elcom: <https://energy.ld.admin.ch/elcom/electricityprice/dimension/>\n",
    "PREFIX schema: <http://schema.org/>\n",
    "PREFIX dct: <http://purl.org/dc/terms/>\n",
    "PREFIX geonames: <http://www.geonames.org/ontology#>\n",
    "PREFIX geosparql: <http://www.opengis.net/ont/geosparql#>\n",
    "\n",
    "SELECT ?municipality ?category ?energy ?grid (?community_fees + ?aidfee as ?taxes) ?fixcosts ?variablecosts \n",
    "FROM <https://lindas.admin.ch/elcom/electricityprice>\n",
    "WHERE {\n",
    "    <https://energy.ld.admin.ch/elcom/electricityprice/observation/> cube:observation ?observation.\n",
    "    \n",
    "    ?observation\n",
    "      elcom:category <https://energy.ld.admin.ch/elcom/electricityprice/category/H1>;\n",
    "      elcom:municipality ?muni_iri;\n",
    "      elcom:period \"2020\"^^<http://www.w3.org/2001/XMLSchema#gYear>;\n",
    "      elcom:product <https://energy.ld.admin.ch/elcom/electricityprice/product/standard>;\n",
    "      elcom:fixcosts ?fixcosts;\n",
    "      elcom:total ?variablecosts;\n",
    "      elcom:gridusage ?grid;\n",
    "      elcom:energy ?energy;\n",
    "      elcom:charge ?community_fees;\n",
    "      elcom:aidfee ?aidfee.\n",
    "    \n",
    "    BIND(IRI(REPLACE(STR(?muni_iri),\"https://ld.admin.ch/\", \"https://ld.geo.admin.ch/boundaries/\")) AS ?municipality) .\n",
    "  \n",
    "    {SERVICE <https://ld.geo.admin.ch/query> {\n",
    "      SELECT ?municipality ?name ?population ?polygon WHERE {\n",
    "        \n",
    "        ?municipality dct:hasVersion ?version ;\n",
    "                      geonames:featureCode geonames:A.ADM3 .\n",
    "        \n",
    "        ?version schema:validUntil \"2020-12-31\"^^<http://www.w3.org/2001/XMLSchema#date>;\n",
    "             geonames:population ?population ;\n",
    "             schema:name ?name .\n",
    "        \n",
    "        ?version geosparql:hasGeometry/geosparql:asWKT ?polygon\n",
    "    }\n",
    "    }}\n",
    "}\n",
    "LIMIT 500\n",
    "\"\"\"\n",
    "\n",
    "df = sparql.send_query(query)\n",
    "df.head()"
   ]
  },
  {
   "cell_type": "code",
   "execution_count": null,
   "id": "5b533fff",
   "metadata": {},
   "outputs": [],
   "source": []
  }
 ],
 "metadata": {
  "kernelspec": {
   "display_name": "ssz",
   "language": "python",
   "name": "ssz"
  },
  "language_info": {
   "codemirror_mode": {
    "name": "ipython",
    "version": 3
   },
   "file_extension": ".py",
   "mimetype": "text/x-python",
   "name": "python",
   "nbconvert_exporter": "python",
   "pygments_lexer": "ipython3",
   "version": "3.9.0"
  }
 },
 "nbformat": 4,
 "nbformat_minor": 5
}
