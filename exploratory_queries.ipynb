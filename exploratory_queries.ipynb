{
 "cells": [
  {
   "cell_type": "code",
   "execution_count": 1,
   "metadata": {},
   "outputs": [
    {
     "data": {
      "text/html": [
       "<div class=\"krn-spql\"><div class=\"magic\">Endpoint set to: https://lindas.admin.ch/query</div><div class=\"magic\">HTTP authentication: method=basic, user=public, passwd set</div><div class=\"magic\">Display: table</div></div>"
      ],
      "text/plain": [
       "Endpoint set to: https://lindas.admin.ch/query\n",
       "HTTP authentication: method=basic, user=public, passwd set\n",
       "Display: table\n"
      ]
     },
     "metadata": {},
     "output_type": "display_data"
    }
   ],
   "source": [
    "#Params\n",
    "%endpoint https://lindas.admin.ch/query\n",
    "%auth basic public public\n",
    "%display table"
   ]
  },
  {
   "cell_type": "code",
   "execution_count": 10,
   "metadata": {},
   "outputs": [
    {
     "data": {
      "text/html": [
       "<div class=\"krn-spql\"><table><tr class=hdr><th>g</th></tr><tr class=odd><td class=val><a href=\"https://linked.opendata.swiss/graph/eCH-0071\" target=\"_other\">https://linked.opendata.swiss/graph/eCH-0071</a></td></tr><tr class=even><td class=val><a href=\"https://linked.opendata.swiss/graph/BK/FederalDirectory\" target=\"_other\">https://linked.opendata.swiss/graph/BK/FederalDirectory</a></td></tr><tr class=odd><td class=val><a href=\"https://linked.opendata.swiss/graph/zh/statistics\" target=\"_other\">https://linked.opendata.swiss/graph/zh/statistics</a></td></tr><tr class=even><td class=val><a href=\"https://linked.opendata.swiss/graph/sfa/meta\" target=\"_other\">https://linked.opendata.swiss/graph/sfa/meta</a></td></tr><tr class=odd><td class=val><a href=\"https://lindas.admin.ch/nl/isil\" target=\"_other\">https://lindas.admin.ch/nl/isil</a></td></tr><tr class=even><td class=val><a href=\"https://linked.opendata.swiss/graph/blv/animalpest\" target=\"_other\">https://linked.opendata.swiss/graph/blv/animalpest</a></td></tr><tr class=odd><td class=val><a href=\"https://lindas.admin.ch/sbb/didok\" target=\"_other\">https://lindas.admin.ch/sbb/didok</a></td></tr><tr class=even><td class=val><a href=\"https://lindas.admin.ch/sbb/nova\" target=\"_other\">https://lindas.admin.ch/sbb/nova</a></td></tr></table><div class=\"tinfo\">Total: 8, Shown: 8</div></div>"
      ]
     },
     "metadata": {},
     "output_type": "display_data"
    }
   ],
   "source": [
    "# List graphs in endpoint\n",
    "SELECT DISTINCT ?g \n",
    "WHERE {\n",
    "  GRAPH ?g {\n",
    "      ?s ?p ?o;\n",
    "  }\n",
    "}"
   ]
  },
  {
   "cell_type": "code",
   "execution_count": 9,
   "metadata": {},
   "outputs": [
    {
     "data": {
      "text/html": [
       "<div class=\"krn-spql\"><table><tr class=hdr><th>cls</th>\n",
       "<th>label</th></tr><tr class=odd><td class=val><a href=\"http://schema.org/Organization\" target=\"_other\">http://schema.org/Organization</a></td>\n",
       "<td class=val></td></tr><tr class=even><td class=val><a href=\"http://lod.opentransportdata.swiss/vocab/Relation\" target=\"_other\">http://lod.opentransportdata.swiss/vocab/Relation</a></td>\n",
       "<td class=val></td></tr><tr class=odd><td class=val><a href=\"http://lod.opentransportdata.swiss/vocab/CustomerSegment\" target=\"_other\">http://lod.opentransportdata.swiss/vocab/CustomerSegment</a></td>\n",
       "<td class=val></td></tr><tr class=even><td class=val><a href=\"http://lod.opentransportdata.swiss/vocab/LocalNetwork\" target=\"_other\">http://lod.opentransportdata.swiss/vocab/LocalNetwork</a></td>\n",
       "<td class=val></td></tr><tr class=odd><td class=val><a href=\"http://lod.opentransportdata.swiss/vocab/PayLevel\" target=\"_other\">http://lod.opentransportdata.swiss/vocab/PayLevel</a></td>\n",
       "<td class=val></td></tr><tr class=even><td class=val><a href=\"http://lod.opentransportdata.swiss/vocab/Tarif\" target=\"_other\">http://lod.opentransportdata.swiss/vocab/Tarif</a></td>\n",
       "<td class=val></td></tr><tr class=odd><td class=val><a href=\"http://lod.opentransportdata.swiss/vocab/Alliance\" target=\"_other\">http://lod.opentransportdata.swiss/vocab/Alliance</a></td>\n",
       "<td class=val></td></tr><tr class=even><td class=val><a href=\"http://lod.opentransportdata.swiss/vocab/Zone\" target=\"_other\">http://lod.opentransportdata.swiss/vocab/Zone</a></td>\n",
       "<td class=val></td></tr><tr class=odd><td class=val><a href=\"http://lod.opentransportdata.swiss/vocab/ZoningPlan\" target=\"_other\">http://lod.opentransportdata.swiss/vocab/ZoningPlan</a></td>\n",
       "<td class=val></td></tr><tr class=even><td class=val><a href=\"http://lod.opentransportdata.swiss/vocab/ZoningPriceCharacteristic\" target=\"_other\">http://lod.opentransportdata.swiss/vocab/ZoningPriceCharacteristic</a></td>\n",
       "<td class=val></td></tr></table><div class=\"tinfo\">Total: 10, Shown: 10</div></div>"
      ]
     },
     "metadata": {},
     "output_type": "display_data"
    }
   ],
   "source": [
    "# List all classes\n",
    "\n",
    "PREFIX rdfs: <http://www.w3.org/2000/01/rdf-schema#>\n",
    "\n",
    "SELECT DISTINCT ?cls ?label\n",
    "FROM <https://lindas.admin.ch/sbb/nova>\n",
    "WHERE {\n",
    "  ?subject a ?cls .\n",
    "  OPTIONAL {?cls rdfs:label ?label} \n",
    "}\n",
    "LIMIT 50"
   ]
  },
  {
   "cell_type": "code",
   "execution_count": 8,
   "metadata": {},
   "outputs": [
    {
     "data": {
      "text/html": [
       "<div class=\"krn-spql\"><table><tr class=hdr><th>cls</th>\n",
       "<th>property</th></tr><tr class=odd><td class=val><a href=\"http://lod.opentransportdata.swiss/vocab/Alliance\" target=\"_other\">http://lod.opentransportdata.swiss/vocab/Alliance</a></td>\n",
       "<td class=val><a href=\"http://www.w3.org/2000/01/rdf-schema#label\" target=\"_other\">http://www.w3.org/2000/01/rdf-schema#label</a></td></tr><tr class=even><td class=val><a href=\"http://lod.opentransportdata.swiss/vocab/Alliance\" target=\"_other\">http://lod.opentransportdata.swiss/vocab/Alliance</a></td>\n",
       "<td class=val><a href=\"http://www.w3.org/1999/02/22-rdf-syntax-ns#type\" target=\"_other\">http://www.w3.org/1999/02/22-rdf-syntax-ns#type</a></td></tr><tr class=odd><td class=val><a href=\"http://lod.opentransportdata.swiss/vocab/CustomerSegment\" target=\"_other\">http://lod.opentransportdata.swiss/vocab/CustomerSegment</a></td>\n",
       "<td class=val><a href=\"http://xmlns.com/foaf/0.1/#gender\" target=\"_other\">http://xmlns.com/foaf/0.1/#gender</a></td></tr><tr class=even><td class=val><a href=\"http://lod.opentransportdata.swiss/vocab/CustomerSegment\" target=\"_other\">http://lod.opentransportdata.swiss/vocab/CustomerSegment</a></td>\n",
       "<td class=val><a href=\"http://lod.opentransportdata.swiss/vocab/maxAge\" target=\"_other\">http://lod.opentransportdata.swiss/vocab/maxAge</a></td></tr><tr class=odd><td class=val><a href=\"http://lod.opentransportdata.swiss/vocab/CustomerSegment\" target=\"_other\">http://lod.opentransportdata.swiss/vocab/CustomerSegment</a></td>\n",
       "<td class=val><a href=\"http://lod.opentransportdata.swiss/vocab/minAge\" target=\"_other\">http://lod.opentransportdata.swiss/vocab/minAge</a></td></tr><tr class=even><td class=val><a href=\"http://lod.opentransportdata.swiss/vocab/CustomerSegment\" target=\"_other\">http://lod.opentransportdata.swiss/vocab/CustomerSegment</a></td>\n",
       "<td class=val><a href=\"http://lod.opentransportdata.swiss/vocab/travellerType\" target=\"_other\">http://lod.opentransportdata.swiss/vocab/travellerType</a></td></tr><tr class=odd><td class=val><a href=\"http://lod.opentransportdata.swiss/vocab/CustomerSegment\" target=\"_other\">http://lod.opentransportdata.swiss/vocab/CustomerSegment</a></td>\n",
       "<td class=val><a href=\"http://lod.opentransportdata.swiss/vocab/relevantDiscountCancellation\" target=\"_other\">http://lod.opentransportdata.swiss/vocab/relevantDiscountCancellation</a></td></tr><tr class=even><td class=val><a href=\"http://lod.opentransportdata.swiss/vocab/CustomerSegment\" target=\"_other\">http://lod.opentransportdata.swiss/vocab/CustomerSegment</a></td>\n",
       "<td class=val><a href=\"http://lod.opentransportdata.swiss/vocab/printLabel\" target=\"_other\">http://lod.opentransportdata.swiss/vocab/printLabel</a></td></tr><tr class=odd><td class=val><a href=\"http://lod.opentransportdata.swiss/vocab/CustomerSegment\" target=\"_other\">http://lod.opentransportdata.swiss/vocab/CustomerSegment</a></td>\n",
       "<td class=val><a href=\"http://schema.org/identifier\" target=\"_other\">http://schema.org/identifier</a></td></tr><tr class=even><td class=val><a href=\"http://lod.opentransportdata.swiss/vocab/CustomerSegment\" target=\"_other\">http://lod.opentransportdata.swiss/vocab/CustomerSegment</a></td>\n",
       "<td class=val><a href=\"http://www.w3.org/2000/01/rdf-schema#label\" target=\"_other\">http://www.w3.org/2000/01/rdf-schema#label</a></td></tr><tr class=odd><td class=val><a href=\"http://lod.opentransportdata.swiss/vocab/CustomerSegment\" target=\"_other\">http://lod.opentransportdata.swiss/vocab/CustomerSegment</a></td>\n",
       "<td class=val><a href=\"http://www.w3.org/1999/02/22-rdf-syntax-ns#type\" target=\"_other\">http://www.w3.org/1999/02/22-rdf-syntax-ns#type</a></td></tr><tr class=even><td class=val><a href=\"http://lod.opentransportdata.swiss/vocab/LocalNetwork\" target=\"_other\">http://lod.opentransportdata.swiss/vocab/LocalNetwork</a></td>\n",
       "<td class=val><a href=\"http://lod.opentransportdata.swiss/vocab/alliance\" target=\"_other\">http://lod.opentransportdata.swiss/vocab/alliance</a></td></tr><tr class=odd><td class=val><a href=\"http://lod.opentransportdata.swiss/vocab/LocalNetwork\" target=\"_other\">http://lod.opentransportdata.swiss/vocab/LocalNetwork</a></td>\n",
       "<td class=val><a href=\"http://lod.opentransportdata.swiss/vocab/zoningPlan\" target=\"_other\">http://lod.opentransportdata.swiss/vocab/zoningPlan</a></td></tr><tr class=even><td class=val><a href=\"http://lod.opentransportdata.swiss/vocab/LocalNetwork\" target=\"_other\">http://lod.opentransportdata.swiss/vocab/LocalNetwork</a></td>\n",
       "<td class=val><a href=\"http://schema.org/identifier\" target=\"_other\">http://schema.org/identifier</a></td></tr><tr class=odd><td class=val><a href=\"http://lod.opentransportdata.swiss/vocab/LocalNetwork\" target=\"_other\">http://lod.opentransportdata.swiss/vocab/LocalNetwork</a></td>\n",
       "<td class=val><a href=\"http://www.w3.org/2000/01/rdf-schema#label\" target=\"_other\">http://www.w3.org/2000/01/rdf-schema#label</a></td></tr><tr class=even><td class=val><a href=\"http://lod.opentransportdata.swiss/vocab/LocalNetwork\" target=\"_other\">http://lod.opentransportdata.swiss/vocab/LocalNetwork</a></td>\n",
       "<td class=val><a href=\"http://www.w3.org/1999/02/22-rdf-syntax-ns#type\" target=\"_other\">http://www.w3.org/1999/02/22-rdf-syntax-ns#type</a></td></tr><tr class=odd><td class=val><a href=\"http://lod.opentransportdata.swiss/vocab/PayLevel\" target=\"_other\">http://lod.opentransportdata.swiss/vocab/PayLevel</a></td>\n",
       "<td class=val><a href=\"http://lod.opentransportdata.swiss/vocab/localNetwork\" target=\"_other\">http://lod.opentransportdata.swiss/vocab/localNetwork</a></td></tr><tr class=even><td class=val><a href=\"http://lod.opentransportdata.swiss/vocab/PayLevel\" target=\"_other\">http://lod.opentransportdata.swiss/vocab/PayLevel</a></td>\n",
       "<td class=val><a href=\"http://lod.opentransportdata.swiss/vocab/printTermText\" target=\"_other\">http://lod.opentransportdata.swiss/vocab/printTermText</a></td></tr><tr class=odd><td class=val><a href=\"http://lod.opentransportdata.swiss/vocab/PayLevel\" target=\"_other\">http://lod.opentransportdata.swiss/vocab/PayLevel</a></td>\n",
       "<td class=val><a href=\"http://lod.opentransportdata.swiss/vocab/screenTermText\" target=\"_other\">http://lod.opentransportdata.swiss/vocab/screenTermText</a></td></tr><tr class=even><td class=val><a href=\"http://lod.opentransportdata.swiss/vocab/PayLevel\" target=\"_other\">http://lod.opentransportdata.swiss/vocab/PayLevel</a></td>\n",
       "<td class=val><a href=\"http://lod.opentransportdata.swiss/vocab/levelTo\" target=\"_other\">http://lod.opentransportdata.swiss/vocab/levelTo</a></td></tr></table><div class=\"tinfo\">Total: 50, Shown: 20</div></div>"
      ]
     },
     "metadata": {},
     "output_type": "display_data"
    }
   ],
   "source": [
    "# List all classes with their properties\n",
    "\n",
    "SELECT DISTINCT ?cls ?property\n",
    "FROM <https://lindas.admin.ch/sbb/nova>\n",
    "WHERE {\n",
    "  ?subject a ?cls .\n",
    "  ?subject ?property ?object .\n",
    "}\n",
    "ORDER BY ?cls\n",
    "LIMIT 50"
   ]
  },
  {
   "cell_type": "code",
   "execution_count": 4,
   "metadata": {},
   "outputs": [
    {
     "data": {
      "text/html": [
       "<div class=\"krn-spql\"><table><tr class=hdr><th>property</th></tr><tr class=odd><td class=val><a href=\"http://www.w3.org/1999/02/22-rdf-syntax-ns#type\" target=\"_other\">http://www.w3.org/1999/02/22-rdf-syntax-ns#type</a></td></tr><tr class=even><td class=val><a href=\"http://www.w3.org/2000/01/rdf-schema#label\" target=\"_other\">http://www.w3.org/2000/01/rdf-schema#label</a></td></tr><tr class=odd><td class=val><a href=\"http://schema.org/alternateName\" target=\"_other\">http://schema.org/alternateName</a></td></tr><tr class=even><td class=val><a href=\"http://schema.org/identifier\" target=\"_other\">http://schema.org/identifier</a></td></tr><tr class=odd><td class=val><a href=\"http://lod.opentransportdata.swiss/vocab/printLabel\" target=\"_other\">http://lod.opentransportdata.swiss/vocab/printLabel</a></td></tr><tr class=even><td class=val><a href=\"http://www.w3.org/2006/vcard/ns#name\" target=\"_other\">http://www.w3.org/2006/vcard/ns#name</a></td></tr><tr class=odd><td class=val><a href=\"http://lod.opentransportdata.swiss/vocab/printCustomerCode\" target=\"_other\">http://lod.opentransportdata.swiss/vocab/printCustomerCode</a></td></tr><tr class=even><td class=val><a href=\"http://lod.opentransportdata.swiss/vocab/screenLabel\" target=\"_other\">http://lod.opentransportdata.swiss/vocab/screenLabel</a></td></tr></table><div class=\"tinfo\">Total: 8, Shown: 8</div></div>"
      ]
     },
     "metadata": {},
     "output_type": "display_data"
    }
   ],
   "source": [
    "# List all properties of a class\n",
    "\n",
    "PREFIX schema: <http://schema.org/>\n",
    "\n",
    "SELECT DISTINCT ?property\n",
    "FROM <https://lindas.admin.ch/sbb/nova>\n",
    "WHERE {\n",
    "  ?subject a schema:Organization;\n",
    "           ?property ?object.\n",
    "}\n",
    "LIMIT 50"
   ]
  },
  {
   "cell_type": "code",
   "execution_count": 7,
   "metadata": {},
   "outputs": [
    {
     "data": {
      "text/html": [
       "<div class=\"krn-spql\"><table><tr class=hdr><th>subject</th>\n",
       "<th>label</th></tr><tr class=odd><td class=val><a href=\"http://lod.opentransportdata.swiss/provider/801\" target=\"_other\">http://lod.opentransportdata.swiss/provider/801</a></td>\n",
       "<td class=val></td></tr><tr class=even><td class=val><a href=\"http://lod.opentransportdata.swiss/provider/827\" target=\"_other\">http://lod.opentransportdata.swiss/provider/827</a></td>\n",
       "<td class=val></td></tr><tr class=odd><td class=val><a href=\"http://lod.opentransportdata.swiss/provider/740\" target=\"_other\">http://lod.opentransportdata.swiss/provider/740</a></td>\n",
       "<td class=val></td></tr><tr class=even><td class=val><a href=\"http://lod.opentransportdata.swiss/provider/818\" target=\"_other\">http://lod.opentransportdata.swiss/provider/818</a></td>\n",
       "<td class=val></td></tr><tr class=odd><td class=val><a href=\"http://lod.opentransportdata.swiss/provider/479\" target=\"_other\">http://lod.opentransportdata.swiss/provider/479</a></td>\n",
       "<td class=val></td></tr><tr class=even><td class=val><a href=\"http://lod.opentransportdata.swiss/provider/714\" target=\"_other\">http://lod.opentransportdata.swiss/provider/714</a></td>\n",
       "<td class=val></td></tr><tr class=odd><td class=val><a href=\"http://lod.opentransportdata.swiss/provider/765\" target=\"_other\">http://lod.opentransportdata.swiss/provider/765</a></td>\n",
       "<td class=val></td></tr><tr class=even><td class=val><a href=\"http://lod.opentransportdata.swiss/provider/452\" target=\"_other\">http://lod.opentransportdata.swiss/provider/452</a></td>\n",
       "<td class=val></td></tr><tr class=odd><td class=val><a href=\"http://lod.opentransportdata.swiss/provider/464\" target=\"_other\">http://lod.opentransportdata.swiss/provider/464</a></td>\n",
       "<td class=val></td></tr><tr class=even><td class=val><a href=\"http://lod.opentransportdata.swiss/provider/474\" target=\"_other\">http://lod.opentransportdata.swiss/provider/474</a></td>\n",
       "<td class=val></td></tr><tr class=odd><td class=val><a href=\"http://lod.opentransportdata.swiss/provider/431\" target=\"_other\">http://lod.opentransportdata.swiss/provider/431</a></td>\n",
       "<td class=val></td></tr><tr class=even><td class=val><a href=\"http://lod.opentransportdata.swiss/provider/805\" target=\"_other\">http://lod.opentransportdata.swiss/provider/805</a></td>\n",
       "<td class=val></td></tr><tr class=odd><td class=val><a href=\"http://lod.opentransportdata.swiss/provider/466\" target=\"_other\">http://lod.opentransportdata.swiss/provider/466</a></td>\n",
       "<td class=val></td></tr><tr class=even><td class=val><a href=\"http://lod.opentransportdata.swiss/provider/490\" target=\"_other\">http://lod.opentransportdata.swiss/provider/490</a></td>\n",
       "<td class=val></td></tr><tr class=odd><td class=val><a href=\"http://lod.opentransportdata.swiss/provider/484\" target=\"_other\">http://lod.opentransportdata.swiss/provider/484</a></td>\n",
       "<td class=val></td></tr><tr class=even><td class=val><a href=\"http://lod.opentransportdata.swiss/provider/451\" target=\"_other\">http://lod.opentransportdata.swiss/provider/451</a></td>\n",
       "<td class=val></td></tr><tr class=odd><td class=val><a href=\"http://lod.opentransportdata.swiss/provider/435\" target=\"_other\">http://lod.opentransportdata.swiss/provider/435</a></td>\n",
       "<td class=val></td></tr><tr class=even><td class=val><a href=\"http://lod.opentransportdata.swiss/provider/441\" target=\"_other\">http://lod.opentransportdata.swiss/provider/441</a></td>\n",
       "<td class=val></td></tr><tr class=odd><td class=val><a href=\"http://lod.opentransportdata.swiss/provider/419\" target=\"_other\">http://lod.opentransportdata.swiss/provider/419</a></td>\n",
       "<td class=val></td></tr><tr class=even><td class=val><a href=\"http://lod.opentransportdata.swiss/provider/430\" target=\"_other\">http://lod.opentransportdata.swiss/provider/430</a></td>\n",
       "<td class=val></td></tr></table><div class=\"tinfo\">Total: 41, Shown: 20</div></div>"
      ]
     },
     "metadata": {},
     "output_type": "display_data"
    }
   ],
   "source": [
    "# List all instances of a class\n",
    "\n",
    "PREFIX schema: <http://schema.org/>\n",
    "\n",
    "SELECT DISTINCT ?subject ?label\n",
    "FROM <https://lindas.admin.ch/sbb/nova>\n",
    "WHERE {\n",
    "  ?subject a schema:Organization\n",
    "  OPTIONAL {schema:Organization rdfs:label ?label} \n",
    "}\n",
    "LIMIT 50"
   ]
  },
  {
   "cell_type": "code",
   "execution_count": 13,
   "metadata": {},
   "outputs": [
    {
     "data": {
      "text/html": [
       "<div class=\"krn-spql\"><table><tr class=hdr><th>p</th>\n",
       "<th>o</th></tr><tr class=odd><td class=val><a href=\"http://www.w3.org/1999/02/22-rdf-syntax-ns#type\" target=\"_other\">http://www.w3.org/1999/02/22-rdf-syntax-ns#type</a></td>\n",
       "<td class=val><a href=\"http://lod.opentransportdata.swiss/vocab/LocalNetwork\" target=\"_other\">http://lod.opentransportdata.swiss/vocab/LocalNetwork</a></td></tr><tr class=even><td class=val><a href=\"http://www.w3.org/2000/01/rdf-schema#label\" target=\"_other\">http://www.w3.org/2000/01/rdf-schema#label</a></td>\n",
       "<td class=val>Ville La Chaux-de-Fonds</td></tr><tr class=odd><td class=val><a href=\"http://schema.org/identifier\" target=\"_other\">http://schema.org/identifier</a></td>\n",
       "<td class=val>1303</td></tr><tr class=even><td class=val><a href=\"http://lod.opentransportdata.swiss/vocab/zoningPlan\" target=\"_other\">http://lod.opentransportdata.swiss/vocab/zoningPlan</a></td>\n",
       "<td class=val><a href=\"http://lod.opentransportdata.swiss/zoningplan/onde-verte/onde-verte-24h-la-chaux-de-fonds\" target=\"_other\">http://lod.opentransportdata.swiss/zoningplan/onde-verte/onde-verte-24h-la-chaux-de-fonds</a></td></tr><tr class=odd><td class=val><a href=\"http://lod.opentransportdata.swiss/vocab/alliance\" target=\"_other\">http://lod.opentransportdata.swiss/vocab/alliance</a></td>\n",
       "<td class=val>Onde Verte</td></tr></table><div class=\"tinfo\">Total: 5, Shown: 5</div></div>"
      ]
     },
     "metadata": {},
     "output_type": "display_data"
    }
   ],
   "source": [
    "# List all properties of a class instance\n",
    "\n",
    "SELECT DISTINCT *\n",
    "FROM <https://lindas.admin.ch/sbb/nova>\n",
    "WHERE {\n",
    "    <http://lod.opentransportdata.swiss/localnetwork/1303> ?p ?o\n",
    "}\n",
    "LIMIT 50"
   ]
  },
  {
   "cell_type": "code",
   "execution_count": 12,
   "metadata": {},
   "outputs": [
    {
     "data": {
      "text/html": [
       "<div class=\"krn-spql\"><table><tr class=hdr><th>org</th>\n",
       "<th>name</th>\n",
       "<th>label</th>\n",
       "<th>vcard</th>\n",
       "<th>id</th></tr><tr class=odd><td class=val><a href=\"http://lod.opentransportdata.swiss/provider/801\" target=\"_other\">http://lod.opentransportdata.swiss/provider/801</a></td>\n",
       "<td class=val>PAG</td>\n",
       "<td class=val>Postauto AG / CarPostal SA  / AutoPostale SA /  PostBus Ltd</td>\n",
       "<td class=val>Postauto AG / CarPostal SA  / AutoPostale SA /  PostBus Ltd</td>\n",
       "<td class=val>801</td></tr><tr class=even><td class=val><a href=\"http://lod.opentransportdata.swiss/provider/827\" target=\"_other\">http://lod.opentransportdata.swiss/provider/827</a></td>\n",
       "<td class=val>SVB Auto</td>\n",
       "<td class=val>SVB Auto</td>\n",
       "<td class=val>SVB Auto</td>\n",
       "<td class=val>827</td></tr><tr class=odd><td class=val><a href=\"http://lod.opentransportdata.swiss/provider/740\" target=\"_other\">http://lod.opentransportdata.swiss/provider/740</a></td>\n",
       "<td class=val>VBD</td>\n",
       "<td class=val>Verkehrsbetrieb der Landschaft Davos</td>\n",
       "<td class=val>Verkehrsbetrieb der Landschaft Davos</td>\n",
       "<td class=val>740</td></tr><tr class=even><td class=val><a href=\"http://lod.opentransportdata.swiss/provider/818\" target=\"_other\">http://lod.opentransportdata.swiss/provider/818</a></td>\n",
       "<td class=val>TPC</td>\n",
       "<td class=val>Transport Publics du Chablais</td>\n",
       "<td class=val>Transport Publics du Chablais</td>\n",
       "<td class=val>818</td></tr><tr class=odd><td class=val><a href=\"http://lod.opentransportdata.swiss/provider/479\" target=\"_other\">http://lod.opentransportdata.swiss/provider/479</a></td>\n",
       "<td class=val>CTJU</td>\n",
       "<td class=val>Communauté tarifaire jurassienne, Vagabond</td>\n",
       "<td class=val>Communauté tarifaire jurassienne, Vagabond</td>\n",
       "<td class=val>479</td></tr><tr class=even><td class=val><a href=\"http://lod.opentransportdata.swiss/provider/714\" target=\"_other\">http://lod.opentransportdata.swiss/provider/714</a></td>\n",
       "<td class=val>BS</td>\n",
       "<td class=val>BS</td>\n",
       "<td class=val>BS</td>\n",
       "<td class=val>714</td></tr><tr class=odd><td class=val><a href=\"http://lod.opentransportdata.swiss/provider/765\" target=\"_other\">http://lod.opentransportdata.swiss/provider/765</a></td>\n",
       "<td class=val>BCS</td>\n",
       "<td class=val>BCS</td>\n",
       "<td class=val>BCS</td>\n",
       "<td class=val>765</td></tr><tr class=even><td class=val><a href=\"http://lod.opentransportdata.swiss/provider/452\" target=\"_other\">http://lod.opentransportdata.swiss/provider/452</a></td>\n",
       "<td class=val>TVOst1</td>\n",
       "<td class=val>Tarifverbund Ostwind 1</td>\n",
       "<td class=val>Tarifverbund Ostwind 1</td>\n",
       "<td class=val>452</td></tr><tr class=odd><td class=val><a href=\"http://lod.opentransportdata.swiss/provider/464\" target=\"_other\">http://lod.opentransportdata.swiss/provider/464</a></td>\n",
       "<td class=val>TIA1</td>\n",
       "<td class=val>Tariffa Integrata Arcobaleno (abo)</td>\n",
       "<td class=val>Tariffa Integrata Arcobaleno (abo)</td>\n",
       "<td class=val>464</td></tr><tr class=even><td class=val><a href=\"http://lod.opentransportdata.swiss/provider/474\" target=\"_other\">http://lod.opentransportdata.swiss/provider/474</a></td>\n",
       "<td class=val>TVLUOWNW1</td>\n",
       "<td class=val>Passepartout (Abo)</td>\n",
       "<td class=val>Passepartout (Abo)</td>\n",
       "<td class=val>474</td></tr><tr class=odd><td class=val><a href=\"http://lod.opentransportdata.swiss/provider/431\" target=\"_other\">http://lod.opentransportdata.swiss/provider/431</a></td>\n",
       "<td class=val>TVZG2</td>\n",
       "<td class=val>Tarifverbund Zug</td>\n",
       "<td class=val>Tarifverbund Zug</td>\n",
       "<td class=val>431</td></tr><tr class=even><td class=val><a href=\"http://lod.opentransportdata.swiss/provider/805\" target=\"_other\">http://lod.opentransportdata.swiss/provider/805</a></td>\n",
       "<td class=val>VLM</td>\n",
       "<td class=val>Verkehrsbetrieb LIECHTENSTEINmobil</td>\n",
       "<td class=val>Verkehrsbetrieb LIECHTENSTEINmobil</td>\n",
       "<td class=val>805</td></tr><tr class=odd><td class=val><a href=\"http://lod.opentransportdata.swiss/provider/466\" target=\"_other\">http://lod.opentransportdata.swiss/provider/466</a></td>\n",
       "<td class=val>ZVV-Ost2</td>\n",
       "<td class=val>Z-Pass Ostwind-ZVV</td>\n",
       "<td class=val>Z-Pass Ostwind-ZVV</td>\n",
       "<td class=val>466</td></tr><tr class=even><td class=val><a href=\"http://lod.opentransportdata.swiss/provider/490\" target=\"_other\">http://lod.opentransportdata.swiss/provider/490</a></td>\n",
       "<td class=val>ZVV</td>\n",
       "<td class=val>ZVV</td>\n",
       "<td class=val>ZVV</td>\n",
       "<td class=val>490</td></tr><tr class=odd><td class=val><a href=\"http://lod.opentransportdata.swiss/provider/484\" target=\"_other\">http://lod.opentransportdata.swiss/provider/484</a></td>\n",
       "<td class=val>CTIFR</td>\n",
       "<td class=val>Communauté tarifaire fribourgeoise, Frimobil</td>\n",
       "<td class=val>Communauté tarifaire fribourgeoise, Frimobil</td>\n",
       "<td class=val>484</td></tr><tr class=even><td class=val><a href=\"http://lod.opentransportdata.swiss/provider/451\" target=\"_other\">http://lod.opentransportdata.swiss/provider/451</a></td>\n",
       "<td class=val>TVSZ</td>\n",
       "<td class=val>Tarifverbund Schwyz</td>\n",
       "<td class=val>Tarifverbund Schwyz</td>\n",
       "<td class=val>451</td></tr><tr class=odd><td class=val><a href=\"http://lod.opentransportdata.swiss/provider/435\" target=\"_other\">http://lod.opentransportdata.swiss/provider/435</a></td>\n",
       "<td class=val>TVAG3</td>\n",
       "<td class=val>Tarifverbund Aargau, A-Welle</td>\n",
       "<td class=val>Tarifverbund Aargau, A-Welle</td>\n",
       "<td class=val>435</td></tr><tr class=even><td class=val><a href=\"http://lod.opentransportdata.swiss/provider/441\" target=\"_other\">http://lod.opentransportdata.swiss/provider/441</a></td>\n",
       "<td class=val>CTNE2</td>\n",
       "<td class=val>Communauté tarifaire neuchâteloise</td>\n",
       "<td class=val>Communauté tarifaire neuchâteloise</td>\n",
       "<td class=val>441</td></tr><tr class=odd><td class=val><a href=\"http://lod.opentransportdata.swiss/provider/419\" target=\"_other\">http://lod.opentransportdata.swiss/provider/419</a></td>\n",
       "<td class=val>Léman Pass</td>\n",
       "<td class=val>Léman Pass</td>\n",
       "<td class=val>Léman Pass</td>\n",
       "<td class=val>419</td></tr><tr class=even><td class=val><a href=\"http://lod.opentransportdata.swiss/provider/430\" target=\"_other\">http://lod.opentransportdata.swiss/provider/430</a></td>\n",
       "<td class=val>TransReno</td>\n",
       "<td class=val>Tarifverbund TransReno</td>\n",
       "<td class=val>Tarifverbund TransReno</td>\n",
       "<td class=val>430</td></tr></table><div class=\"tinfo\">Total: 41, Shown: 20</div></div>"
      ]
     },
     "metadata": {},
     "output_type": "display_data"
    }
   ],
   "source": [
    "# Get values for selected properties \n",
    "PREFIX vcard: <http://www.w3.org/2006/vcard/ns#>\n",
    "PREFIX schema: <http://schema.org/>\n",
    "PREFIX rdfs: <http://www.w3.org/2000/01/rdf-schema#>\n",
    "\n",
    "SELECT *\n",
    "FROM <https://lindas.admin.ch/sbb/nova>\n",
    "WHERE {\n",
    "    ?org a schema:Organization;\n",
    "        schema:alternateName ?name;\n",
    "        rdfs:label ?label;\n",
    "  \t\tvcard:name ?vcard;\n",
    "      \tschema:identifier ?id.\n",
    "}\n",
    "LIMIT 50"
   ]
  },
  {
   "cell_type": "code",
   "execution_count": 14,
   "metadata": {},
   "outputs": [
    {
     "data": {
      "text/html": [
       "<div class=\"krn-spql\"><table><tr class=hdr><th>org</th>\n",
       "<th>name</th>\n",
       "<th>label</th>\n",
       "<th>vcard</th>\n",
       "<th>id</th>\n",
       "<th>value</th></tr><tr class=odd><td class=val><a href=\"http://lod.opentransportdata.swiss/provider/801\" target=\"_other\">http://lod.opentransportdata.swiss/provider/801</a></td>\n",
       "<td class=val>PAG</td>\n",
       "<td class=val>Postauto AG / CarPostal SA  / AutoPostale SA /  PostBus Ltd</td>\n",
       "<td class=val>Postauto AG / CarPostal SA  / AutoPostale SA /  PostBus Ltd</td>\n",
       "<td class=val>801</td>\n",
       "<td class=val>801</td></tr><tr class=even><td class=val><a href=\"http://lod.opentransportdata.swiss/provider/827\" target=\"_other\">http://lod.opentransportdata.swiss/provider/827</a></td>\n",
       "<td class=val>SVB Auto</td>\n",
       "<td class=val>SVB Auto</td>\n",
       "<td class=val>SVB Auto</td>\n",
       "<td class=val>827</td>\n",
       "<td class=val>827</td></tr><tr class=odd><td class=val><a href=\"http://lod.opentransportdata.swiss/provider/818\" target=\"_other\">http://lod.opentransportdata.swiss/provider/818</a></td>\n",
       "<td class=val>TPC</td>\n",
       "<td class=val>Transport Publics du Chablais</td>\n",
       "<td class=val>Transport Publics du Chablais</td>\n",
       "<td class=val>818</td>\n",
       "<td class=val>818</td></tr><tr class=even><td class=val><a href=\"http://lod.opentransportdata.swiss/provider/805\" target=\"_other\">http://lod.opentransportdata.swiss/provider/805</a></td>\n",
       "<td class=val>VLM</td>\n",
       "<td class=val>Verkehrsbetrieb LIECHTENSTEINmobil</td>\n",
       "<td class=val>Verkehrsbetrieb LIECHTENSTEINmobil</td>\n",
       "<td class=val>805</td>\n",
       "<td class=val>805</td></tr></table><div class=\"tinfo\">Total: 4, Shown: 4</div></div>"
      ]
     },
     "metadata": {},
     "output_type": "display_data"
    }
   ],
   "source": [
    "# Filter row by property value\n",
    "PREFIX vcard: <http://www.w3.org/2006/vcard/ns#>\n",
    "PREFIX schema: <http://schema.org/>\n",
    "PREFIX rdfs: <http://www.w3.org/2000/01/rdf-schema#>\n",
    "\n",
    "SELECT *\n",
    "FROM <https://lindas.admin.ch/sbb/nova>\n",
    "WHERE {\n",
    "    ?org a schema:Organization;\n",
    "        schema:alternateName ?name;\n",
    "        rdfs:label ?label;\n",
    "  \t\tvcard:name ?vcard;\n",
    "      \tschema:identifier ?id;\n",
    "        schema:identifier ?value;\n",
    "        FILTER(?value IN (\"827\", \"801\", \"818\", \"805\"))\n",
    "}\n",
    "LIMIT 50"
   ]
  },
  {
   "cell_type": "code",
   "execution_count": null,
   "metadata": {},
   "outputs": [],
   "source": []
  }
 ],
 "metadata": {
  "kernelspec": {
   "display_name": "SPARQL",
   "language": "sparql",
   "name": "sparql"
  },
  "language_info": {
   "codemirror_mode": {
    "name": "sparql"
   },
   "mimetype": "application/sparql-query",
   "name": "sparql",
   "pygments_lexer": "sparql-nb"
  }
 },
 "nbformat": 4,
 "nbformat_minor": 4
}
