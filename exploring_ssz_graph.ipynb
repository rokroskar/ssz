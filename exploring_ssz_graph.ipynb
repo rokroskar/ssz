{
 "cells": [
  {
   "cell_type": "code",
   "execution_count": 21,
   "metadata": {},
   "outputs": [
    {
     "data": {
      "text/html": [
       "<div class=\"krn-spql\"><div class=\"magic\">Endpoint set to: https://test.lindas.admin.ch/query</div><div class=\"magic\">HTTP authentication: method=basic, user=public, passwd set</div><div class=\"magic\">Display: table</div><div class=\"magic\">Result maximum size: 80</div></div>"
      ],
      "text/plain": [
       "Endpoint set to: https://test.lindas.admin.ch/query\n",
       "HTTP authentication: method=basic, user=public, passwd set\n",
       "Display: table\n",
       "Result maximum size: 80\n"
      ]
     },
     "metadata": {},
     "output_type": "display_data"
    }
   ],
   "source": [
    "#Params\n",
    "%endpoint https://test.lindas.admin.ch/query\n",
    "%auth basic public public\n",
    "%display table\n",
    "\n",
    "%show 80"
   ]
  },
  {
   "cell_type": "markdown",
   "metadata": {},
   "source": [
    "## Graphs\n",
    "\n",
    "One endpoint can contain multiple graphs. You can see what graphs are available using `WHERE` and `GRAPH` statements. \n",
    "\n",
    "Let's see what graphs are available in our endpoint."
   ]
  },
  {
   "cell_type": "code",
   "execution_count": 22,
   "metadata": {},
   "outputs": [
    {
     "data": {
      "text/html": [
       "<div class=\"krn-spql\"><table><tr class=hdr><th>g</th></tr><tr class=odd><td class=val><a href=\"https://lindas-data.ch/graph/bafu/wald\" target=\"_other\">https://lindas-data.ch/graph/bafu/wald</a></td></tr><tr class=even><td class=val><a href=\"https://linked.opendata.swiss/graph/FOT/didok\" target=\"_other\">https://linked.opendata.swiss/graph/FOT/didok</a></td></tr><tr class=odd><td class=val><a href=\"https://linked.opendata.swiss/graph/SBB/rollingstock\" target=\"_other\">https://linked.opendata.swiss/graph/SBB/rollingstock</a></td></tr><tr class=even><td class=val><a href=\"https://linked.opendata.swiss/graph/SBB/dailytraintrips\" target=\"_other\">https://linked.opendata.swiss/graph/SBB/dailytraintrips</a></td></tr><tr class=odd><td class=val><a href=\"https://linked.opendata.swiss/graph/eCH-0071\" target=\"_other\">https://linked.opendata.swiss/graph/eCH-0071</a></td></tr><tr class=even><td class=val><a href=\"https://linked.opendata.swiss/graph/blv/animalpest\" target=\"_other\">https://linked.opendata.swiss/graph/blv/animalpest</a></td></tr><tr class=odd><td class=val><a href=\"https://lindas-data.ch/graph/elcom/strompreise\" target=\"_other\">https://lindas-data.ch/graph/elcom/strompreise</a></td></tr><tr class=even><td class=val><a href=\"https://linked.opendata.swiss/graph/FOEN/UBD28\" target=\"_other\">https://linked.opendata.swiss/graph/FOEN/UBD28</a></td></tr><tr class=odd><td class=val><a href=\"https://linked.opendata.swiss/graph/FOEN/UBD66\" target=\"_other\">https://linked.opendata.swiss/graph/FOEN/UBD66</a></td></tr><tr class=even><td class=val><a href=\"https://linked.opendata.swiss/graph/sbb/nova\" target=\"_other\">https://linked.opendata.swiss/graph/sbb/nova</a></td></tr><tr class=odd><td class=val><a href=\"https://linked.opendata.swiss/graph/blw/productsales\" target=\"_other\">https://linked.opendata.swiss/graph/blw/productsales</a></td></tr><tr class=even><td class=val><a href=\"https://linked.opendata.swiss/graph/sbb/didok\" target=\"_other\">https://linked.opendata.swiss/graph/sbb/didok</a></td></tr><tr class=odd><td class=val><a href=\"https://lindas.admin.ch/sfoe/energyproduction\" target=\"_other\">https://lindas.admin.ch/sfoe/energyproduction</a></td></tr><tr class=even><td class=val><a href=\"https://linked.opendata.swiss/graph/plazi\" target=\"_other\">https://linked.opendata.swiss/graph/plazi</a></td></tr><tr class=odd><td class=val><a href=\"https://lindas.admin.ch/nl/isil\" target=\"_other\">https://lindas.admin.ch/nl/isil</a></td></tr><tr class=even><td class=val><a href=\"https://lindas.admin.ch/meta\" target=\"_other\">https://lindas.admin.ch/meta</a></td></tr><tr class=odd><td class=val><a href=\"https://lindas.admin.ch/stadtzuerich/stat\" target=\"_other\">https://lindas.admin.ch/stadtzuerich/stat</a></td></tr><tr class=even><td class=val><a href=\"https://lindas.admin.ch/elcom/electricityprice\" target=\"_other\">https://lindas.admin.ch/elcom/electricityprice</a></td></tr><tr class=odd><td class=val><a href=\"https://lindas.admin.ch/fso/agvch\" target=\"_other\">https://lindas.admin.ch/fso/agvch</a></td></tr><tr class=even><td class=val><a href=\"https://lindas.admin.ch/foen/cube\" target=\"_other\">https://lindas.admin.ch/foen/cube</a></td></tr><tr class=odd><td class=val><a href=\"https://lindas.admin.ch/sfa/opendataswiss\" target=\"_other\">https://lindas.admin.ch/sfa/opendataswiss</a></td></tr><tr class=even><td class=val><a href=\"https://lindas.admin.ch/ontologies\" target=\"_other\">https://lindas.admin.ch/ontologies</a></td></tr><tr class=odd><td class=val><a href=\"https://lindas.admin.ch/foen/cube-test\" target=\"_other\">https://lindas.admin.ch/foen/cube-test</a></td></tr><tr class=even><td class=val><a href=\"https://lindas.admin.ch/cube/dimension\" target=\"_other\">https://lindas.admin.ch/cube/dimension</a></td></tr><tr class=odd><td class=val><a href=\"https://lindas.admin.ch/agroscope/bil-p-full\" target=\"_other\">https://lindas.admin.ch/agroscope/bil-p-full</a></td></tr><tr class=even><td class=val><a href=\"https://linked.opendata.swiss/graph/zh/statistics/meta\" target=\"_other\">https://linked.opendata.swiss/graph/zh/statistics/meta</a></td></tr><tr class=odd><td class=val><a href=\"https://lindas.admin.ch/foen/cube/wsl\" target=\"_other\">https://lindas.admin.ch/foen/cube/wsl</a></td></tr><tr class=even><td class=val><a href=\"https://lindas.admin.ch/foen/themes\" target=\"_other\">https://lindas.admin.ch/foen/themes</a></td></tr></table><div class=\"tinfo\">Total: 28, Shown: 28</div></div>"
      ]
     },
     "metadata": {},
     "output_type": "display_data"
    }
   ],
   "source": [
    "# List graphs in endpoint\n",
    "SELECT DISTINCT ?g \n",
    "WHERE {\n",
    "  GRAPH ?g {\n",
    "      ?s ?p ?o;\n",
    "  }\n",
    "}"
   ]
  },
  {
   "cell_type": "markdown",
   "metadata": {},
   "source": [
    "The graphs have potentilly nothing in common. They are just stored in the same database instance. \n",
    "\n",
    "Here, we have the one endpoint storing information on subject as diverse as train timetable, electricity prices, or animal diseases:\n",
    "\n",
    "* trains timetable (https://lindas.admin.ch/sbb/setactual)\n",
    "* electricity prices (https://lindas.admin.ch/elcom/electricityprice)\n",
    "* animal diseases (https://linked.opendata.swiss/fsvo/animalpest)\n",
    "\n",
    "All those graphs can be accessed from the same SPARQL endpoint."
   ]
  },
  {
   "cell_type": "markdown",
   "metadata": {},
   "source": [
    "### Exploring a graph\n",
    "Let's explore the dataset from Zurich Statistical Office.\n",
    "\n",
    "The correspondig graph can be accessed with this uri:\n",
    "https://lindas.admin.ch/stadtzuerich/stat/views\n"
   ]
  },
  {
   "cell_type": "code",
   "execution_count": 24,
   "metadata": {},
   "outputs": [
    {
     "data": {
      "text/html": [
       "<div class=\"krn-spql\"><table><tr class=hdr><th>p</th></tr><tr class=odd><td class=val><a href=\"http://www.w3.org/1999/02/22-rdf-syntax-ns#type\" target=\"_other\">http://www.w3.org/1999/02/22-rdf-syntax-ns#type</a></td></tr><tr class=even><td class=val><a href=\"http://www.w3.org/2004/02/skos/core#notation\" target=\"_other\">http://www.w3.org/2004/02/skos/core#notation</a></td></tr><tr class=odd><td class=val><a href=\"http://www.w3.org/ns/shacl#closed\" target=\"_other\">http://www.w3.org/ns/shacl#closed</a></td></tr><tr class=even><td class=val><a href=\"http://www.w3.org/ns/shacl#property\" target=\"_other\">http://www.w3.org/ns/shacl#property</a></td></tr><tr class=odd><td class=val><a href=\"http://www.w3.org/ns/shacl#path\" target=\"_other\">http://www.w3.org/ns/shacl#path</a></td></tr><tr class=even><td class=val><a href=\"http://www.w3.org/ns/shacl#in\" target=\"_other\">http://www.w3.org/ns/shacl#in</a></td></tr><tr class=odd><td class=val><a href=\"http://www.w3.org/ns/shacl#nodeKind\" target=\"_other\">http://www.w3.org/ns/shacl#nodeKind</a></td></tr><tr class=even><td class=val><a href=\"http://www.w3.org/ns/shacl#datatype\" target=\"_other\">http://www.w3.org/ns/shacl#datatype</a></td></tr><tr class=odd><td class=val><a href=\"http://www.w3.org/ns/shacl#minCount\" target=\"_other\">http://www.w3.org/ns/shacl#minCount</a></td></tr><tr class=even><td class=val><a href=\"http://www.w3.org/ns/shacl#maxCount\" target=\"_other\">http://www.w3.org/ns/shacl#maxCount</a></td></tr><tr class=odd><td class=val><a href=\"http://www.w3.org/ns/shacl#minInclusive\" target=\"_other\">http://www.w3.org/ns/shacl#minInclusive</a></td></tr><tr class=even><td class=val><a href=\"http://www.w3.org/ns/shacl#maxInclusive\" target=\"_other\">http://www.w3.org/ns/shacl#maxInclusive</a></td></tr><tr class=odd><td class=val><a href=\"http://www.w3.org/1999/02/22-rdf-syntax-ns#first\" target=\"_other\">http://www.w3.org/1999/02/22-rdf-syntax-ns#first</a></td></tr><tr class=even><td class=val><a href=\"http://www.w3.org/1999/02/22-rdf-syntax-ns#rest\" target=\"_other\">http://www.w3.org/1999/02/22-rdf-syntax-ns#rest</a></td></tr><tr class=odd><td class=val><a href=\"http://schema.org/identifier\" target=\"_other\">http://schema.org/identifier</a></td></tr><tr class=even><td class=val><a href=\"http://www.w3.org/2004/02/skos/core#prefLabel\" target=\"_other\">http://www.w3.org/2004/02/skos/core#prefLabel</a></td></tr><tr class=odd><td class=val><a href=\"http://schema.org/name\" target=\"_other\">http://schema.org/name</a></td></tr><tr class=even><td class=val><a href=\"http://www.w3.org/2004/02/skos/core#inScheme\" target=\"_other\">http://www.w3.org/2004/02/skos/core#inScheme</a></td></tr><tr class=odd><td class=val><a href=\"http://schema.org/description\" target=\"_other\">http://schema.org/description</a></td></tr><tr class=even><td class=val><a href=\"https://ld.stadt-zuerich.ch/statistics/property/ZEIT\" target=\"_other\">https://ld.stadt-zuerich.ch/statistics/property/ZEIT</a></td></tr><tr class=odd><td class=val><a href=\"https://ld.stadt-zuerich.ch/statistics/property/RAUM\" target=\"_other\">https://ld.stadt-zuerich.ch/statistics/property/RAUM</a></td></tr><tr class=even><td class=val><a href=\"https://ld.stadt-zuerich.ch/statistics/property/ALT\" target=\"_other\">https://ld.stadt-zuerich.ch/statistics/property/ALT</a></td></tr><tr class=odd><td class=val><a href=\"https://ld.stadt-zuerich.ch/statistics/measure/BEW\" target=\"_other\">https://ld.stadt-zuerich.ch/statistics/measure/BEW</a></td></tr><tr class=even><td class=val><a href=\"https://ld.stadt-zuerich.ch/statistics/attribute/KORREKTUR\" target=\"_other\">https://ld.stadt-zuerich.ch/statistics/attribute/KORREKTUR</a></td></tr><tr class=odd><td class=val><a href=\"https://ld.stadt-zuerich.ch/statistics/property/BTA\" target=\"_other\">https://ld.stadt-zuerich.ch/statistics/property/BTA</a></td></tr><tr class=even><td class=val><a href=\"https://ld.stadt-zuerich.ch/statistics/measure/AST\" target=\"_other\">https://ld.stadt-zuerich.ch/statistics/measure/AST</a></td></tr><tr class=odd><td class=val><a href=\"https://ld.stadt-zuerich.ch/statistics/property/EAP\" target=\"_other\">https://ld.stadt-zuerich.ch/statistics/property/EAP</a></td></tr><tr class=even><td class=val><a href=\"https://ld.stadt-zuerich.ch/statistics/measure/WRT\" target=\"_other\">https://ld.stadt-zuerich.ch/statistics/measure/WRT</a></td></tr><tr class=odd><td class=val><a href=\"https://ld.stadt-zuerich.ch/statistics/property/SEX\" target=\"_other\">https://ld.stadt-zuerich.ch/statistics/property/SEX</a></td></tr><tr class=even><td class=val><a href=\"https://ld.stadt-zuerich.ch/statistics/property/TOU\" target=\"_other\">https://ld.stadt-zuerich.ch/statistics/property/TOU</a></td></tr><tr class=odd><td class=val><a href=\"https://ld.stadt-zuerich.ch/statistics/measure/GES\" target=\"_other\">https://ld.stadt-zuerich.ch/statistics/measure/GES</a></td></tr><tr class=even><td class=val><a href=\"https://ld.stadt-zuerich.ch/statistics/property/TIG\" target=\"_other\">https://ld.stadt-zuerich.ch/statistics/property/TIG</a></td></tr><tr class=odd><td class=val><a href=\"https://ld.stadt-zuerich.ch/statistics/measure/TII\" target=\"_other\">https://ld.stadt-zuerich.ch/statistics/measure/TII</a></td></tr><tr class=even><td class=val><a href=\"http://qudt.org/vocab/unit#unit\" target=\"_other\">http://qudt.org/vocab/unit#unit</a></td></tr><tr class=odd><td class=val><a href=\"http://www.w3.org/2004/02/skos/core#scopeNote\" target=\"_other\">http://www.w3.org/2004/02/skos/core#scopeNote</a></td></tr><tr class=even><td class=val><a href=\"https://ld.stadt-zuerich.ch/schema/rounding\" target=\"_other\">https://ld.stadt-zuerich.ch/schema/rounding</a></td></tr><tr class=odd><td class=val><a href=\"http://www.w3.org/2004/02/skos/core#member\" target=\"_other\">http://www.w3.org/2004/02/skos/core#member</a></td></tr><tr class=even><td class=val><a href=\"http://schema.org/position\" target=\"_other\">http://schema.org/position</a></td></tr><tr class=odd><td class=val><a href=\"http://schema.org/sameAs\" target=\"_other\">http://schema.org/sameAs</a></td></tr><tr class=even><td class=val><a href=\"https://ld.stadt-zuerich.ch/statistics/measure/TIA\" target=\"_other\">https://ld.stadt-zuerich.ch/statistics/measure/TIA</a></td></tr><tr class=odd><td class=val><a href=\"https://ld.stadt-zuerich.ch/statistics/property/BEW\" target=\"_other\">https://ld.stadt-zuerich.ch/statistics/property/BEW</a></td></tr><tr class=even><td class=val><a href=\"https://ld.stadt-zuerich.ch/statistics/measure/BES\" target=\"_other\">https://ld.stadt-zuerich.ch/statistics/measure/BES</a></td></tr><tr class=odd><td class=val><a href=\"https://ld.stadt-zuerich.ch/statistics/property/HEL\" target=\"_other\">https://ld.stadt-zuerich.ch/statistics/property/HEL</a></td></tr><tr class=even><td class=val><a href=\"https://ld.stadt-zuerich.ch/statistics/measure/ZUS\" target=\"_other\">https://ld.stadt-zuerich.ch/statistics/measure/ZUS</a></td></tr><tr class=odd><td class=val><a href=\"https://ld.stadt-zuerich.ch/statistics/property/ZSA\" target=\"_other\">https://ld.stadt-zuerich.ch/statistics/property/ZSA</a></td></tr><tr class=even><td class=val><a href=\"https://ld.stadt-zuerich.ch/statistics/measure/WHG\" target=\"_other\">https://ld.stadt-zuerich.ch/statistics/measure/WHG</a></td></tr><tr class=odd><td class=val><a href=\"https://ld.stadt-zuerich.ch/statistics/property/ZIM\" target=\"_other\">https://ld.stadt-zuerich.ch/statistics/property/ZIM</a></td></tr><tr class=even><td class=val><a href=\"https://ld.stadt-zuerich.ch/statistics/measure/WHA\" target=\"_other\">https://ld.stadt-zuerich.ch/statistics/measure/WHA</a></td></tr><tr class=odd><td class=val><a href=\"https://ld.stadt-zuerich.ch/statistics/measure/ZIM\" target=\"_other\">https://ld.stadt-zuerich.ch/statistics/measure/ZIM</a></td></tr><tr class=even><td class=val><a href=\"https://ld.stadt-zuerich.ch/statistics/property/WHA\" target=\"_other\">https://ld.stadt-zuerich.ch/statistics/property/WHA</a></td></tr><tr class=odd><td class=val><a href=\"https://ld.stadt-zuerich.ch/statistics/measure/APZ\" target=\"_other\">https://ld.stadt-zuerich.ch/statistics/measure/APZ</a></td></tr><tr class=even><td class=val><a href=\"https://ld.stadt-zuerich.ch/statistics/property/GGH\" target=\"_other\">https://ld.stadt-zuerich.ch/statistics/property/GGH</a></td></tr><tr class=odd><td class=val><a href=\"https://ld.stadt-zuerich.ch/statistics/measure/ANT\" target=\"_other\">https://ld.stadt-zuerich.ch/statistics/measure/ANT</a></td></tr><tr class=even><td class=val><a href=\"https://cube.link/observationSet\" target=\"_other\">https://cube.link/observationSet</a></td></tr><tr class=odd><td class=val><a href=\"https://cube.link/observationConstraint\" target=\"_other\">https://cube.link/observationConstraint</a></td></tr><tr class=even><td class=val><a href=\"https://cube.link/observation\" target=\"_other\">https://cube.link/observation</a></td></tr><tr class=odd><td class=val><a href=\"https://cube.link/observedBy\" target=\"_other\">https://cube.link/observedBy</a></td></tr><tr class=even><td class=val><a href=\"https://ld.stadt-zuerich.ch/schema/hasEnd\" target=\"_other\">https://ld.stadt-zuerich.ch/schema/hasEnd</a></td></tr><tr class=odd><td class=val><a href=\"https://ld.stadt-zuerich.ch/schema/referenceTime\" target=\"_other\">https://ld.stadt-zuerich.ch/schema/referenceTime</a></td></tr><tr class=even><td class=val><a href=\"https://ld.stadt-zuerich.ch/schema/hasBeginning\" target=\"_other\">https://ld.stadt-zuerich.ch/schema/hasBeginning</a></td></tr><tr class=odd><td class=val><a href=\"https://ld.stadt-zuerich.ch/statistics/property/TIME\" target=\"_other\">https://ld.stadt-zuerich.ch/statistics/property/TIME</a></td></tr></table><div class=\"tinfo\">Total: 61, Shown: 61</div></div>"
      ]
     },
     "metadata": {},
     "output_type": "display_data"
    }
   ],
   "source": [
    "# List graphs in endpoint\n",
    "SELECT DISTINCT ?p\n",
    "WHERE {\n",
    "  GRAPH <https://lindas.admin.ch/stadtzuerich/stat> {\n",
    "      ?s ?p ?o;\n",
    "  }\n",
    "}"
   ]
  },
  {
   "cell_type": "markdown",
   "metadata": {},
   "source": [
    "As we can see, there are 61 different properties. The query above will give you access to all of them. \n",
    "\n",
    "To access only few selected properties, use `LIMIT` and `OFFSET` statements.\n",
    "* `LIMIT` allows you to get limited number of triples. `LIMIT 10` will result in 10 results only. \n",
    "* `OFFSET` allows you to set a starting index for `LIMIT`. `OFFSET 20` means first 20 results will be skipped, and results from 21st only will be returned.\n",
    "\n",
    "`LIMIT 20 OFFSET 20` will return all triples indexed between 21 and 40. "
   ]
  },
  {
   "cell_type": "markdown",
   "metadata": {},
   "source": [
    "Let's explore next classes 21 to 40 in our graph."
   ]
  },
  {
   "cell_type": "code",
   "execution_count": 25,
   "metadata": {},
   "outputs": [
    {
     "data": {
      "text/html": [
       "<div class=\"krn-spql\"><table><tr class=hdr><th>p</th></tr><tr class=odd><td class=val><a href=\"https://ld.stadt-zuerich.ch/statistics/property/RAUM\" target=\"_other\">https://ld.stadt-zuerich.ch/statistics/property/RAUM</a></td></tr><tr class=even><td class=val><a href=\"https://ld.stadt-zuerich.ch/statistics/property/ALT\" target=\"_other\">https://ld.stadt-zuerich.ch/statistics/property/ALT</a></td></tr><tr class=odd><td class=val><a href=\"https://ld.stadt-zuerich.ch/statistics/measure/BEW\" target=\"_other\">https://ld.stadt-zuerich.ch/statistics/measure/BEW</a></td></tr><tr class=even><td class=val><a href=\"https://ld.stadt-zuerich.ch/statistics/attribute/KORREKTUR\" target=\"_other\">https://ld.stadt-zuerich.ch/statistics/attribute/KORREKTUR</a></td></tr><tr class=odd><td class=val><a href=\"https://ld.stadt-zuerich.ch/statistics/property/BTA\" target=\"_other\">https://ld.stadt-zuerich.ch/statistics/property/BTA</a></td></tr><tr class=even><td class=val><a href=\"https://ld.stadt-zuerich.ch/statistics/measure/AST\" target=\"_other\">https://ld.stadt-zuerich.ch/statistics/measure/AST</a></td></tr><tr class=odd><td class=val><a href=\"https://ld.stadt-zuerich.ch/statistics/property/EAP\" target=\"_other\">https://ld.stadt-zuerich.ch/statistics/property/EAP</a></td></tr><tr class=even><td class=val><a href=\"https://ld.stadt-zuerich.ch/statistics/measure/WRT\" target=\"_other\">https://ld.stadt-zuerich.ch/statistics/measure/WRT</a></td></tr><tr class=odd><td class=val><a href=\"https://ld.stadt-zuerich.ch/statistics/property/SEX\" target=\"_other\">https://ld.stadt-zuerich.ch/statistics/property/SEX</a></td></tr><tr class=even><td class=val><a href=\"https://ld.stadt-zuerich.ch/statistics/property/TOU\" target=\"_other\">https://ld.stadt-zuerich.ch/statistics/property/TOU</a></td></tr><tr class=odd><td class=val><a href=\"https://ld.stadt-zuerich.ch/statistics/measure/GES\" target=\"_other\">https://ld.stadt-zuerich.ch/statistics/measure/GES</a></td></tr><tr class=even><td class=val><a href=\"https://ld.stadt-zuerich.ch/statistics/property/TIG\" target=\"_other\">https://ld.stadt-zuerich.ch/statistics/property/TIG</a></td></tr><tr class=odd><td class=val><a href=\"https://ld.stadt-zuerich.ch/statistics/measure/TII\" target=\"_other\">https://ld.stadt-zuerich.ch/statistics/measure/TII</a></td></tr><tr class=even><td class=val><a href=\"http://qudt.org/vocab/unit#unit\" target=\"_other\">http://qudt.org/vocab/unit#unit</a></td></tr><tr class=odd><td class=val><a href=\"http://www.w3.org/2004/02/skos/core#scopeNote\" target=\"_other\">http://www.w3.org/2004/02/skos/core#scopeNote</a></td></tr><tr class=even><td class=val><a href=\"https://ld.stadt-zuerich.ch/schema/rounding\" target=\"_other\">https://ld.stadt-zuerich.ch/schema/rounding</a></td></tr><tr class=odd><td class=val><a href=\"http://www.w3.org/2004/02/skos/core#member\" target=\"_other\">http://www.w3.org/2004/02/skos/core#member</a></td></tr><tr class=even><td class=val><a href=\"http://schema.org/position\" target=\"_other\">http://schema.org/position</a></td></tr><tr class=odd><td class=val><a href=\"http://schema.org/sameAs\" target=\"_other\">http://schema.org/sameAs</a></td></tr><tr class=even><td class=val><a href=\"https://ld.stadt-zuerich.ch/statistics/measure/TIA\" target=\"_other\">https://ld.stadt-zuerich.ch/statistics/measure/TIA</a></td></tr></table><div class=\"tinfo\">Total: 20, Shown: 20</div></div>"
      ]
     },
     "metadata": {},
     "output_type": "display_data"
    }
   ],
   "source": [
    "# List graphs in endpoint\n",
    "SELECT DISTINCT ?p\n",
    "WHERE {\n",
    "  GRAPH <https://lindas.admin.ch/stadtzuerich/stat> {\n",
    "      ?s ?p ?o;\n",
    "  }\n",
    "}\n",
    "LIMIT 20 OFFSET 20"
   ]
  },
  {
   "cell_type": "markdown",
   "metadata": {},
   "source": [
    "### TODO: Explain RDF type\n",
    "\n",
    "To understand better our data structure, let's access all properties defined by `a` (RDF type)."
   ]
  },
  {
   "cell_type": "code",
   "execution_count": 31,
   "metadata": {},
   "outputs": [
    {
     "data": {
      "text/html": [
       "<div class=\"krn-spql\"><table><tr class=hdr><th>cls</th></tr><tr class=odd><td class=val><a href=\"http://www.w3.org/ns/shacl#NodeShape\" target=\"_other\">http://www.w3.org/ns/shacl#NodeShape</a></td></tr><tr class=even><td class=val><a href=\"http://www.w3.org/1999/02/22-rdf-syntax-ns#Property\" target=\"_other\">http://www.w3.org/1999/02/22-rdf-syntax-ns#Property</a></td></tr><tr class=odd><td class=val><a href=\"http://schema.org/Place\" target=\"_other\">http://schema.org/Place</a></td></tr><tr class=even><td class=val><a href=\"http://www.w3.org/2004/02/skos/core#Concept\" target=\"_other\">http://www.w3.org/2004/02/skos/core#Concept</a></td></tr><tr class=odd><td class=val><a href=\"http://www.w3.org/2004/02/skos/core#ConceptScheme\" target=\"_other\">http://www.w3.org/2004/02/skos/core#ConceptScheme</a></td></tr><tr class=even><td class=val><a href=\"http://qudt.org/vocab/unit#Unit\" target=\"_other\">http://qudt.org/vocab/unit#Unit</a></td></tr><tr class=odd><td class=val><a href=\"http://www.w3.org/2004/02/skos/core#Collection\" target=\"_other\">http://www.w3.org/2004/02/skos/core#Collection</a></td></tr><tr class=even><td class=val><a href=\"http://www.w3.org/2006/time#TemporalEntity\" target=\"_other\">http://www.w3.org/2006/time#TemporalEntity</a></td></tr><tr class=odd><td class=val><a href=\"https://cube.link/Cube\" target=\"_other\">https://cube.link/Cube</a></td></tr><tr class=even><td class=val><a href=\"https://cube.link/ObservationSet\" target=\"_other\">https://cube.link/ObservationSet</a></td></tr><tr class=odd><td class=val><a href=\"https://cube.link/Constraint\" target=\"_other\">https://cube.link/Constraint</a></td></tr><tr class=even><td class=val><a href=\"https://cube.link/Observation\" target=\"_other\">https://cube.link/Observation</a></td></tr></table><div class=\"tinfo\">Total: 12, Shown: 12</div></div>"
      ]
     },
     "metadata": {},
     "output_type": "display_data"
    }
   ],
   "source": [
    "# List all classes\n",
    "\n",
    "PREFIX rdfs: <http://www.w3.org/2000/01/rdf-schema#>\n",
    "\n",
    "SELECT DISTINCT ?cls\n",
    "FROM <https://lindas.admin.ch/stadtzuerich/stat>\n",
    "WHERE {\n",
    "  ?subject a ?cls .\n",
    "}\n",
    "LIMIT 50"
   ]
  },
  {
   "cell_type": "markdown",
   "metadata": {},
   "source": [
    "That's better! Much easier to find what is important when looking at 12 classes only. \n",
    "\n",
    "We are looking for something that represents a dataset: collection of triples around certain subject.\n",
    "The potential candidates are:\n",
    "* https://cube.link/Cube\n",
    "* https://cube.link/ObservationSet\n",
    "* http://www.w3.org/2004/02/skos/core#Collection\n",
    "\n",
    "Let's get some examples of those"
   ]
  },
  {
   "cell_type": "code",
   "execution_count": 61,
   "metadata": {},
   "outputs": [
    {
     "data": {
      "text/html": [
       "<div class=\"krn-spql\"><table><tr class=hdr><th>s</th></tr><tr class=odd><td class=val><a href=\"https://ld.stadt-zuerich.ch/statistics/BEW-ALT\" target=\"_other\">https://ld.stadt-zuerich.ch/statistics/BEW-ALT</a></td></tr><tr class=even><td class=val><a href=\"https://ld.stadt-zuerich.ch/statistics/AST-BTA\" target=\"_other\">https://ld.stadt-zuerich.ch/statistics/AST-BTA</a></td></tr><tr class=odd><td class=val><a href=\"https://ld.stadt-zuerich.ch/statistics/WRT-BTA-EAP\" target=\"_other\">https://ld.stadt-zuerich.ch/statistics/WRT-BTA-EAP</a></td></tr><tr class=even><td class=val><a href=\"https://ld.stadt-zuerich.ch/statistics/GES-ALT-SEX-TOU\" target=\"_other\">https://ld.stadt-zuerich.ch/statistics/GES-ALT-SEX-TOU</a></td></tr><tr class=odd><td class=val><a href=\"https://ld.stadt-zuerich.ch/statistics/GES-SEX-TOU\" target=\"_other\">https://ld.stadt-zuerich.ch/statistics/GES-SEX-TOU</a></td></tr><tr class=even><td class=val><a href=\"https://ld.stadt-zuerich.ch/statistics/TII-BTA-TIG\" target=\"_other\">https://ld.stadt-zuerich.ch/statistics/TII-BTA-TIG</a></td></tr><tr class=odd><td class=val><a href=\"https://ld.stadt-zuerich.ch/statistics/TIA-BTA\" target=\"_other\">https://ld.stadt-zuerich.ch/statistics/TIA-BTA</a></td></tr><tr class=even><td class=val><a href=\"https://ld.stadt-zuerich.ch/statistics/TIA-BTA-TIG\" target=\"_other\">https://ld.stadt-zuerich.ch/statistics/TIA-BTA-TIG</a></td></tr><tr class=odd><td class=val><a href=\"https://ld.stadt-zuerich.ch/statistics/TII-BTA\" target=\"_other\">https://ld.stadt-zuerich.ch/statistics/TII-BTA</a></td></tr><tr class=even><td class=val><a href=\"https://ld.stadt-zuerich.ch/statistics/AST-BEW-BTA\" target=\"_other\">https://ld.stadt-zuerich.ch/statistics/AST-BEW-BTA</a></td></tr></table><div class=\"tinfo\">Total: 10, Shown: 10</div></div>"
      ]
     },
     "metadata": {},
     "output_type": "display_data"
    }
   ],
   "source": [
    "# List all classes\n",
    "\n",
    "PREFIX rdfs: <http://www.w3.org/2000/01/rdf-schema#>\n",
    "\n",
    "SELECT DISTINCT ?s\n",
    "FROM <https://lindas.admin.ch/stadtzuerich/stat>\n",
    "WHERE {\n",
    "  ?s a <https://cube.link/Cube> .\n",
    "}\n",
    "LIMIT 10"
   ]
  },
  {
   "cell_type": "markdown",
   "metadata": {},
   "source": [
    "That looks plausible. Let's check in the [documentation](https://cube.link/):\n",
    "\n",
    "**Cube**  \n",
    "*Represents the entry point for a collection of observations, conforming to some common dimensional structure.*\n",
    "\n",
    "Exactly what we were looking for!\n"
   ]
  },
  {
   "cell_type": "code",
   "execution_count": 60,
   "metadata": {},
   "outputs": [
    {
     "data": {
      "text/html": [
       "<div class=\"krn-spql\"><table><tr class=hdr><th>s</th></tr><tr class=odd><td class=val><a href=\"https://ld.stadt-zuerich.ch/statistics/BEW-ALT\" target=\"_other\">https://ld.stadt-zuerich.ch/statistics/BEW-ALT</a></td></tr><tr class=even><td class=val><a href=\"https://ld.stadt-zuerich.ch/statistics/AST-BTA\" target=\"_other\">https://ld.stadt-zuerich.ch/statistics/AST-BTA</a></td></tr><tr class=odd><td class=val><a href=\"https://ld.stadt-zuerich.ch/statistics/WRT-BTA-EAP\" target=\"_other\">https://ld.stadt-zuerich.ch/statistics/WRT-BTA-EAP</a></td></tr><tr class=even><td class=val><a href=\"https://ld.stadt-zuerich.ch/statistics/GES-ALT-SEX-TOU\" target=\"_other\">https://ld.stadt-zuerich.ch/statistics/GES-ALT-SEX-TOU</a></td></tr><tr class=odd><td class=val><a href=\"https://ld.stadt-zuerich.ch/statistics/GES-SEX-TOU\" target=\"_other\">https://ld.stadt-zuerich.ch/statistics/GES-SEX-TOU</a></td></tr><tr class=even><td class=val><a href=\"https://ld.stadt-zuerich.ch/statistics/TII-BTA-TIG\" target=\"_other\">https://ld.stadt-zuerich.ch/statistics/TII-BTA-TIG</a></td></tr><tr class=odd><td class=val><a href=\"https://ld.stadt-zuerich.ch/statistics/TIA-BTA\" target=\"_other\">https://ld.stadt-zuerich.ch/statistics/TIA-BTA</a></td></tr><tr class=even><td class=val><a href=\"https://ld.stadt-zuerich.ch/statistics/TIA-BTA-TIG\" target=\"_other\">https://ld.stadt-zuerich.ch/statistics/TIA-BTA-TIG</a></td></tr><tr class=odd><td class=val><a href=\"https://ld.stadt-zuerich.ch/statistics/TII-BTA\" target=\"_other\">https://ld.stadt-zuerich.ch/statistics/TII-BTA</a></td></tr><tr class=even><td class=val><a href=\"https://ld.stadt-zuerich.ch/statistics/AST-BEW-BTA\" target=\"_other\">https://ld.stadt-zuerich.ch/statistics/AST-BEW-BTA</a></td></tr><tr class=odd><td class=val><a href=\"https://ld.stadt-zuerich.ch/statistics/GES-ALT-SEX\" target=\"_other\">https://ld.stadt-zuerich.ch/statistics/GES-ALT-SEX</a></td></tr><tr class=even><td class=val><a href=\"https://ld.stadt-zuerich.ch/statistics/BEW\" target=\"_other\">https://ld.stadt-zuerich.ch/statistics/BEW</a></td></tr><tr class=odd><td class=val><a href=\"https://ld.stadt-zuerich.ch/statistics/BES-BTA-SEX\" target=\"_other\">https://ld.stadt-zuerich.ch/statistics/BES-BTA-SEX</a></td></tr><tr class=even><td class=val><a href=\"https://ld.stadt-zuerich.ch/statistics/BES-BTA\" target=\"_other\">https://ld.stadt-zuerich.ch/statistics/BES-BTA</a></td></tr><tr class=odd><td class=val><a href=\"https://ld.stadt-zuerich.ch/statistics/ZUS-BTA-HEL\" target=\"_other\">https://ld.stadt-zuerich.ch/statistics/ZUS-BTA-HEL</a></td></tr><tr class=even><td class=val><a href=\"https://ld.stadt-zuerich.ch/statistics/ZUS-BTA-SEX\" target=\"_other\">https://ld.stadt-zuerich.ch/statistics/ZUS-BTA-SEX</a></td></tr><tr class=odd><td class=val><a href=\"https://ld.stadt-zuerich.ch/statistics/ZUS-BTA\" target=\"_other\">https://ld.stadt-zuerich.ch/statistics/ZUS-BTA</a></td></tr><tr class=even><td class=val><a href=\"https://ld.stadt-zuerich.ch/statistics/ZUS-BTA-ZSA\" target=\"_other\">https://ld.stadt-zuerich.ch/statistics/ZUS-BTA-ZSA</a></td></tr><tr class=odd><td class=val><a href=\"https://ld.stadt-zuerich.ch/statistics/WHG\" target=\"_other\">https://ld.stadt-zuerich.ch/statistics/WHG</a></td></tr><tr class=even><td class=val><a href=\"https://ld.stadt-zuerich.ch/statistics/WHA-ZIM\" target=\"_other\">https://ld.stadt-zuerich.ch/statistics/WHA-ZIM</a></td></tr><tr class=odd><td class=val><a href=\"https://ld.stadt-zuerich.ch/statistics/ZIM\" target=\"_other\">https://ld.stadt-zuerich.ch/statistics/ZIM</a></td></tr><tr class=even><td class=val><a href=\"https://ld.stadt-zuerich.ch/statistics/WHA\" target=\"_other\">https://ld.stadt-zuerich.ch/statistics/WHA</a></td></tr><tr class=odd><td class=val><a href=\"https://ld.stadt-zuerich.ch/statistics/WHG-ZIM\" target=\"_other\">https://ld.stadt-zuerich.ch/statistics/WHG-ZIM</a></td></tr><tr class=even><td class=val><a href=\"https://ld.stadt-zuerich.ch/statistics/ZIM-WHA\" target=\"_other\">https://ld.stadt-zuerich.ch/statistics/ZIM-WHA</a></td></tr><tr class=odd><td class=val><a href=\"https://ld.stadt-zuerich.ch/statistics/APZ\" target=\"_other\">https://ld.stadt-zuerich.ch/statistics/APZ</a></td></tr><tr class=even><td class=val><a href=\"https://ld.stadt-zuerich.ch/statistics/BEW-HEL-SEX\" target=\"_other\">https://ld.stadt-zuerich.ch/statistics/BEW-HEL-SEX</a></td></tr><tr class=odd><td class=val><a href=\"https://ld.stadt-zuerich.ch/statistics/BEW-HEL\" target=\"_other\">https://ld.stadt-zuerich.ch/statistics/BEW-HEL</a></td></tr><tr class=even><td class=val><a href=\"https://ld.stadt-zuerich.ch/statistics/BEW-SEX\" target=\"_other\">https://ld.stadt-zuerich.ch/statistics/BEW-SEX</a></td></tr><tr class=odd><td class=val><a href=\"https://ld.stadt-zuerich.ch/statistics/ANT-GGH-HEL\" target=\"_other\">https://ld.stadt-zuerich.ch/statistics/ANT-GGH-HEL</a></td></tr><tr class=even><td class=val><a href=\"https://ld.stadt-zuerich.ch/statistics/GES-SEX\" target=\"_other\">https://ld.stadt-zuerich.ch/statistics/GES-SEX</a></td></tr></table><div class=\"tinfo\">Total: 30, Shown: 30</div></div>"
      ]
     },
     "metadata": {},
     "output_type": "display_data"
    }
   ],
   "source": [
    "PREFIX rdfs: <http://www.w3.org/2000/01/rdf-schema#>\n",
    "\n",
    "SELECT DISTINCT ?s\n",
    "FROM <https://lindas.admin.ch/stadtzuerich/stat>\n",
    "WHERE {\n",
    "  ?s a <https://cube.link/Cube> .\n",
    "}"
   ]
  },
  {
   "cell_type": "code",
   "execution_count": 77,
   "metadata": {},
   "outputs": [
    {
     "data": {
      "text/html": [
       "<div class=\"krn-spql\"><table><tr class=hdr><th>property</th></tr><tr class=odd><td class=val><a href=\"http://www.w3.org/1999/02/22-rdf-syntax-ns#type\" target=\"_other\">http://www.w3.org/1999/02/22-rdf-syntax-ns#type</a></td></tr><tr class=even><td class=val><a href=\"https://cube.link/observationSet\" target=\"_other\">https://cube.link/observationSet</a></td></tr><tr class=odd><td class=val><a href=\"https://cube.link/observationConstraint\" target=\"_other\">https://cube.link/observationConstraint</a></td></tr></table><div class=\"tinfo\">Total: 3, Shown: 3</div></div>"
      ]
     },
     "metadata": {},
     "output_type": "display_data"
    }
   ],
   "source": [
    "# List all properties of a Cube class\n",
    "\n",
    "PREFIX schema: <http://schema.org/>\n",
    "PREFIX cube: <https://cube.link/>\n",
    "\n",
    "SELECT DISTINCT ?property\n",
    "FROM <https://lindas.admin.ch/stadtzuerich/stat>\n",
    "WHERE {\n",
    "  ?subject a cube:Cube;\n",
    "           ?property ?object.\n",
    "}\n",
    "LIMIT 20"
   ]
  },
  {
   "cell_type": "markdown",
   "metadata": {},
   "source": [
    "We will be interested in observationSet. Let's explore it for https://ld.stadt-zuerich.ch/statistics/BEW-ALT dataset"
   ]
  },
  {
   "cell_type": "code",
   "execution_count": 85,
   "metadata": {},
   "outputs": [
    {
     "data": {
      "text/html": [
       "<div class=\"krn-spql\"><table><tr class=hdr><th>object</th></tr><tr class=odd><td class=val><a href=\"https://ld.stadt-zuerich.ch/statistics/BEW-HEL-SEX/observation/\" target=\"_other\">https://ld.stadt-zuerich.ch/statistics/BEW-HEL-SEX/observation/</a></td></tr></table><div class=\"tinfo\">Total: 1, Shown: 1</div></div>"
      ]
     },
     "metadata": {},
     "output_type": "display_data"
    }
   ],
   "source": [
    "# List all properties of a Cube class\n",
    "\n",
    "PREFIX schema: <http://schema.org/>\n",
    "PREFIX cube: <https://cube.link/>\n",
    "\n",
    "SELECT DISTINCT ?object\n",
    "FROM <https://lindas.admin.ch/stadtzuerich/stat>\n",
    "WHERE {\n",
    "  <https://ld.stadt-zuerich.ch/statistics/BEW-HEL-SEX> a cube:Cube;\n",
    "           cube:observationSet ?object.\n",
    "}\n",
    "LIMIT 20"
   ]
  },
  {
   "cell_type": "code",
   "execution_count": 91,
   "metadata": {},
   "outputs": [
    {
     "data": {
      "text/html": [
       "<div class=\"krn-spql\"><table><tr class=hdr><th>p</th>\n",
       "<th>o</th></tr><tr class=odd><td class=val><a href=\"http://www.w3.org/1999/02/22-rdf-syntax-ns#type\" target=\"_other\">http://www.w3.org/1999/02/22-rdf-syntax-ns#type</a></td>\n",
       "<td class=val><a href=\"https://cube.link/ObservationSet\" target=\"_other\">https://cube.link/ObservationSet</a></td></tr><tr class=even><td class=val><a href=\"https://cube.link/observation\" target=\"_other\">https://cube.link/observation</a></td>\n",
       "<td class=val><a href=\"https://ld.stadt-zuerich.ch/statistics/BEW-HEL-SEX/observation/HEL1000-SEX0001-R00011-Z31122017\" target=\"_other\">https://ld.stadt-zuerich.ch/statistics/BEW-HEL-SEX/observation/HEL1000-SEX0001-R00011-Z31122017</a></td></tr><tr class=odd><td class=val><a href=\"https://cube.link/observation\" target=\"_other\">https://cube.link/observation</a></td>\n",
       "<td class=val><a href=\"https://ld.stadt-zuerich.ch/statistics/BEW-HEL-SEX/observation/HEL1000-SEX0002-R00012-Z31122017\" target=\"_other\">https://ld.stadt-zuerich.ch/statistics/BEW-HEL-SEX/observation/HEL1000-SEX0002-R00012-Z31122017</a></td></tr><tr class=even><td class=val><a href=\"https://cube.link/observation\" target=\"_other\">https://cube.link/observation</a></td>\n",
       "<td class=val><a href=\"https://ld.stadt-zuerich.ch/statistics/BEW-HEL-SEX/observation/HEL2000-SEX0001-R00013-Z31122017\" target=\"_other\">https://ld.stadt-zuerich.ch/statistics/BEW-HEL-SEX/observation/HEL2000-SEX0001-R00013-Z31122017</a></td></tr><tr class=odd><td class=val><a href=\"https://cube.link/observation\" target=\"_other\">https://cube.link/observation</a></td>\n",
       "<td class=val><a href=\"https://ld.stadt-zuerich.ch/statistics/BEW-HEL-SEX/observation/HEL2000-SEX0002-R00014-Z31122017\" target=\"_other\">https://ld.stadt-zuerich.ch/statistics/BEW-HEL-SEX/observation/HEL2000-SEX0002-R00014-Z31122017</a></td></tr><tr class=even><td class=val><a href=\"https://cube.link/observation\" target=\"_other\">https://cube.link/observation</a></td>\n",
       "<td class=val><a href=\"https://ld.stadt-zuerich.ch/statistics/BEW-HEL-SEX/observation/HEL1000-SEX0001-R00034-Z31122017\" target=\"_other\">https://ld.stadt-zuerich.ch/statistics/BEW-HEL-SEX/observation/HEL1000-SEX0001-R00034-Z31122017</a></td></tr><tr class=odd><td class=val><a href=\"https://cube.link/observation\" target=\"_other\">https://cube.link/observation</a></td>\n",
       "<td class=val><a href=\"https://ld.stadt-zuerich.ch/statistics/BEW-HEL-SEX/observation/HEL1000-SEX0002-R00041-Z31122017\" target=\"_other\">https://ld.stadt-zuerich.ch/statistics/BEW-HEL-SEX/observation/HEL1000-SEX0002-R00041-Z31122017</a></td></tr><tr class=even><td class=val><a href=\"https://cube.link/observation\" target=\"_other\">https://cube.link/observation</a></td>\n",
       "<td class=val><a href=\"https://ld.stadt-zuerich.ch/statistics/BEW-HEL-SEX/observation/HEL2000-SEX0001-R00042-Z31122017\" target=\"_other\">https://ld.stadt-zuerich.ch/statistics/BEW-HEL-SEX/observation/HEL2000-SEX0001-R00042-Z31122017</a></td></tr><tr class=odd><td class=val><a href=\"https://cube.link/observation\" target=\"_other\">https://cube.link/observation</a></td>\n",
       "<td class=val><a href=\"https://ld.stadt-zuerich.ch/statistics/BEW-HEL-SEX/observation/HEL2000-SEX0002-R00044-Z31122017\" target=\"_other\">https://ld.stadt-zuerich.ch/statistics/BEW-HEL-SEX/observation/HEL2000-SEX0002-R00044-Z31122017</a></td></tr><tr class=even><td class=val><a href=\"https://cube.link/observation\" target=\"_other\">https://cube.link/observation</a></td>\n",
       "<td class=val><a href=\"https://ld.stadt-zuerich.ch/statistics/BEW-HEL-SEX/observation/HEL1000-SEX0002-R00072-Z31122017\" target=\"_other\">https://ld.stadt-zuerich.ch/statistics/BEW-HEL-SEX/observation/HEL1000-SEX0002-R00072-Z31122017</a></td></tr></table><div class=\"tinfo\">Total: 10, Shown: 10</div></div>"
      ]
     },
     "metadata": {},
     "output_type": "display_data"
    }
   ],
   "source": [
    "# Explore this observation\n",
    "\n",
    "PREFIX schema: <http://schema.org/>\n",
    "PREFIX cube: <https://cube.link/>\n",
    "\n",
    "SELECT DISTINCT ?p ?o\n",
    "FROM <https://lindas.admin.ch/stadtzuerich/stat>\n",
    "WHERE {\n",
    "  <https://ld.stadt-zuerich.ch/statistics/BEW-HEL-SEX/observation/> ?p ?o.\n",
    "}\n",
    "LIMIT 10"
   ]
  },
  {
   "cell_type": "markdown",
   "metadata": {},
   "source": [
    "With 10k similar observations, that looks like sth we were looking for!"
   ]
  },
  {
   "cell_type": "code",
   "execution_count": 94,
   "metadata": {},
   "outputs": [
    {
     "data": {
      "text/html": [
       "<div class=\"krn-spql\"><table><tr class=hdr><th>p</th></tr><tr class=odd><td class=val><a href=\"http://www.w3.org/1999/02/22-rdf-syntax-ns#type\" target=\"_other\">http://www.w3.org/1999/02/22-rdf-syntax-ns#type</a></td></tr><tr class=even><td class=val><a href=\"http://www.w3.org/2004/02/skos/core#notation\" target=\"_other\">http://www.w3.org/2004/02/skos/core#notation</a></td></tr><tr class=odd><td class=val><a href=\"https://ld.stadt-zuerich.ch/statistics/property/ZEIT\" target=\"_other\">https://ld.stadt-zuerich.ch/statistics/property/ZEIT</a></td></tr><tr class=even><td class=val><a href=\"https://ld.stadt-zuerich.ch/statistics/property/RAUM\" target=\"_other\">https://ld.stadt-zuerich.ch/statistics/property/RAUM</a></td></tr><tr class=odd><td class=val><a href=\"https://ld.stadt-zuerich.ch/statistics/measure/BEW\" target=\"_other\">https://ld.stadt-zuerich.ch/statistics/measure/BEW</a></td></tr><tr class=even><td class=val><a href=\"https://ld.stadt-zuerich.ch/statistics/attribute/KORREKTUR\" target=\"_other\">https://ld.stadt-zuerich.ch/statistics/attribute/KORREKTUR</a></td></tr><tr class=odd><td class=val><a href=\"https://ld.stadt-zuerich.ch/statistics/property/SEX\" target=\"_other\">https://ld.stadt-zuerich.ch/statistics/property/SEX</a></td></tr><tr class=even><td class=val><a href=\"https://ld.stadt-zuerich.ch/statistics/property/HEL\" target=\"_other\">https://ld.stadt-zuerich.ch/statistics/property/HEL</a></td></tr><tr class=odd><td class=val><a href=\"https://cube.link/observedBy\" target=\"_other\">https://cube.link/observedBy</a></td></tr><tr class=even><td class=val><a href=\"https://ld.stadt-zuerich.ch/statistics/property/TIME\" target=\"_other\">https://ld.stadt-zuerich.ch/statistics/property/TIME</a></td></tr></table><div class=\"tinfo\">Total: 10, Shown: 10</div></div>"
      ]
     },
     "metadata": {},
     "output_type": "display_data"
    }
   ],
   "source": [
    "# Let's properties of an observation\n",
    "\n",
    "PREFIX schema: <http://schema.org/>\n",
    "PREFIX cube: <https://cube.link/>\n",
    "\n",
    "SELECT DISTINCT ?p\n",
    "FROM <https://lindas.admin.ch/stadtzuerich/stat>\n",
    "WHERE {\n",
    "  <https://ld.stadt-zuerich.ch/statistics/BEW-HEL-SEX/observation/HEL1000-SEX0001-R00011-Z31122017> ?p ?o.\n",
    "}"
   ]
  },
  {
   "cell_type": "code",
   "execution_count": 102,
   "metadata": {},
   "outputs": [
    {
     "data": {
      "text/html": [
       "<div class=\"krn-spql\"><table><tr class=hdr><th>obsProperty</th></tr><tr class=odd><td class=val><a href=\"http://www.w3.org/1999/02/22-rdf-syntax-ns#type\" target=\"_other\">http://www.w3.org/1999/02/22-rdf-syntax-ns#type</a></td></tr><tr class=even><td class=val><a href=\"http://www.w3.org/2004/02/skos/core#notation\" target=\"_other\">http://www.w3.org/2004/02/skos/core#notation</a></td></tr><tr class=odd><td class=val><a href=\"https://ld.stadt-zuerich.ch/statistics/property/ZEIT\" target=\"_other\">https://ld.stadt-zuerich.ch/statistics/property/ZEIT</a></td></tr><tr class=even><td class=val><a href=\"https://ld.stadt-zuerich.ch/statistics/property/RAUM\" target=\"_other\">https://ld.stadt-zuerich.ch/statistics/property/RAUM</a></td></tr><tr class=odd><td class=val><a href=\"https://ld.stadt-zuerich.ch/statistics/property/ALT\" target=\"_other\">https://ld.stadt-zuerich.ch/statistics/property/ALT</a></td></tr><tr class=even><td class=val><a href=\"https://ld.stadt-zuerich.ch/statistics/measure/BEW\" target=\"_other\">https://ld.stadt-zuerich.ch/statistics/measure/BEW</a></td></tr><tr class=odd><td class=val><a href=\"https://ld.stadt-zuerich.ch/statistics/attribute/KORREKTUR\" target=\"_other\">https://ld.stadt-zuerich.ch/statistics/attribute/KORREKTUR</a></td></tr><tr class=even><td class=val><a href=\"https://cube.link/observedBy\" target=\"_other\">https://cube.link/observedBy</a></td></tr><tr class=odd><td class=val><a href=\"https://ld.stadt-zuerich.ch/statistics/property/TIME\" target=\"_other\">https://ld.stadt-zuerich.ch/statistics/property/TIME</a></td></tr><tr class=even><td class=val><a href=\"https://ld.stadt-zuerich.ch/statistics/property/BTA\" target=\"_other\">https://ld.stadt-zuerich.ch/statistics/property/BTA</a></td></tr><tr class=odd><td class=val><a href=\"https://ld.stadt-zuerich.ch/statistics/measure/AST\" target=\"_other\">https://ld.stadt-zuerich.ch/statistics/measure/AST</a></td></tr><tr class=even><td class=val><a href=\"https://ld.stadt-zuerich.ch/statistics/property/EAP\" target=\"_other\">https://ld.stadt-zuerich.ch/statistics/property/EAP</a></td></tr><tr class=odd><td class=val><a href=\"https://ld.stadt-zuerich.ch/statistics/measure/WRT\" target=\"_other\">https://ld.stadt-zuerich.ch/statistics/measure/WRT</a></td></tr><tr class=even><td class=val><a href=\"https://ld.stadt-zuerich.ch/statistics/property/SEX\" target=\"_other\">https://ld.stadt-zuerich.ch/statistics/property/SEX</a></td></tr><tr class=odd><td class=val><a href=\"https://ld.stadt-zuerich.ch/statistics/property/TOU\" target=\"_other\">https://ld.stadt-zuerich.ch/statistics/property/TOU</a></td></tr><tr class=even><td class=val><a href=\"https://ld.stadt-zuerich.ch/statistics/measure/GES\" target=\"_other\">https://ld.stadt-zuerich.ch/statistics/measure/GES</a></td></tr><tr class=odd><td class=val><a href=\"https://ld.stadt-zuerich.ch/statistics/property/TIG\" target=\"_other\">https://ld.stadt-zuerich.ch/statistics/property/TIG</a></td></tr><tr class=even><td class=val><a href=\"https://ld.stadt-zuerich.ch/statistics/measure/TII\" target=\"_other\">https://ld.stadt-zuerich.ch/statistics/measure/TII</a></td></tr><tr class=odd><td class=val><a href=\"https://ld.stadt-zuerich.ch/statistics/measure/TIA\" target=\"_other\">https://ld.stadt-zuerich.ch/statistics/measure/TIA</a></td></tr><tr class=even><td class=val><a href=\"https://ld.stadt-zuerich.ch/statistics/property/BEW\" target=\"_other\">https://ld.stadt-zuerich.ch/statistics/property/BEW</a></td></tr><tr class=odd><td class=val><a href=\"https://ld.stadt-zuerich.ch/statistics/measure/BES\" target=\"_other\">https://ld.stadt-zuerich.ch/statistics/measure/BES</a></td></tr><tr class=even><td class=val><a href=\"https://ld.stadt-zuerich.ch/statistics/property/HEL\" target=\"_other\">https://ld.stadt-zuerich.ch/statistics/property/HEL</a></td></tr><tr class=odd><td class=val><a href=\"https://ld.stadt-zuerich.ch/statistics/measure/ZUS\" target=\"_other\">https://ld.stadt-zuerich.ch/statistics/measure/ZUS</a></td></tr><tr class=even><td class=val><a href=\"https://ld.stadt-zuerich.ch/statistics/property/ZSA\" target=\"_other\">https://ld.stadt-zuerich.ch/statistics/property/ZSA</a></td></tr><tr class=odd><td class=val><a href=\"https://ld.stadt-zuerich.ch/statistics/measure/WHG\" target=\"_other\">https://ld.stadt-zuerich.ch/statistics/measure/WHG</a></td></tr><tr class=even><td class=val><a href=\"https://ld.stadt-zuerich.ch/statistics/property/ZIM\" target=\"_other\">https://ld.stadt-zuerich.ch/statistics/property/ZIM</a></td></tr><tr class=odd><td class=val><a href=\"https://ld.stadt-zuerich.ch/statistics/measure/WHA\" target=\"_other\">https://ld.stadt-zuerich.ch/statistics/measure/WHA</a></td></tr><tr class=even><td class=val><a href=\"https://ld.stadt-zuerich.ch/statistics/measure/ZIM\" target=\"_other\">https://ld.stadt-zuerich.ch/statistics/measure/ZIM</a></td></tr><tr class=odd><td class=val><a href=\"https://ld.stadt-zuerich.ch/statistics/property/WHA\" target=\"_other\">https://ld.stadt-zuerich.ch/statistics/property/WHA</a></td></tr><tr class=even><td class=val><a href=\"https://ld.stadt-zuerich.ch/statistics/measure/APZ\" target=\"_other\">https://ld.stadt-zuerich.ch/statistics/measure/APZ</a></td></tr><tr class=odd><td class=val><a href=\"https://ld.stadt-zuerich.ch/statistics/property/GGH\" target=\"_other\">https://ld.stadt-zuerich.ch/statistics/property/GGH</a></td></tr><tr class=even><td class=val><a href=\"https://ld.stadt-zuerich.ch/statistics/measure/ANT\" target=\"_other\">https://ld.stadt-zuerich.ch/statistics/measure/ANT</a></td></tr></table><div class=\"tinfo\">Total: 32, Shown: 32</div></div>"
      ]
     },
     "metadata": {},
     "output_type": "display_data"
    }
   ],
   "source": [
    "# Let's get all observation properties at the same time\n",
    "\n",
    "PREFIX schema: <http://schema.org/>\n",
    "PREFIX cube: <https://cube.link/>\n",
    "\n",
    "SELECT DISTINCT ?obsProperty\n",
    "FROM <https://lindas.admin.ch/stadtzuerich/stat>\n",
    "WHERE {\n",
    "  ?dataset a cube:Cube;\n",
    "             cube:observationSet/cube:observation ?observation. \n",
    "    # Equivalent to:\n",
    "    #       cube:observationSet ?observationSet.\n",
    "    #?observationSet cube:observation ?observation.\n",
    "    ?observation ?obsProperty ?obsVal.\n",
    "}"
   ]
  },
  {
   "cell_type": "code",
   "execution_count": 115,
   "metadata": {},
   "outputs": [
    {
     "data": {
      "text/html": [
       "<div class=\"krn-spql\"><table><tr class=hdr><th>time</th>\n",
       "<th>raumName</th>\n",
       "<th>people</th>\n",
       "<th>zeit</th></tr><tr class=odd><td class=val>2016-12-31</td>\n",
       "<td class=val>Hard</td>\n",
       "<td class=val>12891.0</td>\n",
       "<td class=val><a href=\"https://ld.stadt-zuerich.ch/statistics/code/Z31122016\" target=\"_other\">https://ld.stadt-zuerich.ch/statistics/code/Z31122016</a></td></tr><tr class=even><td class=val>2015-12-31</td>\n",
       "<td class=val>Hard</td>\n",
       "<td class=val>13072.0</td>\n",
       "<td class=val><a href=\"https://ld.stadt-zuerich.ch/statistics/code/Z31122015\" target=\"_other\">https://ld.stadt-zuerich.ch/statistics/code/Z31122015</a></td></tr><tr class=odd><td class=val>2014-12-31</td>\n",
       "<td class=val>Hard</td>\n",
       "<td class=val>13232.0</td>\n",
       "<td class=val><a href=\"https://ld.stadt-zuerich.ch/statistics/code/Z31122014\" target=\"_other\">https://ld.stadt-zuerich.ch/statistics/code/Z31122014</a></td></tr><tr class=even><td class=val>2013-12-31</td>\n",
       "<td class=val>Hard</td>\n",
       "<td class=val>13241.0</td>\n",
       "<td class=val><a href=\"https://ld.stadt-zuerich.ch/statistics/code/Z31122013\" target=\"_other\">https://ld.stadt-zuerich.ch/statistics/code/Z31122013</a></td></tr><tr class=odd><td class=val>2012-12-31</td>\n",
       "<td class=val>Hard</td>\n",
       "<td class=val>12994.0</td>\n",
       "<td class=val><a href=\"https://ld.stadt-zuerich.ch/statistics/code/Z31122012\" target=\"_other\">https://ld.stadt-zuerich.ch/statistics/code/Z31122012</a></td></tr><tr class=even><td class=val>2011-12-31</td>\n",
       "<td class=val>Hard</td>\n",
       "<td class=val>12744.0</td>\n",
       "<td class=val><a href=\"https://ld.stadt-zuerich.ch/statistics/code/Z31122011\" target=\"_other\">https://ld.stadt-zuerich.ch/statistics/code/Z31122011</a></td></tr><tr class=odd><td class=val>2010-12-31</td>\n",
       "<td class=val>Hard</td>\n",
       "<td class=val>12883.0</td>\n",
       "<td class=val><a href=\"https://ld.stadt-zuerich.ch/statistics/code/Z31122010\" target=\"_other\">https://ld.stadt-zuerich.ch/statistics/code/Z31122010</a></td></tr><tr class=even><td class=val>2009-12-31</td>\n",
       "<td class=val>Hard</td>\n",
       "<td class=val>12902.0</td>\n",
       "<td class=val><a href=\"https://ld.stadt-zuerich.ch/statistics/code/Z31122009\" target=\"_other\">https://ld.stadt-zuerich.ch/statistics/code/Z31122009</a></td></tr><tr class=odd><td class=val>2008-12-31</td>\n",
       "<td class=val>Hard</td>\n",
       "<td class=val>12884.0</td>\n",
       "<td class=val><a href=\"https://ld.stadt-zuerich.ch/statistics/code/Z31122008\" target=\"_other\">https://ld.stadt-zuerich.ch/statistics/code/Z31122008</a></td></tr><tr class=even><td class=val>2007-12-31</td>\n",
       "<td class=val>Hard</td>\n",
       "<td class=val>12802.0</td>\n",
       "<td class=val><a href=\"https://ld.stadt-zuerich.ch/statistics/code/Z31122007\" target=\"_other\">https://ld.stadt-zuerich.ch/statistics/code/Z31122007</a></td></tr><tr class=odd><td class=val>2006-12-31</td>\n",
       "<td class=val>Hard</td>\n",
       "<td class=val>12508.0</td>\n",
       "<td class=val><a href=\"https://ld.stadt-zuerich.ch/statistics/code/Z31122006\" target=\"_other\">https://ld.stadt-zuerich.ch/statistics/code/Z31122006</a></td></tr><tr class=even><td class=val>2005-12-31</td>\n",
       "<td class=val>Hard</td>\n",
       "<td class=val>12715.0</td>\n",
       "<td class=val><a href=\"https://ld.stadt-zuerich.ch/statistics/code/Z31122005\" target=\"_other\">https://ld.stadt-zuerich.ch/statistics/code/Z31122005</a></td></tr><tr class=odd><td class=val>2004-12-31</td>\n",
       "<td class=val>Hard</td>\n",
       "<td class=val>12804.0</td>\n",
       "<td class=val><a href=\"https://ld.stadt-zuerich.ch/statistics/code/Z31122004\" target=\"_other\">https://ld.stadt-zuerich.ch/statistics/code/Z31122004</a></td></tr><tr class=even><td class=val>2003-12-31</td>\n",
       "<td class=val>Hard</td>\n",
       "<td class=val>12817.0</td>\n",
       "<td class=val><a href=\"https://ld.stadt-zuerich.ch/statistics/code/Z31122003\" target=\"_other\">https://ld.stadt-zuerich.ch/statistics/code/Z31122003</a></td></tr><tr class=odd><td class=val>2002-12-31</td>\n",
       "<td class=val>Hard</td>\n",
       "<td class=val>12856.0</td>\n",
       "<td class=val><a href=\"https://ld.stadt-zuerich.ch/statistics/code/Z31122002\" target=\"_other\">https://ld.stadt-zuerich.ch/statistics/code/Z31122002</a></td></tr></table><div class=\"tinfo\">Total: 15, Shown: 15</div></div>"
      ]
     },
     "metadata": {},
     "output_type": "display_data"
    }
   ],
   "source": [
    "# Let's explore one dataset at a time\n",
    "\n",
    "# BEW\n",
    "PREFIX schema: <http://schema.org/>\n",
    "PREFIX cube: <https://cube.link/>\n",
    "\n",
    "SELECT ?time ?raumName ?people ?zeit\n",
    "FROM <https://lindas.admin.ch/stadtzuerich/stat>\n",
    "WHERE {\n",
    "  <https://ld.stadt-zuerich.ch/statistics/BEW> a cube:Cube;\n",
    "             cube:observationSet/cube:observation ?observation. \n",
    "    \n",
    "    ?observation <https://ld.stadt-zuerich.ch/statistics/measure/BEW> ?people ;\n",
    "                 <https://ld.stadt-zuerich.ch/statistics/property/RAUM> ?raum ;\n",
    "                 <https://ld.stadt-zuerich.ch/statistics/property/TIME> ?time ;\n",
    "    <https://ld.stadt-zuerich.ch/statistics/property/ZEIT> ?zeit .\n",
    "    \n",
    "    ?raum schema:name ?raumName .\n",
    "}\n",
    "LIMIT 15"
   ]
  },
  {
   "cell_type": "code",
   "execution_count": null,
   "metadata": {},
   "outputs": [],
   "source": []
  }
 ],
 "metadata": {
  "kernelspec": {
   "display_name": "SPARQL",
   "language": "sparql",
   "name": "sparql"
  },
  "language_info": {
   "codemirror_mode": {
    "name": "sparql"
   },
   "mimetype": "application/sparql-query",
   "name": "sparql",
   "pygments_lexer": "sparql-nb"
  }
 },
 "nbformat": 4,
 "nbformat_minor": 4
}
