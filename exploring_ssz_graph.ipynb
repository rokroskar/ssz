{
 "cells": [
  {
   "cell_type": "code",
   "execution_count": 1,
   "metadata": {},
   "outputs": [
    {
     "data": {
      "text/html": [
       "<div class=\"krn-spql\"><div class=\"magic\">Endpoint set to: https://test.lindas.admin.ch/query</div><div class=\"magic\">HTTP authentication: method=basic, user=public, passwd set</div><div class=\"magic\">Display: table</div><div class=\"magic\">Result maximum size: 80</div></div>"
      ],
      "text/plain": [
       "Endpoint set to: https://test.lindas.admin.ch/query\n",
       "HTTP authentication: method=basic, user=public, passwd set\n",
       "Display: table\n",
       "Result maximum size: 80\n"
      ]
     },
     "metadata": {},
     "output_type": "display_data"
    }
   ],
   "source": [
    "#Params\n",
    "%endpoint https://test.lindas.admin.ch/query\n",
    "%auth basic public public\n",
    "%display table\n",
    "\n",
    "%show 80"
   ]
  },
  {
   "cell_type": "markdown",
   "metadata": {},
   "source": [
    "## Graphs\n",
    "\n",
    "One endpoint can contain multiple graphs. You can see what graphs are available using `WHERE` and `GRAPH` statements. \n",
    "\n",
    "Let's see what graphs are available in our endpoint."
   ]
  },
  {
   "cell_type": "code",
   "execution_count": 2,
   "metadata": {},
   "outputs": [
    {
     "data": {
      "text/html": [
       "<div class=\"krn-spql\"><table><tr class=hdr><th>g</th></tr><tr class=odd><td class=val><a href=\"https://lindas-data.ch/graph/bafu/wald\" target=\"_other\">https://lindas-data.ch/graph/bafu/wald</a></td></tr><tr class=even><td class=val><a href=\"https://linked.opendata.swiss/graph/FOT/didok\" target=\"_other\">https://linked.opendata.swiss/graph/FOT/didok</a></td></tr><tr class=odd><td class=val><a href=\"https://linked.opendata.swiss/graph/SBB/rollingstock\" target=\"_other\">https://linked.opendata.swiss/graph/SBB/rollingstock</a></td></tr><tr class=even><td class=val><a href=\"https://linked.opendata.swiss/graph/SBB/dailytraintrips\" target=\"_other\">https://linked.opendata.swiss/graph/SBB/dailytraintrips</a></td></tr><tr class=odd><td class=val><a href=\"https://linked.opendata.swiss/graph/eCH-0071\" target=\"_other\">https://linked.opendata.swiss/graph/eCH-0071</a></td></tr><tr class=even><td class=val><a href=\"https://linked.opendata.swiss/graph/blv/animalpest\" target=\"_other\">https://linked.opendata.swiss/graph/blv/animalpest</a></td></tr><tr class=odd><td class=val><a href=\"https://lindas-data.ch/graph/elcom/strompreise\" target=\"_other\">https://lindas-data.ch/graph/elcom/strompreise</a></td></tr><tr class=even><td class=val><a href=\"https://linked.opendata.swiss/graph/FOEN/UBD28\" target=\"_other\">https://linked.opendata.swiss/graph/FOEN/UBD28</a></td></tr><tr class=odd><td class=val><a href=\"https://linked.opendata.swiss/graph/FOEN/UBD66\" target=\"_other\">https://linked.opendata.swiss/graph/FOEN/UBD66</a></td></tr><tr class=even><td class=val><a href=\"https://linked.opendata.swiss/graph/sbb/nova\" target=\"_other\">https://linked.opendata.swiss/graph/sbb/nova</a></td></tr><tr class=odd><td class=val><a href=\"https://linked.opendata.swiss/graph/blw/productsales\" target=\"_other\">https://linked.opendata.swiss/graph/blw/productsales</a></td></tr><tr class=even><td class=val><a href=\"https://linked.opendata.swiss/graph/sbb/didok\" target=\"_other\">https://linked.opendata.swiss/graph/sbb/didok</a></td></tr><tr class=odd><td class=val><a href=\"https://lindas.admin.ch/sfoe/energyproduction\" target=\"_other\">https://lindas.admin.ch/sfoe/energyproduction</a></td></tr><tr class=even><td class=val><a href=\"https://linked.opendata.swiss/graph/plazi\" target=\"_other\">https://linked.opendata.swiss/graph/plazi</a></td></tr><tr class=odd><td class=val><a href=\"https://lindas.admin.ch/nl/isil\" target=\"_other\">https://lindas.admin.ch/nl/isil</a></td></tr><tr class=even><td class=val><a href=\"https://lindas.admin.ch/meta\" target=\"_other\">https://lindas.admin.ch/meta</a></td></tr><tr class=odd><td class=val><a href=\"https://lindas.admin.ch/stadtzuerich/stat\" target=\"_other\">https://lindas.admin.ch/stadtzuerich/stat</a></td></tr><tr class=even><td class=val><a href=\"https://lindas.admin.ch/elcom/electricityprice\" target=\"_other\">https://lindas.admin.ch/elcom/electricityprice</a></td></tr><tr class=odd><td class=val><a href=\"https://lindas.admin.ch/fso/agvch\" target=\"_other\">https://lindas.admin.ch/fso/agvch</a></td></tr><tr class=even><td class=val><a href=\"https://lindas.admin.ch/foen/cube\" target=\"_other\">https://lindas.admin.ch/foen/cube</a></td></tr><tr class=odd><td class=val><a href=\"https://lindas.admin.ch/sfa/opendataswiss\" target=\"_other\">https://lindas.admin.ch/sfa/opendataswiss</a></td></tr><tr class=even><td class=val><a href=\"https://lindas.admin.ch/ontologies\" target=\"_other\">https://lindas.admin.ch/ontologies</a></td></tr><tr class=odd><td class=val><a href=\"https://lindas.admin.ch/foen/cube-test\" target=\"_other\">https://lindas.admin.ch/foen/cube-test</a></td></tr><tr class=even><td class=val><a href=\"https://lindas.admin.ch/cube/dimension\" target=\"_other\">https://lindas.admin.ch/cube/dimension</a></td></tr><tr class=odd><td class=val><a href=\"https://lindas.admin.ch/agroscope/bil-p-full\" target=\"_other\">https://lindas.admin.ch/agroscope/bil-p-full</a></td></tr><tr class=even><td class=val><a href=\"https://linked.opendata.swiss/graph/zh/statistics/meta\" target=\"_other\">https://linked.opendata.swiss/graph/zh/statistics/meta</a></td></tr><tr class=odd><td class=val><a href=\"https://lindas.admin.ch/foen/cube/wsl\" target=\"_other\">https://lindas.admin.ch/foen/cube/wsl</a></td></tr><tr class=even><td class=val><a href=\"https://lindas.admin.ch/foen/themes\" target=\"_other\">https://lindas.admin.ch/foen/themes</a></td></tr></table><div class=\"tinfo\">Total: 28, Shown: 28</div></div>"
      ]
     },
     "metadata": {},
     "output_type": "display_data"
    }
   ],
   "source": [
    "# List graphs in endpoint\n",
    "SELECT DISTINCT ?g \n",
    "WHERE {\n",
    "  GRAPH ?g {\n",
    "      ?s ?p ?o;\n",
    "  }\n",
    "}"
   ]
  },
  {
   "cell_type": "markdown",
   "metadata": {},
   "source": [
    "The graphs have potentilly nothing in common. They are just stored in the same database instance. \n",
    "\n",
    "Here, we have the one endpoint storing information on subject as diverse as train timetable, electricity prices, or animal diseases:\n",
    "\n",
    "* trains timetable (https://lindas.admin.ch/sbb/setactual)\n",
    "* electricity prices (https://lindas.admin.ch/elcom/electricityprice)\n",
    "* animal diseases (https://linked.opendata.swiss/fsvo/animalpest)\n",
    "\n",
    "All those graphs can be accessed from the same SPARQL endpoint."
   ]
  },
  {
   "cell_type": "markdown",
   "metadata": {},
   "source": [
    "### Exploring a graph\n",
    "Let's explore the dataset from Zurich Statistical Office.\n",
    "\n",
    "The correspondig graph can be accessed with this uri:\n",
    "https://lindas.admin.ch/stadtzuerich/stat/views\n"
   ]
  },
  {
   "cell_type": "code",
   "execution_count": 3,
   "metadata": {},
   "outputs": [
    {
     "data": {
      "text/html": [
       "<div class=\"krn-spql\"><table><tr class=hdr><th>p</th></tr><tr class=odd><td class=val><a href=\"http://www.w3.org/1999/02/22-rdf-syntax-ns#type\" target=\"_other\">http://www.w3.org/1999/02/22-rdf-syntax-ns#type</a></td></tr><tr class=even><td class=val><a href=\"http://www.w3.org/2004/02/skos/core#notation\" target=\"_other\">http://www.w3.org/2004/02/skos/core#notation</a></td></tr><tr class=odd><td class=val><a href=\"http://www.w3.org/ns/shacl#closed\" target=\"_other\">http://www.w3.org/ns/shacl#closed</a></td></tr><tr class=even><td class=val><a href=\"http://www.w3.org/ns/shacl#property\" target=\"_other\">http://www.w3.org/ns/shacl#property</a></td></tr><tr class=odd><td class=val><a href=\"http://www.w3.org/ns/shacl#path\" target=\"_other\">http://www.w3.org/ns/shacl#path</a></td></tr><tr class=even><td class=val><a href=\"http://www.w3.org/ns/shacl#in\" target=\"_other\">http://www.w3.org/ns/shacl#in</a></td></tr><tr class=odd><td class=val><a href=\"http://www.w3.org/ns/shacl#nodeKind\" target=\"_other\">http://www.w3.org/ns/shacl#nodeKind</a></td></tr><tr class=even><td class=val><a href=\"http://www.w3.org/ns/shacl#datatype\" target=\"_other\">http://www.w3.org/ns/shacl#datatype</a></td></tr><tr class=odd><td class=val><a href=\"http://www.w3.org/ns/shacl#minCount\" target=\"_other\">http://www.w3.org/ns/shacl#minCount</a></td></tr><tr class=even><td class=val><a href=\"http://www.w3.org/ns/shacl#maxCount\" target=\"_other\">http://www.w3.org/ns/shacl#maxCount</a></td></tr><tr class=odd><td class=val><a href=\"http://www.w3.org/ns/shacl#minInclusive\" target=\"_other\">http://www.w3.org/ns/shacl#minInclusive</a></td></tr><tr class=even><td class=val><a href=\"http://www.w3.org/ns/shacl#maxInclusive\" target=\"_other\">http://www.w3.org/ns/shacl#maxInclusive</a></td></tr><tr class=odd><td class=val><a href=\"http://www.w3.org/1999/02/22-rdf-syntax-ns#first\" target=\"_other\">http://www.w3.org/1999/02/22-rdf-syntax-ns#first</a></td></tr><tr class=even><td class=val><a href=\"http://www.w3.org/1999/02/22-rdf-syntax-ns#rest\" target=\"_other\">http://www.w3.org/1999/02/22-rdf-syntax-ns#rest</a></td></tr><tr class=odd><td class=val><a href=\"http://schema.org/identifier\" target=\"_other\">http://schema.org/identifier</a></td></tr><tr class=even><td class=val><a href=\"http://www.w3.org/2004/02/skos/core#prefLabel\" target=\"_other\">http://www.w3.org/2004/02/skos/core#prefLabel</a></td></tr><tr class=odd><td class=val><a href=\"http://schema.org/name\" target=\"_other\">http://schema.org/name</a></td></tr><tr class=even><td class=val><a href=\"http://www.w3.org/2004/02/skos/core#inScheme\" target=\"_other\">http://www.w3.org/2004/02/skos/core#inScheme</a></td></tr><tr class=odd><td class=val><a href=\"http://schema.org/description\" target=\"_other\">http://schema.org/description</a></td></tr><tr class=even><td class=val><a href=\"https://ld.stadt-zuerich.ch/statistics/property/ZEIT\" target=\"_other\">https://ld.stadt-zuerich.ch/statistics/property/ZEIT</a></td></tr><tr class=odd><td class=val><a href=\"https://ld.stadt-zuerich.ch/statistics/property/RAUM\" target=\"_other\">https://ld.stadt-zuerich.ch/statistics/property/RAUM</a></td></tr><tr class=even><td class=val><a href=\"https://ld.stadt-zuerich.ch/statistics/property/ALT\" target=\"_other\">https://ld.stadt-zuerich.ch/statistics/property/ALT</a></td></tr><tr class=odd><td class=val><a href=\"https://ld.stadt-zuerich.ch/statistics/measure/BEW\" target=\"_other\">https://ld.stadt-zuerich.ch/statistics/measure/BEW</a></td></tr><tr class=even><td class=val><a href=\"https://ld.stadt-zuerich.ch/statistics/attribute/KORREKTUR\" target=\"_other\">https://ld.stadt-zuerich.ch/statistics/attribute/KORREKTUR</a></td></tr><tr class=odd><td class=val><a href=\"https://ld.stadt-zuerich.ch/statistics/property/BTA\" target=\"_other\">https://ld.stadt-zuerich.ch/statistics/property/BTA</a></td></tr><tr class=even><td class=val><a href=\"https://ld.stadt-zuerich.ch/statistics/measure/AST\" target=\"_other\">https://ld.stadt-zuerich.ch/statistics/measure/AST</a></td></tr><tr class=odd><td class=val><a href=\"https://ld.stadt-zuerich.ch/statistics/property/EAP\" target=\"_other\">https://ld.stadt-zuerich.ch/statistics/property/EAP</a></td></tr><tr class=even><td class=val><a href=\"https://ld.stadt-zuerich.ch/statistics/measure/WRT\" target=\"_other\">https://ld.stadt-zuerich.ch/statistics/measure/WRT</a></td></tr><tr class=odd><td class=val><a href=\"https://ld.stadt-zuerich.ch/statistics/property/SEX\" target=\"_other\">https://ld.stadt-zuerich.ch/statistics/property/SEX</a></td></tr><tr class=even><td class=val><a href=\"https://ld.stadt-zuerich.ch/statistics/property/TOU\" target=\"_other\">https://ld.stadt-zuerich.ch/statistics/property/TOU</a></td></tr><tr class=odd><td class=val><a href=\"https://ld.stadt-zuerich.ch/statistics/measure/GES\" target=\"_other\">https://ld.stadt-zuerich.ch/statistics/measure/GES</a></td></tr><tr class=even><td class=val><a href=\"https://ld.stadt-zuerich.ch/statistics/property/TIG\" target=\"_other\">https://ld.stadt-zuerich.ch/statistics/property/TIG</a></td></tr><tr class=odd><td class=val><a href=\"https://ld.stadt-zuerich.ch/statistics/measure/TII\" target=\"_other\">https://ld.stadt-zuerich.ch/statistics/measure/TII</a></td></tr><tr class=even><td class=val><a href=\"http://qudt.org/vocab/unit#unit\" target=\"_other\">http://qudt.org/vocab/unit#unit</a></td></tr><tr class=odd><td class=val><a href=\"http://www.w3.org/2004/02/skos/core#scopeNote\" target=\"_other\">http://www.w3.org/2004/02/skos/core#scopeNote</a></td></tr><tr class=even><td class=val><a href=\"https://ld.stadt-zuerich.ch/schema/rounding\" target=\"_other\">https://ld.stadt-zuerich.ch/schema/rounding</a></td></tr><tr class=odd><td class=val><a href=\"http://www.w3.org/2004/02/skos/core#member\" target=\"_other\">http://www.w3.org/2004/02/skos/core#member</a></td></tr><tr class=even><td class=val><a href=\"http://schema.org/position\" target=\"_other\">http://schema.org/position</a></td></tr><tr class=odd><td class=val><a href=\"http://schema.org/sameAs\" target=\"_other\">http://schema.org/sameAs</a></td></tr><tr class=even><td class=val><a href=\"https://ld.stadt-zuerich.ch/statistics/measure/TIA\" target=\"_other\">https://ld.stadt-zuerich.ch/statistics/measure/TIA</a></td></tr><tr class=odd><td class=val><a href=\"https://ld.stadt-zuerich.ch/statistics/property/BEW\" target=\"_other\">https://ld.stadt-zuerich.ch/statistics/property/BEW</a></td></tr><tr class=even><td class=val><a href=\"https://ld.stadt-zuerich.ch/statistics/measure/BES\" target=\"_other\">https://ld.stadt-zuerich.ch/statistics/measure/BES</a></td></tr><tr class=odd><td class=val><a href=\"https://ld.stadt-zuerich.ch/statistics/property/HEL\" target=\"_other\">https://ld.stadt-zuerich.ch/statistics/property/HEL</a></td></tr><tr class=even><td class=val><a href=\"https://ld.stadt-zuerich.ch/statistics/measure/ZUS\" target=\"_other\">https://ld.stadt-zuerich.ch/statistics/measure/ZUS</a></td></tr><tr class=odd><td class=val><a href=\"https://ld.stadt-zuerich.ch/statistics/property/ZSA\" target=\"_other\">https://ld.stadt-zuerich.ch/statistics/property/ZSA</a></td></tr><tr class=even><td class=val><a href=\"https://ld.stadt-zuerich.ch/statistics/measure/WHG\" target=\"_other\">https://ld.stadt-zuerich.ch/statistics/measure/WHG</a></td></tr><tr class=odd><td class=val><a href=\"https://ld.stadt-zuerich.ch/statistics/property/ZIM\" target=\"_other\">https://ld.stadt-zuerich.ch/statistics/property/ZIM</a></td></tr><tr class=even><td class=val><a href=\"https://ld.stadt-zuerich.ch/statistics/measure/WHA\" target=\"_other\">https://ld.stadt-zuerich.ch/statistics/measure/WHA</a></td></tr><tr class=odd><td class=val><a href=\"https://ld.stadt-zuerich.ch/statistics/measure/ZIM\" target=\"_other\">https://ld.stadt-zuerich.ch/statistics/measure/ZIM</a></td></tr><tr class=even><td class=val><a href=\"https://ld.stadt-zuerich.ch/statistics/property/WHA\" target=\"_other\">https://ld.stadt-zuerich.ch/statistics/property/WHA</a></td></tr><tr class=odd><td class=val><a href=\"https://ld.stadt-zuerich.ch/statistics/measure/APZ\" target=\"_other\">https://ld.stadt-zuerich.ch/statistics/measure/APZ</a></td></tr><tr class=even><td class=val><a href=\"https://ld.stadt-zuerich.ch/statistics/property/GGH\" target=\"_other\">https://ld.stadt-zuerich.ch/statistics/property/GGH</a></td></tr><tr class=odd><td class=val><a href=\"https://ld.stadt-zuerich.ch/statistics/measure/ANT\" target=\"_other\">https://ld.stadt-zuerich.ch/statistics/measure/ANT</a></td></tr><tr class=even><td class=val><a href=\"https://cube.link/observationSet\" target=\"_other\">https://cube.link/observationSet</a></td></tr><tr class=odd><td class=val><a href=\"https://cube.link/observationConstraint\" target=\"_other\">https://cube.link/observationConstraint</a></td></tr><tr class=even><td class=val><a href=\"https://cube.link/observation\" target=\"_other\">https://cube.link/observation</a></td></tr><tr class=odd><td class=val><a href=\"https://cube.link/observedBy\" target=\"_other\">https://cube.link/observedBy</a></td></tr><tr class=even><td class=val><a href=\"https://ld.stadt-zuerich.ch/schema/hasEnd\" target=\"_other\">https://ld.stadt-zuerich.ch/schema/hasEnd</a></td></tr><tr class=odd><td class=val><a href=\"https://ld.stadt-zuerich.ch/schema/referenceTime\" target=\"_other\">https://ld.stadt-zuerich.ch/schema/referenceTime</a></td></tr><tr class=even><td class=val><a href=\"https://ld.stadt-zuerich.ch/schema/hasBeginning\" target=\"_other\">https://ld.stadt-zuerich.ch/schema/hasBeginning</a></td></tr><tr class=odd><td class=val><a href=\"https://ld.stadt-zuerich.ch/statistics/property/TIME\" target=\"_other\">https://ld.stadt-zuerich.ch/statistics/property/TIME</a></td></tr></table><div class=\"tinfo\">Total: 61, Shown: 61</div></div>"
      ]
     },
     "metadata": {},
     "output_type": "display_data"
    }
   ],
   "source": [
    "# List graphs in endpoint\n",
    "SELECT DISTINCT ?p\n",
    "WHERE {\n",
    "  GRAPH <https://lindas.admin.ch/stadtzuerich/stat> {\n",
    "      ?s ?p ?o;\n",
    "  }\n",
    "}"
   ]
  },
  {
   "cell_type": "markdown",
   "metadata": {},
   "source": [
    "As we can see, there are 61 different properties. The query above will give you access to all of them. \n",
    "\n",
    "To access only few selected properties, use `LIMIT` and `OFFSET` statements.\n",
    "* `LIMIT` allows you to get limited number of triples. `LIMIT 10` will result in 10 results only. \n",
    "* `OFFSET` allows you to set a starting index for `LIMIT`. `OFFSET 20` means first 20 results will be skipped, and results from 21st only will be returned.\n",
    "\n",
    "`LIMIT 20 OFFSET 20` will return all triples indexed between 21 and 40. "
   ]
  },
  {
   "cell_type": "markdown",
   "metadata": {},
   "source": [
    "Let's explore next classes 21 to 40 in our graph."
   ]
  },
  {
   "cell_type": "code",
   "execution_count": 4,
   "metadata": {},
   "outputs": [
    {
     "data": {
      "text/html": [
       "<div class=\"krn-spql\"><table><tr class=hdr><th>p</th></tr><tr class=odd><td class=val><a href=\"https://ld.stadt-zuerich.ch/statistics/property/RAUM\" target=\"_other\">https://ld.stadt-zuerich.ch/statistics/property/RAUM</a></td></tr><tr class=even><td class=val><a href=\"https://ld.stadt-zuerich.ch/statistics/property/ALT\" target=\"_other\">https://ld.stadt-zuerich.ch/statistics/property/ALT</a></td></tr><tr class=odd><td class=val><a href=\"https://ld.stadt-zuerich.ch/statistics/measure/BEW\" target=\"_other\">https://ld.stadt-zuerich.ch/statistics/measure/BEW</a></td></tr><tr class=even><td class=val><a href=\"https://ld.stadt-zuerich.ch/statistics/attribute/KORREKTUR\" target=\"_other\">https://ld.stadt-zuerich.ch/statistics/attribute/KORREKTUR</a></td></tr><tr class=odd><td class=val><a href=\"https://ld.stadt-zuerich.ch/statistics/property/BTA\" target=\"_other\">https://ld.stadt-zuerich.ch/statistics/property/BTA</a></td></tr><tr class=even><td class=val><a href=\"https://ld.stadt-zuerich.ch/statistics/measure/AST\" target=\"_other\">https://ld.stadt-zuerich.ch/statistics/measure/AST</a></td></tr><tr class=odd><td class=val><a href=\"https://ld.stadt-zuerich.ch/statistics/property/EAP\" target=\"_other\">https://ld.stadt-zuerich.ch/statistics/property/EAP</a></td></tr><tr class=even><td class=val><a href=\"https://ld.stadt-zuerich.ch/statistics/measure/WRT\" target=\"_other\">https://ld.stadt-zuerich.ch/statistics/measure/WRT</a></td></tr><tr class=odd><td class=val><a href=\"https://ld.stadt-zuerich.ch/statistics/property/SEX\" target=\"_other\">https://ld.stadt-zuerich.ch/statistics/property/SEX</a></td></tr><tr class=even><td class=val><a href=\"https://ld.stadt-zuerich.ch/statistics/property/TOU\" target=\"_other\">https://ld.stadt-zuerich.ch/statistics/property/TOU</a></td></tr><tr class=odd><td class=val><a href=\"https://ld.stadt-zuerich.ch/statistics/measure/GES\" target=\"_other\">https://ld.stadt-zuerich.ch/statistics/measure/GES</a></td></tr><tr class=even><td class=val><a href=\"https://ld.stadt-zuerich.ch/statistics/property/TIG\" target=\"_other\">https://ld.stadt-zuerich.ch/statistics/property/TIG</a></td></tr><tr class=odd><td class=val><a href=\"https://ld.stadt-zuerich.ch/statistics/measure/TII\" target=\"_other\">https://ld.stadt-zuerich.ch/statistics/measure/TII</a></td></tr><tr class=even><td class=val><a href=\"http://qudt.org/vocab/unit#unit\" target=\"_other\">http://qudt.org/vocab/unit#unit</a></td></tr><tr class=odd><td class=val><a href=\"http://www.w3.org/2004/02/skos/core#scopeNote\" target=\"_other\">http://www.w3.org/2004/02/skos/core#scopeNote</a></td></tr><tr class=even><td class=val><a href=\"https://ld.stadt-zuerich.ch/schema/rounding\" target=\"_other\">https://ld.stadt-zuerich.ch/schema/rounding</a></td></tr><tr class=odd><td class=val><a href=\"http://www.w3.org/2004/02/skos/core#member\" target=\"_other\">http://www.w3.org/2004/02/skos/core#member</a></td></tr><tr class=even><td class=val><a href=\"http://schema.org/position\" target=\"_other\">http://schema.org/position</a></td></tr><tr class=odd><td class=val><a href=\"http://schema.org/sameAs\" target=\"_other\">http://schema.org/sameAs</a></td></tr><tr class=even><td class=val><a href=\"https://ld.stadt-zuerich.ch/statistics/measure/TIA\" target=\"_other\">https://ld.stadt-zuerich.ch/statistics/measure/TIA</a></td></tr></table><div class=\"tinfo\">Total: 20, Shown: 20</div></div>"
      ]
     },
     "metadata": {},
     "output_type": "display_data"
    }
   ],
   "source": [
    "# List graphs in endpoint\n",
    "SELECT DISTINCT ?p\n",
    "WHERE {\n",
    "  GRAPH <https://lindas.admin.ch/stadtzuerich/stat> {\n",
    "      ?s ?p ?o;\n",
    "  }\n",
    "}\n",
    "LIMIT 20 OFFSET 20"
   ]
  },
  {
   "cell_type": "markdown",
   "metadata": {},
   "source": [
    "### TODO: Explain RDF type\n",
    "\n",
    "To understand better our data structure, let's access all properties defined by `a` (RDF type)."
   ]
  },
  {
   "cell_type": "code",
   "execution_count": 5,
   "metadata": {},
   "outputs": [
    {
     "data": {
      "text/html": [
       "<div class=\"krn-spql\"><table><tr class=hdr><th>cls</th></tr><tr class=odd><td class=val><a href=\"http://www.w3.org/ns/shacl#NodeShape\" target=\"_other\">http://www.w3.org/ns/shacl#NodeShape</a></td></tr><tr class=even><td class=val><a href=\"http://www.w3.org/1999/02/22-rdf-syntax-ns#Property\" target=\"_other\">http://www.w3.org/1999/02/22-rdf-syntax-ns#Property</a></td></tr><tr class=odd><td class=val><a href=\"http://schema.org/Place\" target=\"_other\">http://schema.org/Place</a></td></tr><tr class=even><td class=val><a href=\"http://www.w3.org/2004/02/skos/core#Concept\" target=\"_other\">http://www.w3.org/2004/02/skos/core#Concept</a></td></tr><tr class=odd><td class=val><a href=\"http://www.w3.org/2004/02/skos/core#ConceptScheme\" target=\"_other\">http://www.w3.org/2004/02/skos/core#ConceptScheme</a></td></tr><tr class=even><td class=val><a href=\"http://qudt.org/vocab/unit#Unit\" target=\"_other\">http://qudt.org/vocab/unit#Unit</a></td></tr><tr class=odd><td class=val><a href=\"http://www.w3.org/2004/02/skos/core#Collection\" target=\"_other\">http://www.w3.org/2004/02/skos/core#Collection</a></td></tr><tr class=even><td class=val><a href=\"http://www.w3.org/2006/time#TemporalEntity\" target=\"_other\">http://www.w3.org/2006/time#TemporalEntity</a></td></tr><tr class=odd><td class=val><a href=\"https://cube.link/Cube\" target=\"_other\">https://cube.link/Cube</a></td></tr><tr class=even><td class=val><a href=\"https://cube.link/ObservationSet\" target=\"_other\">https://cube.link/ObservationSet</a></td></tr><tr class=odd><td class=val><a href=\"https://cube.link/Constraint\" target=\"_other\">https://cube.link/Constraint</a></td></tr><tr class=even><td class=val><a href=\"https://cube.link/Observation\" target=\"_other\">https://cube.link/Observation</a></td></tr></table><div class=\"tinfo\">Total: 12, Shown: 12</div></div>"
      ]
     },
     "metadata": {},
     "output_type": "display_data"
    }
   ],
   "source": [
    "# List all classes\n",
    "\n",
    "PREFIX rdfs: <http://www.w3.org/2000/01/rdf-schema#>\n",
    "\n",
    "SELECT DISTINCT ?cls\n",
    "FROM <https://lindas.admin.ch/stadtzuerich/stat>\n",
    "WHERE {\n",
    "  ?subject a ?cls .\n",
    "}\n",
    "LIMIT 50"
   ]
  },
  {
   "cell_type": "markdown",
   "metadata": {},
   "source": [
    "That's better! Much easier to find what is important when looking at 12 classes only. \n",
    "\n",
    "We are looking for something that represents a dataset: collection of triples around certain subject.\n",
    "The potential candidates are:\n",
    "* https://cube.link/Cube\n",
    "* https://cube.link/ObservationSet\n",
    "* http://www.w3.org/2004/02/skos/core#Collection\n",
    "\n",
    "Let's get some examples of those"
   ]
  },
  {
   "cell_type": "code",
   "execution_count": 6,
   "metadata": {},
   "outputs": [
    {
     "data": {
      "text/html": [
       "<div class=\"krn-spql\"><table><tr class=hdr><th>s</th></tr><tr class=odd><td class=val><a href=\"https://ld.stadt-zuerich.ch/statistics/BEW-ALT\" target=\"_other\">https://ld.stadt-zuerich.ch/statistics/BEW-ALT</a></td></tr><tr class=even><td class=val><a href=\"https://ld.stadt-zuerich.ch/statistics/AST-BTA\" target=\"_other\">https://ld.stadt-zuerich.ch/statistics/AST-BTA</a></td></tr><tr class=odd><td class=val><a href=\"https://ld.stadt-zuerich.ch/statistics/WRT-BTA-EAP\" target=\"_other\">https://ld.stadt-zuerich.ch/statistics/WRT-BTA-EAP</a></td></tr><tr class=even><td class=val><a href=\"https://ld.stadt-zuerich.ch/statistics/GES-ALT-SEX-TOU\" target=\"_other\">https://ld.stadt-zuerich.ch/statistics/GES-ALT-SEX-TOU</a></td></tr><tr class=odd><td class=val><a href=\"https://ld.stadt-zuerich.ch/statistics/GES-SEX-TOU\" target=\"_other\">https://ld.stadt-zuerich.ch/statistics/GES-SEX-TOU</a></td></tr><tr class=even><td class=val><a href=\"https://ld.stadt-zuerich.ch/statistics/TII-BTA-TIG\" target=\"_other\">https://ld.stadt-zuerich.ch/statistics/TII-BTA-TIG</a></td></tr><tr class=odd><td class=val><a href=\"https://ld.stadt-zuerich.ch/statistics/TIA-BTA\" target=\"_other\">https://ld.stadt-zuerich.ch/statistics/TIA-BTA</a></td></tr><tr class=even><td class=val><a href=\"https://ld.stadt-zuerich.ch/statistics/TIA-BTA-TIG\" target=\"_other\">https://ld.stadt-zuerich.ch/statistics/TIA-BTA-TIG</a></td></tr><tr class=odd><td class=val><a href=\"https://ld.stadt-zuerich.ch/statistics/TII-BTA\" target=\"_other\">https://ld.stadt-zuerich.ch/statistics/TII-BTA</a></td></tr><tr class=even><td class=val><a href=\"https://ld.stadt-zuerich.ch/statistics/AST-BEW-BTA\" target=\"_other\">https://ld.stadt-zuerich.ch/statistics/AST-BEW-BTA</a></td></tr></table><div class=\"tinfo\">Total: 10, Shown: 10</div></div>"
      ]
     },
     "metadata": {},
     "output_type": "display_data"
    }
   ],
   "source": [
    "# List all classes\n",
    "\n",
    "PREFIX rdfs: <http://www.w3.org/2000/01/rdf-schema#>\n",
    "\n",
    "SELECT DISTINCT ?s\n",
    "FROM <https://lindas.admin.ch/stadtzuerich/stat>\n",
    "WHERE {\n",
    "  ?s a <https://cube.link/Cube> .\n",
    "}\n",
    "LIMIT 10"
   ]
  },
  {
   "cell_type": "markdown",
   "metadata": {},
   "source": [
    "That looks plausible. Let's check in the [documentation](https://cube.link/):\n",
    "\n",
    "**Cube**  \n",
    "*Represents the entry point for a collection of observations, conforming to some common dimensional structure.*\n",
    "\n",
    "Exactly what we were looking for!\n"
   ]
  },
  {
   "cell_type": "code",
   "execution_count": 7,
   "metadata": {},
   "outputs": [
    {
     "data": {
      "text/html": [
       "<div class=\"krn-spql\"><table><tr class=hdr><th>s</th></tr><tr class=odd><td class=val><a href=\"https://ld.stadt-zuerich.ch/statistics/BEW-ALT\" target=\"_other\">https://ld.stadt-zuerich.ch/statistics/BEW-ALT</a></td></tr><tr class=even><td class=val><a href=\"https://ld.stadt-zuerich.ch/statistics/AST-BTA\" target=\"_other\">https://ld.stadt-zuerich.ch/statistics/AST-BTA</a></td></tr><tr class=odd><td class=val><a href=\"https://ld.stadt-zuerich.ch/statistics/WRT-BTA-EAP\" target=\"_other\">https://ld.stadt-zuerich.ch/statistics/WRT-BTA-EAP</a></td></tr><tr class=even><td class=val><a href=\"https://ld.stadt-zuerich.ch/statistics/GES-ALT-SEX-TOU\" target=\"_other\">https://ld.stadt-zuerich.ch/statistics/GES-ALT-SEX-TOU</a></td></tr><tr class=odd><td class=val><a href=\"https://ld.stadt-zuerich.ch/statistics/GES-SEX-TOU\" target=\"_other\">https://ld.stadt-zuerich.ch/statistics/GES-SEX-TOU</a></td></tr><tr class=even><td class=val><a href=\"https://ld.stadt-zuerich.ch/statistics/TII-BTA-TIG\" target=\"_other\">https://ld.stadt-zuerich.ch/statistics/TII-BTA-TIG</a></td></tr><tr class=odd><td class=val><a href=\"https://ld.stadt-zuerich.ch/statistics/TIA-BTA\" target=\"_other\">https://ld.stadt-zuerich.ch/statistics/TIA-BTA</a></td></tr><tr class=even><td class=val><a href=\"https://ld.stadt-zuerich.ch/statistics/TIA-BTA-TIG\" target=\"_other\">https://ld.stadt-zuerich.ch/statistics/TIA-BTA-TIG</a></td></tr><tr class=odd><td class=val><a href=\"https://ld.stadt-zuerich.ch/statistics/TII-BTA\" target=\"_other\">https://ld.stadt-zuerich.ch/statistics/TII-BTA</a></td></tr><tr class=even><td class=val><a href=\"https://ld.stadt-zuerich.ch/statistics/AST-BEW-BTA\" target=\"_other\">https://ld.stadt-zuerich.ch/statistics/AST-BEW-BTA</a></td></tr><tr class=odd><td class=val><a href=\"https://ld.stadt-zuerich.ch/statistics/GES-ALT-SEX\" target=\"_other\">https://ld.stadt-zuerich.ch/statistics/GES-ALT-SEX</a></td></tr><tr class=even><td class=val><a href=\"https://ld.stadt-zuerich.ch/statistics/BEW\" target=\"_other\">https://ld.stadt-zuerich.ch/statistics/BEW</a></td></tr><tr class=odd><td class=val><a href=\"https://ld.stadt-zuerich.ch/statistics/BES-BTA-SEX\" target=\"_other\">https://ld.stadt-zuerich.ch/statistics/BES-BTA-SEX</a></td></tr><tr class=even><td class=val><a href=\"https://ld.stadt-zuerich.ch/statistics/BES-BTA\" target=\"_other\">https://ld.stadt-zuerich.ch/statistics/BES-BTA</a></td></tr><tr class=odd><td class=val><a href=\"https://ld.stadt-zuerich.ch/statistics/ZUS-BTA-HEL\" target=\"_other\">https://ld.stadt-zuerich.ch/statistics/ZUS-BTA-HEL</a></td></tr><tr class=even><td class=val><a href=\"https://ld.stadt-zuerich.ch/statistics/ZUS-BTA-SEX\" target=\"_other\">https://ld.stadt-zuerich.ch/statistics/ZUS-BTA-SEX</a></td></tr><tr class=odd><td class=val><a href=\"https://ld.stadt-zuerich.ch/statistics/ZUS-BTA\" target=\"_other\">https://ld.stadt-zuerich.ch/statistics/ZUS-BTA</a></td></tr><tr class=even><td class=val><a href=\"https://ld.stadt-zuerich.ch/statistics/ZUS-BTA-ZSA\" target=\"_other\">https://ld.stadt-zuerich.ch/statistics/ZUS-BTA-ZSA</a></td></tr><tr class=odd><td class=val><a href=\"https://ld.stadt-zuerich.ch/statistics/WHG\" target=\"_other\">https://ld.stadt-zuerich.ch/statistics/WHG</a></td></tr><tr class=even><td class=val><a href=\"https://ld.stadt-zuerich.ch/statistics/WHA-ZIM\" target=\"_other\">https://ld.stadt-zuerich.ch/statistics/WHA-ZIM</a></td></tr><tr class=odd><td class=val><a href=\"https://ld.stadt-zuerich.ch/statistics/ZIM\" target=\"_other\">https://ld.stadt-zuerich.ch/statistics/ZIM</a></td></tr><tr class=even><td class=val><a href=\"https://ld.stadt-zuerich.ch/statistics/WHA\" target=\"_other\">https://ld.stadt-zuerich.ch/statistics/WHA</a></td></tr><tr class=odd><td class=val><a href=\"https://ld.stadt-zuerich.ch/statistics/WHG-ZIM\" target=\"_other\">https://ld.stadt-zuerich.ch/statistics/WHG-ZIM</a></td></tr><tr class=even><td class=val><a href=\"https://ld.stadt-zuerich.ch/statistics/ZIM-WHA\" target=\"_other\">https://ld.stadt-zuerich.ch/statistics/ZIM-WHA</a></td></tr><tr class=odd><td class=val><a href=\"https://ld.stadt-zuerich.ch/statistics/APZ\" target=\"_other\">https://ld.stadt-zuerich.ch/statistics/APZ</a></td></tr><tr class=even><td class=val><a href=\"https://ld.stadt-zuerich.ch/statistics/BEW-HEL-SEX\" target=\"_other\">https://ld.stadt-zuerich.ch/statistics/BEW-HEL-SEX</a></td></tr><tr class=odd><td class=val><a href=\"https://ld.stadt-zuerich.ch/statistics/BEW-HEL\" target=\"_other\">https://ld.stadt-zuerich.ch/statistics/BEW-HEL</a></td></tr><tr class=even><td class=val><a href=\"https://ld.stadt-zuerich.ch/statistics/BEW-SEX\" target=\"_other\">https://ld.stadt-zuerich.ch/statistics/BEW-SEX</a></td></tr><tr class=odd><td class=val><a href=\"https://ld.stadt-zuerich.ch/statistics/ANT-GGH-HEL\" target=\"_other\">https://ld.stadt-zuerich.ch/statistics/ANT-GGH-HEL</a></td></tr><tr class=even><td class=val><a href=\"https://ld.stadt-zuerich.ch/statistics/GES-SEX\" target=\"_other\">https://ld.stadt-zuerich.ch/statistics/GES-SEX</a></td></tr></table><div class=\"tinfo\">Total: 30, Shown: 30</div></div>"
      ]
     },
     "metadata": {},
     "output_type": "display_data"
    }
   ],
   "source": [
    "PREFIX rdfs: <http://www.w3.org/2000/01/rdf-schema#>\n",
    "\n",
    "SELECT DISTINCT ?s\n",
    "FROM <https://lindas.admin.ch/stadtzuerich/stat>\n",
    "WHERE {\n",
    "  ?s a <https://cube.link/Cube> .\n",
    "}"
   ]
  },
  {
   "cell_type": "markdown",
   "metadata": {},
   "source": [
    "The available cubes are:\n",
    "\n",
    "* https://ld.stadt-zuerich.ch/statistics/BEW-ALT\n",
    "* https://ld.stadt-zuerich.ch/statistics/AST-BTA\n",
    "* https://ld.stadt-zuerich.ch/statistics/WRT-BTA-EAP\n",
    "* https://ld.stadt-zuerich.ch/statistics/GES-ALT-SEX-TOU\n",
    "* https://ld.stadt-zuerich.ch/statistics/GES-SEX-TOU\n",
    "* https://ld.stadt-zuerich.ch/statistics/TII-BTA-TIG\n",
    "* https://ld.stadt-zuerich.ch/statistics/TIA-BTA\n",
    "* https://ld.stadt-zuerich.ch/statistics/TIA-BTA-TIG\n",
    "* https://ld.stadt-zuerich.ch/statistics/TII-BTA\n",
    "* https://ld.stadt-zuerich.ch/statistics/AST-BEW-BTA\n",
    "* https://ld.stadt-zuerich.ch/statistics/GES-ALT-SEX\n",
    "* https://ld.stadt-zuerich.ch/statistics/BEW\n",
    "* https://ld.stadt-zuerich.ch/statistics/BES-BTA-SEX\n",
    "* https://ld.stadt-zuerich.ch/statistics/BES-BTA\n",
    "* https://ld.stadt-zuerich.ch/statistics/ZUS-BTA-HEL\n",
    "* https://ld.stadt-zuerich.ch/statistics/ZUS-BTA-SEX\n",
    "* https://ld.stadt-zuerich.ch/statistics/ZUS-BTA\n",
    "* https://ld.stadt-zuerich.ch/statistics/ZUS-BTA-ZSA\n",
    "* https://ld.stadt-zuerich.ch/statistics/WHG\n",
    "* https://ld.stadt-zuerich.ch/statistics/WHA-ZIM\n",
    "* https://ld.stadt-zuerich.ch/statistics/ZIM\n",
    "* https://ld.stadt-zuerich.ch/statistics/WHA\n",
    "* https://ld.stadt-zuerich.ch/statistics/WHG-ZIM\n",
    "* https://ld.stadt-zuerich.ch/statistics/ZIM-WHA\n",
    "* https://ld.stadt-zuerich.ch/statistics/APZ\n",
    "* https://ld.stadt-zuerich.ch/statistics/BEW-HEL-SEX\n",
    "* https://ld.stadt-zuerich.ch/statistics/BEW-HEL\n",
    "* https://ld.stadt-zuerich.ch/statistics/BEW-SEX\n",
    "* https://ld.stadt-zuerich.ch/statistics/ANT-GGH-HEL\n",
    "* https://ld.stadt-zuerich.ch/statistics/GES-SEX\n"
   ]
  },
  {
   "cell_type": "markdown",
   "metadata": {},
   "source": [
    "Let's narrow it down to unique dimensions:\n",
    "\n",
    "* https://ld.stadt-zuerich.ch/statistics/BEW-ALT\n",
    "* https://ld.stadt-zuerich.ch/statistics/BEW-HEL-SEX\n",
    "\n",
    "* https://ld.stadt-zuerich.ch/statistics/APZ\n",
    "* https://ld.stadt-zuerich.ch/statistics/ANT-GGH-HEL\n",
    "* https://ld.stadt-zuerich.ch/statistics/AST-BEW-BTA\n",
    "\n",
    "* https://ld.stadt-zuerich.ch/statistics/TII-BTA-TIG\n",
    "* https://ld.stadt-zuerich.ch/statistics/TIA-BTA-TIG\n",
    "\n",
    "* https://ld.stadt-zuerich.ch/statistics/GES-ALT-SEX\n",
    "* https://ld.stadt-zuerich.ch/statistics/BES-BTA-SEX\n",
    "\n",
    "* https://ld.stadt-zuerich.ch/statistics/ZUS-BTA-HEL\n",
    "* https://ld.stadt-zuerich.ch/statistics/ZUS-BTA-SEX\n",
    "* https://ld.stadt-zuerich.ch/statistics/ZUS-BTA-ZSA\n",
    "\n",
    "* https://ld.stadt-zuerich.ch/statistics/WHA-ZIM # DIFFERENCE?\n",
    "* https://ld.stadt-zuerich.ch/statistics/ZIM-WHA\n",
    "* https://ld.stadt-zuerich.ch/statistics/WHG-ZIM\n",
    "\n",
    "* https://ld.stadt-zuerich.ch/statistics/WRT-BTA-EAP\n",
    "\n",
    "\n"
   ]
  },
  {
   "cell_type": "code",
   "execution_count": 8,
   "metadata": {},
   "outputs": [
    {
     "data": {
      "text/html": [
       "<div class=\"krn-spql\"><table><tr class=hdr><th>property</th></tr><tr class=odd><td class=val><a href=\"http://www.w3.org/1999/02/22-rdf-syntax-ns#type\" target=\"_other\">http://www.w3.org/1999/02/22-rdf-syntax-ns#type</a></td></tr><tr class=even><td class=val><a href=\"https://cube.link/observationSet\" target=\"_other\">https://cube.link/observationSet</a></td></tr><tr class=odd><td class=val><a href=\"https://cube.link/observationConstraint\" target=\"_other\">https://cube.link/observationConstraint</a></td></tr></table><div class=\"tinfo\">Total: 3, Shown: 3</div></div>"
      ]
     },
     "metadata": {},
     "output_type": "display_data"
    }
   ],
   "source": [
    "# List all properties of a Cube class\n",
    "\n",
    "PREFIX schema: <http://schema.org/>\n",
    "PREFIX cube: <https://cube.link/>\n",
    "\n",
    "SELECT DISTINCT ?property\n",
    "FROM <https://lindas.admin.ch/stadtzuerich/stat>\n",
    "WHERE {\n",
    "  ?subject a cube:Cube;\n",
    "           ?property ?object.\n",
    "}\n",
    "LIMIT 20"
   ]
  },
  {
   "cell_type": "markdown",
   "metadata": {},
   "source": [
    "We will be interested in observationSet. Let's explore it for https://ld.stadt-zuerich.ch/statistics/BEW-ALT dataset"
   ]
  },
  {
   "cell_type": "code",
   "execution_count": 9,
   "metadata": {},
   "outputs": [
    {
     "data": {
      "text/html": [
       "<div class=\"krn-spql\"><table><tr class=hdr><th>object</th></tr><tr class=odd><td class=val><a href=\"https://ld.stadt-zuerich.ch/statistics/BEW-HEL-SEX/observation/\" target=\"_other\">https://ld.stadt-zuerich.ch/statistics/BEW-HEL-SEX/observation/</a></td></tr></table><div class=\"tinfo\">Total: 1, Shown: 1</div></div>"
      ]
     },
     "metadata": {},
     "output_type": "display_data"
    }
   ],
   "source": [
    "# List all properties of a Cube class\n",
    "\n",
    "PREFIX schema: <http://schema.org/>\n",
    "PREFIX cube: <https://cube.link/>\n",
    "\n",
    "SELECT DISTINCT ?object\n",
    "FROM <https://lindas.admin.ch/stadtzuerich/stat>\n",
    "WHERE {\n",
    "  <https://ld.stadt-zuerich.ch/statistics/BEW-HEL-SEX> a cube:Cube;\n",
    "           cube:observationSet ?object.\n",
    "}\n",
    "LIMIT 20"
   ]
  },
  {
   "cell_type": "code",
   "execution_count": 10,
   "metadata": {},
   "outputs": [
    {
     "data": {
      "text/html": [
       "<div class=\"krn-spql\"><table><tr class=hdr><th>p</th>\n",
       "<th>o</th></tr><tr class=odd><td class=val><a href=\"http://www.w3.org/1999/02/22-rdf-syntax-ns#type\" target=\"_other\">http://www.w3.org/1999/02/22-rdf-syntax-ns#type</a></td>\n",
       "<td class=val><a href=\"https://cube.link/ObservationSet\" target=\"_other\">https://cube.link/ObservationSet</a></td></tr><tr class=even><td class=val><a href=\"https://cube.link/observation\" target=\"_other\">https://cube.link/observation</a></td>\n",
       "<td class=val><a href=\"https://ld.stadt-zuerich.ch/statistics/BEW-HEL-SEX/observation/HEL1000-SEX0001-R00011-Z31122017\" target=\"_other\">https://ld.stadt-zuerich.ch/statistics/BEW-HEL-SEX/observation/HEL1000-SEX0001-R00011-Z31122017</a></td></tr><tr class=odd><td class=val><a href=\"https://cube.link/observation\" target=\"_other\">https://cube.link/observation</a></td>\n",
       "<td class=val><a href=\"https://ld.stadt-zuerich.ch/statistics/BEW-HEL-SEX/observation/HEL1000-SEX0002-R00012-Z31122017\" target=\"_other\">https://ld.stadt-zuerich.ch/statistics/BEW-HEL-SEX/observation/HEL1000-SEX0002-R00012-Z31122017</a></td></tr><tr class=even><td class=val><a href=\"https://cube.link/observation\" target=\"_other\">https://cube.link/observation</a></td>\n",
       "<td class=val><a href=\"https://ld.stadt-zuerich.ch/statistics/BEW-HEL-SEX/observation/HEL2000-SEX0001-R00013-Z31122017\" target=\"_other\">https://ld.stadt-zuerich.ch/statistics/BEW-HEL-SEX/observation/HEL2000-SEX0001-R00013-Z31122017</a></td></tr><tr class=odd><td class=val><a href=\"https://cube.link/observation\" target=\"_other\">https://cube.link/observation</a></td>\n",
       "<td class=val><a href=\"https://ld.stadt-zuerich.ch/statistics/BEW-HEL-SEX/observation/HEL2000-SEX0002-R00014-Z31122017\" target=\"_other\">https://ld.stadt-zuerich.ch/statistics/BEW-HEL-SEX/observation/HEL2000-SEX0002-R00014-Z31122017</a></td></tr><tr class=even><td class=val><a href=\"https://cube.link/observation\" target=\"_other\">https://cube.link/observation</a></td>\n",
       "<td class=val><a href=\"https://ld.stadt-zuerich.ch/statistics/BEW-HEL-SEX/observation/HEL1000-SEX0001-R00034-Z31122017\" target=\"_other\">https://ld.stadt-zuerich.ch/statistics/BEW-HEL-SEX/observation/HEL1000-SEX0001-R00034-Z31122017</a></td></tr><tr class=odd><td class=val><a href=\"https://cube.link/observation\" target=\"_other\">https://cube.link/observation</a></td>\n",
       "<td class=val><a href=\"https://ld.stadt-zuerich.ch/statistics/BEW-HEL-SEX/observation/HEL1000-SEX0002-R00041-Z31122017\" target=\"_other\">https://ld.stadt-zuerich.ch/statistics/BEW-HEL-SEX/observation/HEL1000-SEX0002-R00041-Z31122017</a></td></tr><tr class=even><td class=val><a href=\"https://cube.link/observation\" target=\"_other\">https://cube.link/observation</a></td>\n",
       "<td class=val><a href=\"https://ld.stadt-zuerich.ch/statistics/BEW-HEL-SEX/observation/HEL2000-SEX0001-R00042-Z31122017\" target=\"_other\">https://ld.stadt-zuerich.ch/statistics/BEW-HEL-SEX/observation/HEL2000-SEX0001-R00042-Z31122017</a></td></tr><tr class=odd><td class=val><a href=\"https://cube.link/observation\" target=\"_other\">https://cube.link/observation</a></td>\n",
       "<td class=val><a href=\"https://ld.stadt-zuerich.ch/statistics/BEW-HEL-SEX/observation/HEL2000-SEX0002-R00044-Z31122017\" target=\"_other\">https://ld.stadt-zuerich.ch/statistics/BEW-HEL-SEX/observation/HEL2000-SEX0002-R00044-Z31122017</a></td></tr><tr class=even><td class=val><a href=\"https://cube.link/observation\" target=\"_other\">https://cube.link/observation</a></td>\n",
       "<td class=val><a href=\"https://ld.stadt-zuerich.ch/statistics/BEW-HEL-SEX/observation/HEL1000-SEX0002-R00072-Z31122017\" target=\"_other\">https://ld.stadt-zuerich.ch/statistics/BEW-HEL-SEX/observation/HEL1000-SEX0002-R00072-Z31122017</a></td></tr></table><div class=\"tinfo\">Total: 10, Shown: 10</div></div>"
      ]
     },
     "metadata": {},
     "output_type": "display_data"
    }
   ],
   "source": [
    "# Explore this observation\n",
    "\n",
    "PREFIX schema: <http://schema.org/>\n",
    "PREFIX cube: <https://cube.link/>\n",
    "\n",
    "SELECT DISTINCT ?p ?o\n",
    "FROM <https://lindas.admin.ch/stadtzuerich/stat>\n",
    "WHERE {\n",
    "  <https://ld.stadt-zuerich.ch/statistics/BEW-HEL-SEX/observation/> ?p ?o.\n",
    "}\n",
    "LIMIT 10"
   ]
  },
  {
   "cell_type": "markdown",
   "metadata": {},
   "source": [
    "With 10k similar observations, that looks like sth we were looking for!"
   ]
  },
  {
   "cell_type": "code",
   "execution_count": 11,
   "metadata": {},
   "outputs": [
    {
     "data": {
      "text/html": [
       "<div class=\"krn-spql\"><table><tr class=hdr><th>p</th></tr><tr class=odd><td class=val><a href=\"http://www.w3.org/1999/02/22-rdf-syntax-ns#type\" target=\"_other\">http://www.w3.org/1999/02/22-rdf-syntax-ns#type</a></td></tr><tr class=even><td class=val><a href=\"http://www.w3.org/2004/02/skos/core#notation\" target=\"_other\">http://www.w3.org/2004/02/skos/core#notation</a></td></tr><tr class=odd><td class=val><a href=\"https://ld.stadt-zuerich.ch/statistics/property/ZEIT\" target=\"_other\">https://ld.stadt-zuerich.ch/statistics/property/ZEIT</a></td></tr><tr class=even><td class=val><a href=\"https://ld.stadt-zuerich.ch/statistics/property/RAUM\" target=\"_other\">https://ld.stadt-zuerich.ch/statistics/property/RAUM</a></td></tr><tr class=odd><td class=val><a href=\"https://ld.stadt-zuerich.ch/statistics/measure/BEW\" target=\"_other\">https://ld.stadt-zuerich.ch/statistics/measure/BEW</a></td></tr><tr class=even><td class=val><a href=\"https://ld.stadt-zuerich.ch/statistics/attribute/KORREKTUR\" target=\"_other\">https://ld.stadt-zuerich.ch/statistics/attribute/KORREKTUR</a></td></tr><tr class=odd><td class=val><a href=\"https://ld.stadt-zuerich.ch/statistics/property/SEX\" target=\"_other\">https://ld.stadt-zuerich.ch/statistics/property/SEX</a></td></tr><tr class=even><td class=val><a href=\"https://ld.stadt-zuerich.ch/statistics/property/HEL\" target=\"_other\">https://ld.stadt-zuerich.ch/statistics/property/HEL</a></td></tr><tr class=odd><td class=val><a href=\"https://cube.link/observedBy\" target=\"_other\">https://cube.link/observedBy</a></td></tr><tr class=even><td class=val><a href=\"https://ld.stadt-zuerich.ch/statistics/property/TIME\" target=\"_other\">https://ld.stadt-zuerich.ch/statistics/property/TIME</a></td></tr></table><div class=\"tinfo\">Total: 10, Shown: 10</div></div>"
      ]
     },
     "metadata": {},
     "output_type": "display_data"
    }
   ],
   "source": [
    "# Let's properties of an observation\n",
    "\n",
    "PREFIX schema: <http://schema.org/>\n",
    "PREFIX cube: <https://cube.link/>\n",
    "\n",
    "SELECT DISTINCT ?p\n",
    "FROM <https://lindas.admin.ch/stadtzuerich/stat>\n",
    "WHERE {\n",
    "  <https://ld.stadt-zuerich.ch/statistics/BEW-HEL-SEX/observation/HEL1000-SEX0001-R00011-Z31122017> ?p ?o.\n",
    "}"
   ]
  },
  {
   "cell_type": "code",
   "execution_count": 23,
   "metadata": {},
   "outputs": [
    {
     "data": {
      "text/html": [
       "<div class=\"krn-spql\"><table><tr class=hdr><th>obsProperty</th></tr><tr class=odd><td class=val><a href=\"http://www.w3.org/1999/02/22-rdf-syntax-ns#type\" target=\"_other\">http://www.w3.org/1999/02/22-rdf-syntax-ns#type</a></td></tr><tr class=even><td class=val><a href=\"http://www.w3.org/2004/02/skos/core#notation\" target=\"_other\">http://www.w3.org/2004/02/skos/core#notation</a></td></tr><tr class=odd><td class=val><a href=\"https://ld.stadt-zuerich.ch/statistics/property/ZEIT\" target=\"_other\">https://ld.stadt-zuerich.ch/statistics/property/ZEIT</a></td></tr><tr class=even><td class=val><a href=\"https://ld.stadt-zuerich.ch/statistics/property/RAUM\" target=\"_other\">https://ld.stadt-zuerich.ch/statistics/property/RAUM</a></td></tr><tr class=odd><td class=val><a href=\"https://ld.stadt-zuerich.ch/statistics/property/ALT\" target=\"_other\">https://ld.stadt-zuerich.ch/statistics/property/ALT</a></td></tr><tr class=even><td class=val><a href=\"https://ld.stadt-zuerich.ch/statistics/measure/BEW\" target=\"_other\">https://ld.stadt-zuerich.ch/statistics/measure/BEW</a></td></tr><tr class=odd><td class=val><a href=\"https://ld.stadt-zuerich.ch/statistics/attribute/KORREKTUR\" target=\"_other\">https://ld.stadt-zuerich.ch/statistics/attribute/KORREKTUR</a></td></tr><tr class=even><td class=val><a href=\"https://cube.link/observedBy\" target=\"_other\">https://cube.link/observedBy</a></td></tr><tr class=odd><td class=val><a href=\"https://ld.stadt-zuerich.ch/statistics/property/TIME\" target=\"_other\">https://ld.stadt-zuerich.ch/statistics/property/TIME</a></td></tr><tr class=even><td class=val><a href=\"https://ld.stadt-zuerich.ch/statistics/property/BTA\" target=\"_other\">https://ld.stadt-zuerich.ch/statistics/property/BTA</a></td></tr><tr class=odd><td class=val><a href=\"https://ld.stadt-zuerich.ch/statistics/measure/AST\" target=\"_other\">https://ld.stadt-zuerich.ch/statistics/measure/AST</a></td></tr><tr class=even><td class=val><a href=\"https://ld.stadt-zuerich.ch/statistics/property/EAP\" target=\"_other\">https://ld.stadt-zuerich.ch/statistics/property/EAP</a></td></tr><tr class=odd><td class=val><a href=\"https://ld.stadt-zuerich.ch/statistics/measure/WRT\" target=\"_other\">https://ld.stadt-zuerich.ch/statistics/measure/WRT</a></td></tr><tr class=even><td class=val><a href=\"https://ld.stadt-zuerich.ch/statistics/property/SEX\" target=\"_other\">https://ld.stadt-zuerich.ch/statistics/property/SEX</a></td></tr><tr class=odd><td class=val><a href=\"https://ld.stadt-zuerich.ch/statistics/property/TOU\" target=\"_other\">https://ld.stadt-zuerich.ch/statistics/property/TOU</a></td></tr><tr class=even><td class=val><a href=\"https://ld.stadt-zuerich.ch/statistics/measure/GES\" target=\"_other\">https://ld.stadt-zuerich.ch/statistics/measure/GES</a></td></tr><tr class=odd><td class=val><a href=\"https://ld.stadt-zuerich.ch/statistics/property/TIG\" target=\"_other\">https://ld.stadt-zuerich.ch/statistics/property/TIG</a></td></tr><tr class=even><td class=val><a href=\"https://ld.stadt-zuerich.ch/statistics/measure/TII\" target=\"_other\">https://ld.stadt-zuerich.ch/statistics/measure/TII</a></td></tr><tr class=odd><td class=val><a href=\"https://ld.stadt-zuerich.ch/statistics/measure/TIA\" target=\"_other\">https://ld.stadt-zuerich.ch/statistics/measure/TIA</a></td></tr><tr class=even><td class=val><a href=\"https://ld.stadt-zuerich.ch/statistics/property/BEW\" target=\"_other\">https://ld.stadt-zuerich.ch/statistics/property/BEW</a></td></tr><tr class=odd><td class=val><a href=\"https://ld.stadt-zuerich.ch/statistics/measure/BES\" target=\"_other\">https://ld.stadt-zuerich.ch/statistics/measure/BES</a></td></tr><tr class=even><td class=val><a href=\"https://ld.stadt-zuerich.ch/statistics/property/HEL\" target=\"_other\">https://ld.stadt-zuerich.ch/statistics/property/HEL</a></td></tr><tr class=odd><td class=val><a href=\"https://ld.stadt-zuerich.ch/statistics/measure/ZUS\" target=\"_other\">https://ld.stadt-zuerich.ch/statistics/measure/ZUS</a></td></tr><tr class=even><td class=val><a href=\"https://ld.stadt-zuerich.ch/statistics/property/ZSA\" target=\"_other\">https://ld.stadt-zuerich.ch/statistics/property/ZSA</a></td></tr><tr class=odd><td class=val><a href=\"https://ld.stadt-zuerich.ch/statistics/measure/WHG\" target=\"_other\">https://ld.stadt-zuerich.ch/statistics/measure/WHG</a></td></tr><tr class=even><td class=val><a href=\"https://ld.stadt-zuerich.ch/statistics/property/ZIM\" target=\"_other\">https://ld.stadt-zuerich.ch/statistics/property/ZIM</a></td></tr><tr class=odd><td class=val><a href=\"https://ld.stadt-zuerich.ch/statistics/measure/WHA\" target=\"_other\">https://ld.stadt-zuerich.ch/statistics/measure/WHA</a></td></tr><tr class=even><td class=val><a href=\"https://ld.stadt-zuerich.ch/statistics/measure/ZIM\" target=\"_other\">https://ld.stadt-zuerich.ch/statistics/measure/ZIM</a></td></tr><tr class=odd><td class=val><a href=\"https://ld.stadt-zuerich.ch/statistics/property/WHA\" target=\"_other\">https://ld.stadt-zuerich.ch/statistics/property/WHA</a></td></tr><tr class=even><td class=val><a href=\"https://ld.stadt-zuerich.ch/statistics/measure/APZ\" target=\"_other\">https://ld.stadt-zuerich.ch/statistics/measure/APZ</a></td></tr><tr class=odd><td class=val><a href=\"https://ld.stadt-zuerich.ch/statistics/property/GGH\" target=\"_other\">https://ld.stadt-zuerich.ch/statistics/property/GGH</a></td></tr><tr class=even><td class=val><a href=\"https://ld.stadt-zuerich.ch/statistics/measure/ANT\" target=\"_other\">https://ld.stadt-zuerich.ch/statistics/measure/ANT</a></td></tr></table><div class=\"tinfo\">Total: 32, Shown: 32</div></div>"
      ]
     },
     "metadata": {},
     "output_type": "display_data"
    }
   ],
   "source": [
    "# Let's get all observation properties at the same time\n",
    "\n",
    "PREFIX schema: <http://schema.org/>\n",
    "PREFIX cube: <https://cube.link/>\n",
    "\n",
    "SELECT DISTINCT ?obsProperty\n",
    "FROM <https://lindas.admin.ch/stadtzuerich/stat>\n",
    "WHERE {\n",
    "  ?dataset a cube:Cube;\n",
    "             cube:observationSet/cube:observation ?observation. \n",
    "    # Equivalent to:\n",
    "    #       cube:observationSet ?observationSet.\n",
    "    #?observationSet cube:observation ?observation.\n",
    "    ?observation ?obsProperty ?obsVal.\n",
    "}"
   ]
  },
  {
   "cell_type": "markdown",
   "metadata": {},
   "source": [
    "Quite a bit! Now, not every dataset will have all those properties. \n",
    "\n",
    "Let's get a list of datasets, and their respective properties."
   ]
  },
  {
   "cell_type": "code",
   "execution_count": 47,
   "metadata": {},
   "outputs": [
    {
     "data": {
      "text/html": [
       "<div class=\"krn-spql\"><table><tr class=hdr><th>dataset</th>\n",
       "<th>properties</th></tr><tr class=odd><td class=val><a href=\"https://ld.stadt-zuerich.ch/statistics/BES-BTA-SEX\" target=\"_other\">https://ld.stadt-zuerich.ch/statistics/BES-BTA-SEX</a></td>\n",
       "<td class=val>ZEIT, RAUM, BTA, SEX, measure:BES, TIME</td></tr><tr class=even><td class=val><a href=\"https://ld.stadt-zuerich.ch/statistics/BES-BTA\" target=\"_other\">https://ld.stadt-zuerich.ch/statistics/BES-BTA</a></td>\n",
       "<td class=val>ZEIT, RAUM, BTA, measure:BES, TIME</td></tr><tr class=odd><td class=val><a href=\"https://ld.stadt-zuerich.ch/statistics/ZUS-BTA-HEL\" target=\"_other\">https://ld.stadt-zuerich.ch/statistics/ZUS-BTA-HEL</a></td>\n",
       "<td class=val>ZEIT, RAUM, BTA, HEL, measure:ZUS, TIME</td></tr><tr class=even><td class=val><a href=\"https://ld.stadt-zuerich.ch/statistics/ZUS-BTA-SEX\" target=\"_other\">https://ld.stadt-zuerich.ch/statistics/ZUS-BTA-SEX</a></td>\n",
       "<td class=val>ZEIT, RAUM, BTA, SEX, measure:ZUS, TIME</td></tr><tr class=odd><td class=val><a href=\"https://ld.stadt-zuerich.ch/statistics/ZUS-BTA\" target=\"_other\">https://ld.stadt-zuerich.ch/statistics/ZUS-BTA</a></td>\n",
       "<td class=val>ZEIT, RAUM, BTA, measure:ZUS, TIME</td></tr><tr class=even><td class=val><a href=\"https://ld.stadt-zuerich.ch/statistics/ZUS-BTA-ZSA\" target=\"_other\">https://ld.stadt-zuerich.ch/statistics/ZUS-BTA-ZSA</a></td>\n",
       "<td class=val>ZEIT, RAUM, BTA, measure:ZUS, ZSA, TIME</td></tr><tr class=odd><td class=val><a href=\"https://ld.stadt-zuerich.ch/statistics/WHG\" target=\"_other\">https://ld.stadt-zuerich.ch/statistics/WHG</a></td>\n",
       "<td class=val>ZEIT, RAUM, measure:WHG, TIME</td></tr><tr class=even><td class=val><a href=\"https://ld.stadt-zuerich.ch/statistics/WHA-ZIM\" target=\"_other\">https://ld.stadt-zuerich.ch/statistics/WHA-ZIM</a></td>\n",
       "<td class=val>ZEIT, RAUM, ZIM, measure:WHA, TIME</td></tr><tr class=odd><td class=val><a href=\"https://ld.stadt-zuerich.ch/statistics/ZIM\" target=\"_other\">https://ld.stadt-zuerich.ch/statistics/ZIM</a></td>\n",
       "<td class=val>ZEIT, RAUM, measure:ZIM, TIME</td></tr><tr class=even><td class=val><a href=\"https://ld.stadt-zuerich.ch/statistics/WHA\" target=\"_other\">https://ld.stadt-zuerich.ch/statistics/WHA</a></td>\n",
       "<td class=val>ZEIT, RAUM, measure:WHA, TIME</td></tr><tr class=odd><td class=val><a href=\"https://ld.stadt-zuerich.ch/statistics/WHG-ZIM\" target=\"_other\">https://ld.stadt-zuerich.ch/statistics/WHG-ZIM</a></td>\n",
       "<td class=val>ZEIT, RAUM, measure:WHG, ZIM, TIME</td></tr><tr class=even><td class=val><a href=\"https://ld.stadt-zuerich.ch/statistics/ZIM-WHA\" target=\"_other\">https://ld.stadt-zuerich.ch/statistics/ZIM-WHA</a></td>\n",
       "<td class=val>ZEIT, RAUM, measure:ZIM, WHA, TIME</td></tr><tr class=odd><td class=val><a href=\"https://ld.stadt-zuerich.ch/statistics/APZ\" target=\"_other\">https://ld.stadt-zuerich.ch/statistics/APZ</a></td>\n",
       "<td class=val>ZEIT, RAUM, measure:APZ, TIME</td></tr><tr class=even><td class=val><a href=\"https://ld.stadt-zuerich.ch/statistics/BEW-HEL-SEX\" target=\"_other\">https://ld.stadt-zuerich.ch/statistics/BEW-HEL-SEX</a></td>\n",
       "<td class=val>ZEIT, RAUM, measure:BEW, SEX, HEL, TIME</td></tr><tr class=odd><td class=val><a href=\"https://ld.stadt-zuerich.ch/statistics/BEW-HEL\" target=\"_other\">https://ld.stadt-zuerich.ch/statistics/BEW-HEL</a></td>\n",
       "<td class=val>ZEIT, RAUM, measure:BEW, HEL, TIME</td></tr><tr class=even><td class=val><a href=\"https://ld.stadt-zuerich.ch/statistics/BEW-SEX\" target=\"_other\">https://ld.stadt-zuerich.ch/statistics/BEW-SEX</a></td>\n",
       "<td class=val>ZEIT, RAUM, measure:BEW, SEX, TIME</td></tr><tr class=odd><td class=val><a href=\"https://ld.stadt-zuerich.ch/statistics/ANT-GGH-HEL\" target=\"_other\">https://ld.stadt-zuerich.ch/statistics/ANT-GGH-HEL</a></td>\n",
       "<td class=val>ZEIT, RAUM, HEL, GGH, measure:ANT, TIME</td></tr><tr class=even><td class=val><a href=\"https://ld.stadt-zuerich.ch/statistics/GES-SEX\" target=\"_other\">https://ld.stadt-zuerich.ch/statistics/GES-SEX</a></td>\n",
       "<td class=val>ZEIT, RAUM, SEX, measure:GES, TIME</td></tr><tr class=odd><td class=val><a href=\"https://ld.stadt-zuerich.ch/statistics/BEW-ALT\" target=\"_other\">https://ld.stadt-zuerich.ch/statistics/BEW-ALT</a></td>\n",
       "<td class=val>ZEIT, RAUM, ALT, measure:BEW, TIME</td></tr><tr class=even><td class=val><a href=\"https://ld.stadt-zuerich.ch/statistics/AST-BTA\" target=\"_other\">https://ld.stadt-zuerich.ch/statistics/AST-BTA</a></td>\n",
       "<td class=val>ZEIT, RAUM, BTA, measure:AST, TIME</td></tr><tr class=odd><td class=val><a href=\"https://ld.stadt-zuerich.ch/statistics/WRT-BTA-EAP\" target=\"_other\">https://ld.stadt-zuerich.ch/statistics/WRT-BTA-EAP</a></td>\n",
       "<td class=val>ZEIT, RAUM, BTA, EAP, measure:WRT, TIME</td></tr><tr class=even><td class=val><a href=\"https://ld.stadt-zuerich.ch/statistics/GES-ALT-SEX-TOU\" target=\"_other\">https://ld.stadt-zuerich.ch/statistics/GES-ALT-SEX-TOU</a></td>\n",
       "<td class=val>ZEIT, RAUM, ALT, SEX, TOU, measure:GES, TIME</td></tr><tr class=odd><td class=val><a href=\"https://ld.stadt-zuerich.ch/statistics/GES-SEX-TOU\" target=\"_other\">https://ld.stadt-zuerich.ch/statistics/GES-SEX-TOU</a></td>\n",
       "<td class=val>ZEIT, RAUM, SEX, TOU, measure:GES, TIME</td></tr><tr class=even><td class=val><a href=\"https://ld.stadt-zuerich.ch/statistics/TII-BTA-TIG\" target=\"_other\">https://ld.stadt-zuerich.ch/statistics/TII-BTA-TIG</a></td>\n",
       "<td class=val>ZEIT, RAUM, BTA, TIG, measure:TII, TIME</td></tr><tr class=odd><td class=val><a href=\"https://ld.stadt-zuerich.ch/statistics/TIA-BTA\" target=\"_other\">https://ld.stadt-zuerich.ch/statistics/TIA-BTA</a></td>\n",
       "<td class=val>ZEIT, RAUM, BTA, measure:TIA, TIME</td></tr><tr class=even><td class=val><a href=\"https://ld.stadt-zuerich.ch/statistics/TIA-BTA-TIG\" target=\"_other\">https://ld.stadt-zuerich.ch/statistics/TIA-BTA-TIG</a></td>\n",
       "<td class=val>ZEIT, RAUM, BTA, TIG, measure:TIA, TIME</td></tr><tr class=odd><td class=val><a href=\"https://ld.stadt-zuerich.ch/statistics/TII-BTA\" target=\"_other\">https://ld.stadt-zuerich.ch/statistics/TII-BTA</a></td>\n",
       "<td class=val>ZEIT, RAUM, BTA, measure:TII, TIME</td></tr><tr class=even><td class=val><a href=\"https://ld.stadt-zuerich.ch/statistics/AST-BEW-BTA\" target=\"_other\">https://ld.stadt-zuerich.ch/statistics/AST-BEW-BTA</a></td>\n",
       "<td class=val>ZEIT, RAUM, BTA, measure:AST, BEW, TIME</td></tr><tr class=odd><td class=val><a href=\"https://ld.stadt-zuerich.ch/statistics/GES-ALT-SEX\" target=\"_other\">https://ld.stadt-zuerich.ch/statistics/GES-ALT-SEX</a></td>\n",
       "<td class=val>ZEIT, RAUM, ALT, SEX, measure:GES, TIME</td></tr><tr class=even><td class=val><a href=\"https://ld.stadt-zuerich.ch/statistics/BEW\" target=\"_other\">https://ld.stadt-zuerich.ch/statistics/BEW</a></td>\n",
       "<td class=val>ZEIT, RAUM, measure:BEW, TIME</td></tr></table><div class=\"tinfo\">Total: 30, Shown: 30</div></div>"
      ]
     },
     "metadata": {},
     "output_type": "display_data"
    }
   ],
   "source": [
    "# Let's get all observation properties at the same time\n",
    "PREFIX schema: <http://schema.org/>\n",
    "PREFIX cube: <https://cube.link/>\n",
    "\n",
    "SELECT ?dataset (group_concat(distinct ?q; separator=\", \") as ?properties)\n",
    "\n",
    "FROM <https://lindas.admin.ch/stadtzuerich/stat>\n",
    "WHERE {\n",
    "  ?dataset a cube:Cube;\n",
    "             cube:observationSet/cube:observation ?observation. \n",
    "    ?observation ?obsProperty ?obsVal.\n",
    "  FILTER(?obsProperty NOT IN (<http://www.w3.org/1999/02/22-rdf-syntax-ns#type>, <http://www.w3.org/2004/02/skos/core#notation>, <https://ld.stadt-zuerich.ch/statistics/attribute/KORREKTUR>, <https://cube.link/observedBy>))\n",
    "  \n",
    "  BIND(replace(str(?obsProperty), str(\"https://ld.stadt-zuerich.ch/statistics/property/\"), \"\") as ?p)\n",
    "  BIND(replace(str(?p), str(\"https://ld.stadt-zuerich.ch/statistics/measure/\"), \"measure:\") as ?q)\n",
    "}\n",
    "GROUP BY ?dataset"
   ]
  },
  {
   "cell_type": "markdown",
   "metadata": {},
   "source": [
    "Let's take a look at available dimensions (properties).\n",
    "\n",
    "For all datasets:\n",
    "* ZEIT \n",
    "* RAUM \n",
    "* TIME \n",
    "\n",
    "For selected datasets:\n",
    "* ALT: age\n",
    "* BEW: population\n",
    "* BTA\n",
    "* EAP \n",
    "* SEX: gender\n",
    "* TIG\n",
    "* TOU\n",
    "* GGH\n",
    "* HEL\n",
    "* WHA\n",
    "* ZSA \n",
    "* ZIM \n",
    "\n",
    "\n",
    "As for the measures, the following ones are available:\n",
    "* ANT\n",
    "* APZ\n",
    "* AST\n",
    "* BES\n",
    "* BEW\n",
    "* GES\n",
    "* TIA\n",
    "* TII\n",
    "* WHG\n",
    "* WHA\n",
    "* WRT\n",
    "* ZIM\n",
    "* ZUS"
   ]
  },
  {
   "cell_type": "code",
   "execution_count": 22,
   "metadata": {},
   "outputs": [
    {
     "data": {
      "text/html": [
       "<div class=\"krn-spql\"><table><tr class=hdr><th>time</th>\n",
       "<th>raumName</th>\n",
       "<th>people</th>\n",
       "<th>zeit</th></tr><tr class=odd><td class=val>2016-12-31</td>\n",
       "<td class=val>Hard</td>\n",
       "<td class=val>12891.0</td>\n",
       "<td class=val><a href=\"https://ld.stadt-zuerich.ch/statistics/code/Z31122016\" target=\"_other\">https://ld.stadt-zuerich.ch/statistics/code/Z31122016</a></td></tr><tr class=even><td class=val>2015-12-31</td>\n",
       "<td class=val>Hard</td>\n",
       "<td class=val>13072.0</td>\n",
       "<td class=val><a href=\"https://ld.stadt-zuerich.ch/statistics/code/Z31122015\" target=\"_other\">https://ld.stadt-zuerich.ch/statistics/code/Z31122015</a></td></tr><tr class=odd><td class=val>2014-12-31</td>\n",
       "<td class=val>Hard</td>\n",
       "<td class=val>13232.0</td>\n",
       "<td class=val><a href=\"https://ld.stadt-zuerich.ch/statistics/code/Z31122014\" target=\"_other\">https://ld.stadt-zuerich.ch/statistics/code/Z31122014</a></td></tr><tr class=even><td class=val>2013-12-31</td>\n",
       "<td class=val>Hard</td>\n",
       "<td class=val>13241.0</td>\n",
       "<td class=val><a href=\"https://ld.stadt-zuerich.ch/statistics/code/Z31122013\" target=\"_other\">https://ld.stadt-zuerich.ch/statistics/code/Z31122013</a></td></tr><tr class=odd><td class=val>2012-12-31</td>\n",
       "<td class=val>Hard</td>\n",
       "<td class=val>12994.0</td>\n",
       "<td class=val><a href=\"https://ld.stadt-zuerich.ch/statistics/code/Z31122012\" target=\"_other\">https://ld.stadt-zuerich.ch/statistics/code/Z31122012</a></td></tr><tr class=even><td class=val>2011-12-31</td>\n",
       "<td class=val>Hard</td>\n",
       "<td class=val>12744.0</td>\n",
       "<td class=val><a href=\"https://ld.stadt-zuerich.ch/statistics/code/Z31122011\" target=\"_other\">https://ld.stadt-zuerich.ch/statistics/code/Z31122011</a></td></tr><tr class=odd><td class=val>2010-12-31</td>\n",
       "<td class=val>Hard</td>\n",
       "<td class=val>12883.0</td>\n",
       "<td class=val><a href=\"https://ld.stadt-zuerich.ch/statistics/code/Z31122010\" target=\"_other\">https://ld.stadt-zuerich.ch/statistics/code/Z31122010</a></td></tr><tr class=even><td class=val>2009-12-31</td>\n",
       "<td class=val>Hard</td>\n",
       "<td class=val>12902.0</td>\n",
       "<td class=val><a href=\"https://ld.stadt-zuerich.ch/statistics/code/Z31122009\" target=\"_other\">https://ld.stadt-zuerich.ch/statistics/code/Z31122009</a></td></tr><tr class=odd><td class=val>2008-12-31</td>\n",
       "<td class=val>Hard</td>\n",
       "<td class=val>12884.0</td>\n",
       "<td class=val><a href=\"https://ld.stadt-zuerich.ch/statistics/code/Z31122008\" target=\"_other\">https://ld.stadt-zuerich.ch/statistics/code/Z31122008</a></td></tr><tr class=even><td class=val>2007-12-31</td>\n",
       "<td class=val>Hard</td>\n",
       "<td class=val>12802.0</td>\n",
       "<td class=val><a href=\"https://ld.stadt-zuerich.ch/statistics/code/Z31122007\" target=\"_other\">https://ld.stadt-zuerich.ch/statistics/code/Z31122007</a></td></tr><tr class=odd><td class=val>2006-12-31</td>\n",
       "<td class=val>Hard</td>\n",
       "<td class=val>12508.0</td>\n",
       "<td class=val><a href=\"https://ld.stadt-zuerich.ch/statistics/code/Z31122006\" target=\"_other\">https://ld.stadt-zuerich.ch/statistics/code/Z31122006</a></td></tr><tr class=even><td class=val>2005-12-31</td>\n",
       "<td class=val>Hard</td>\n",
       "<td class=val>12715.0</td>\n",
       "<td class=val><a href=\"https://ld.stadt-zuerich.ch/statistics/code/Z31122005\" target=\"_other\">https://ld.stadt-zuerich.ch/statistics/code/Z31122005</a></td></tr><tr class=odd><td class=val>2004-12-31</td>\n",
       "<td class=val>Hard</td>\n",
       "<td class=val>12804.0</td>\n",
       "<td class=val><a href=\"https://ld.stadt-zuerich.ch/statistics/code/Z31122004\" target=\"_other\">https://ld.stadt-zuerich.ch/statistics/code/Z31122004</a></td></tr><tr class=even><td class=val>2003-12-31</td>\n",
       "<td class=val>Hard</td>\n",
       "<td class=val>12817.0</td>\n",
       "<td class=val><a href=\"https://ld.stadt-zuerich.ch/statistics/code/Z31122003\" target=\"_other\">https://ld.stadt-zuerich.ch/statistics/code/Z31122003</a></td></tr><tr class=odd><td class=val>2002-12-31</td>\n",
       "<td class=val>Hard</td>\n",
       "<td class=val>12856.0</td>\n",
       "<td class=val><a href=\"https://ld.stadt-zuerich.ch/statistics/code/Z31122002\" target=\"_other\">https://ld.stadt-zuerich.ch/statistics/code/Z31122002</a></td></tr></table><div class=\"tinfo\">Total: 15, Shown: 15</div></div>"
      ]
     },
     "metadata": {},
     "output_type": "display_data"
    }
   ],
   "source": [
    "# Let's explore one dataset at a time\n",
    "\n",
    "# BEW\n",
    "PREFIX schema: <http://schema.org/>\n",
    "PREFIX cube: <https://cube.link/>\n",
    "\n",
    "SELECT ?time ?raumName ?people ?zeit\n",
    "FROM <https://lindas.admin.ch/stadtzuerich/stat>\n",
    "WHERE {\n",
    "  <https://ld.stadt-zuerich.ch/statistics/BEW> a cube:Cube;\n",
    "             cube:observationSet/cube:observation ?observation. \n",
    "    \n",
    "    ?observation <https://ld.stadt-zuerich.ch/statistics/measure/BEW> ?people ;\n",
    "                 <https://ld.stadt-zuerich.ch/statistics/property/RAUM> ?raum ;\n",
    "                 <https://ld.stadt-zuerich.ch/statistics/property/TIME> ?time ;\n",
    "    <https://ld.stadt-zuerich.ch/statistics/property/ZEIT> ?zeit .\n",
    "    \n",
    "    ?raum schema:name ?raumName .\n",
    "}\n",
    "LIMIT 15"
   ]
  },
  {
   "cell_type": "markdown",
   "metadata": {},
   "source": [
    "Let's try building a generic query for any dataset"
   ]
  },
  {
   "cell_type": "code",
   "execution_count": 11,
   "metadata": {},
   "outputs": [
    {
     "data": {
      "text/html": [
       "<div class=\"krn-spql\"><table><tr class=hdr><th>time</th>\n",
       "<th>place</th>\n",
       "<th>sex</th>\n",
       "<th>alt</th>\n",
       "<th>tou</th>\n",
       "<th>ges</th></tr><tr class=odd><td class=val>2014-12-31</td>\n",
       "<td class=val>Stadt Zürich (ab 1934)</td>\n",
       "<td class=val><a href=\"https://ld.stadt-zuerich.ch/statistics/code/SEX0002\" target=\"_other\">https://ld.stadt-zuerich.ch/statistics/code/SEX0002</a></td>\n",
       "<td class=val><a href=\"https://ld.stadt-zuerich.ch/statistics/code/ALT0000\" target=\"_other\">https://ld.stadt-zuerich.ch/statistics/code/ALT0000</a></td>\n",
       "<td class=val><a href=\"https://ld.stadt-zuerich.ch/statistics/code/TOUF999\" target=\"_other\">https://ld.stadt-zuerich.ch/statistics/code/TOUF999</a></td>\n",
       "<td class=val>0.0</td></tr><tr class=even><td class=val>2014-12-31</td>\n",
       "<td class=val>Stadt Zürich (ab 1934)</td>\n",
       "<td class=val><a href=\"https://ld.stadt-zuerich.ch/statistics/code/SEX0002\" target=\"_other\">https://ld.stadt-zuerich.ch/statistics/code/SEX0002</a></td>\n",
       "<td class=val><a href=\"https://ld.stadt-zuerich.ch/statistics/code/ALT0000\" target=\"_other\">https://ld.stadt-zuerich.ch/statistics/code/ALT0000</a></td>\n",
       "<td class=val><a href=\"https://ld.stadt-zuerich.ch/statistics/code/TOUF999\" target=\"_other\">https://ld.stadt-zuerich.ch/statistics/code/TOUF999</a></td>\n",
       "<td class=val>0.0</td></tr><tr class=odd><td class=val>2014-12-31</td>\n",
       "<td class=val>Stadt Zürich (ab 1934)</td>\n",
       "<td class=val><a href=\"https://ld.stadt-zuerich.ch/statistics/code/SEX0002\" target=\"_other\">https://ld.stadt-zuerich.ch/statistics/code/SEX0002</a></td>\n",
       "<td class=val><a href=\"https://ld.stadt-zuerich.ch/statistics/code/ALT0000\" target=\"_other\">https://ld.stadt-zuerich.ch/statistics/code/ALT0000</a></td>\n",
       "<td class=val><a href=\"https://ld.stadt-zuerich.ch/statistics/code/TOUF999\" target=\"_other\">https://ld.stadt-zuerich.ch/statistics/code/TOUF999</a></td>\n",
       "<td class=val>0.0</td></tr><tr class=even><td class=val>2014-12-31</td>\n",
       "<td class=val>Stadt Zürich (ab 1934)</td>\n",
       "<td class=val><a href=\"https://ld.stadt-zuerich.ch/statistics/code/SEX0002\" target=\"_other\">https://ld.stadt-zuerich.ch/statistics/code/SEX0002</a></td>\n",
       "<td class=val><a href=\"https://ld.stadt-zuerich.ch/statistics/code/ALT0000\" target=\"_other\">https://ld.stadt-zuerich.ch/statistics/code/ALT0000</a></td>\n",
       "<td class=val><a href=\"https://ld.stadt-zuerich.ch/statistics/code/TOUF999\" target=\"_other\">https://ld.stadt-zuerich.ch/statistics/code/TOUF999</a></td>\n",
       "<td class=val>0.0</td></tr><tr class=odd><td class=val>2014-12-31</td>\n",
       "<td class=val>Stadt Zürich (ab 1934)</td>\n",
       "<td class=val><a href=\"https://ld.stadt-zuerich.ch/statistics/code/SEX0002\" target=\"_other\">https://ld.stadt-zuerich.ch/statistics/code/SEX0002</a></td>\n",
       "<td class=val><a href=\"https://ld.stadt-zuerich.ch/statistics/code/ALT0000\" target=\"_other\">https://ld.stadt-zuerich.ch/statistics/code/ALT0000</a></td>\n",
       "<td class=val><a href=\"https://ld.stadt-zuerich.ch/statistics/code/TOUF999\" target=\"_other\">https://ld.stadt-zuerich.ch/statistics/code/TOUF999</a></td>\n",
       "<td class=val>0.0</td></tr><tr class=even><td class=val>2014-12-31</td>\n",
       "<td class=val>Stadt Zürich (ab 1934)</td>\n",
       "<td class=val><a href=\"https://ld.stadt-zuerich.ch/statistics/code/SEX0002\" target=\"_other\">https://ld.stadt-zuerich.ch/statistics/code/SEX0002</a></td>\n",
       "<td class=val><a href=\"https://ld.stadt-zuerich.ch/statistics/code/ALT0000\" target=\"_other\">https://ld.stadt-zuerich.ch/statistics/code/ALT0000</a></td>\n",
       "<td class=val><a href=\"https://ld.stadt-zuerich.ch/statistics/code/TOUF999\" target=\"_other\">https://ld.stadt-zuerich.ch/statistics/code/TOUF999</a></td>\n",
       "<td class=val>0.0</td></tr><tr class=odd><td class=val>2014-12-31</td>\n",
       "<td class=val>Stadt Zürich (ab 1934)</td>\n",
       "<td class=val><a href=\"https://ld.stadt-zuerich.ch/statistics/code/SEX0002\" target=\"_other\">https://ld.stadt-zuerich.ch/statistics/code/SEX0002</a></td>\n",
       "<td class=val><a href=\"https://ld.stadt-zuerich.ch/statistics/code/ALT0000\" target=\"_other\">https://ld.stadt-zuerich.ch/statistics/code/ALT0000</a></td>\n",
       "<td class=val><a href=\"https://ld.stadt-zuerich.ch/statistics/code/TOUF999\" target=\"_other\">https://ld.stadt-zuerich.ch/statistics/code/TOUF999</a></td>\n",
       "<td class=val>0.0</td></tr><tr class=even><td class=val>2014-12-31</td>\n",
       "<td class=val>Stadt Zürich (ab 1934)</td>\n",
       "<td class=val><a href=\"https://ld.stadt-zuerich.ch/statistics/code/SEX0002\" target=\"_other\">https://ld.stadt-zuerich.ch/statistics/code/SEX0002</a></td>\n",
       "<td class=val><a href=\"https://ld.stadt-zuerich.ch/statistics/code/ALT0000\" target=\"_other\">https://ld.stadt-zuerich.ch/statistics/code/ALT0000</a></td>\n",
       "<td class=val><a href=\"https://ld.stadt-zuerich.ch/statistics/code/TOUF999\" target=\"_other\">https://ld.stadt-zuerich.ch/statistics/code/TOUF999</a></td>\n",
       "<td class=val>0.0</td></tr><tr class=odd><td class=val>2014-12-31</td>\n",
       "<td class=val>Stadt Zürich (ab 1934)</td>\n",
       "<td class=val><a href=\"https://ld.stadt-zuerich.ch/statistics/code/SEX0002\" target=\"_other\">https://ld.stadt-zuerich.ch/statistics/code/SEX0002</a></td>\n",
       "<td class=val><a href=\"https://ld.stadt-zuerich.ch/statistics/code/ALT0000\" target=\"_other\">https://ld.stadt-zuerich.ch/statistics/code/ALT0000</a></td>\n",
       "<td class=val><a href=\"https://ld.stadt-zuerich.ch/statistics/code/TOUF999\" target=\"_other\">https://ld.stadt-zuerich.ch/statistics/code/TOUF999</a></td>\n",
       "<td class=val>0.0</td></tr><tr class=even><td class=val>2014-12-31</td>\n",
       "<td class=val>Stadt Zürich (ab 1934)</td>\n",
       "<td class=val><a href=\"https://ld.stadt-zuerich.ch/statistics/code/SEX0002\" target=\"_other\">https://ld.stadt-zuerich.ch/statistics/code/SEX0002</a></td>\n",
       "<td class=val><a href=\"https://ld.stadt-zuerich.ch/statistics/code/ALT0000\" target=\"_other\">https://ld.stadt-zuerich.ch/statistics/code/ALT0000</a></td>\n",
       "<td class=val><a href=\"https://ld.stadt-zuerich.ch/statistics/code/TOUF999\" target=\"_other\">https://ld.stadt-zuerich.ch/statistics/code/TOUF999</a></td>\n",
       "<td class=val>0.0</td></tr><tr class=odd><td class=val>2014-12-31</td>\n",
       "<td class=val>Stadt Zürich (ab 1934)</td>\n",
       "<td class=val><a href=\"https://ld.stadt-zuerich.ch/statistics/code/SEX0002\" target=\"_other\">https://ld.stadt-zuerich.ch/statistics/code/SEX0002</a></td>\n",
       "<td class=val><a href=\"https://ld.stadt-zuerich.ch/statistics/code/ALT0000\" target=\"_other\">https://ld.stadt-zuerich.ch/statistics/code/ALT0000</a></td>\n",
       "<td class=val><a href=\"https://ld.stadt-zuerich.ch/statistics/code/TOUF999\" target=\"_other\">https://ld.stadt-zuerich.ch/statistics/code/TOUF999</a></td>\n",
       "<td class=val>0.0</td></tr><tr class=even><td class=val>2014-12-31</td>\n",
       "<td class=val>Stadt Zürich (ab 1934)</td>\n",
       "<td class=val><a href=\"https://ld.stadt-zuerich.ch/statistics/code/SEX0002\" target=\"_other\">https://ld.stadt-zuerich.ch/statistics/code/SEX0002</a></td>\n",
       "<td class=val><a href=\"https://ld.stadt-zuerich.ch/statistics/code/ALT0513\" target=\"_other\">https://ld.stadt-zuerich.ch/statistics/code/ALT0513</a></td>\n",
       "<td class=val><a href=\"https://ld.stadt-zuerich.ch/statistics/code/TOUH000\" target=\"_other\">https://ld.stadt-zuerich.ch/statistics/code/TOUH000</a></td>\n",
       "<td class=val>0.0</td></tr><tr class=odd><td class=val>2014-12-31</td>\n",
       "<td class=val>Stadt Zürich (ab 1934)</td>\n",
       "<td class=val><a href=\"https://ld.stadt-zuerich.ch/statistics/code/SEX0002\" target=\"_other\">https://ld.stadt-zuerich.ch/statistics/code/SEX0002</a></td>\n",
       "<td class=val><a href=\"https://ld.stadt-zuerich.ch/statistics/code/ALT0513\" target=\"_other\">https://ld.stadt-zuerich.ch/statistics/code/ALT0513</a></td>\n",
       "<td class=val><a href=\"https://ld.stadt-zuerich.ch/statistics/code/TOUH000\" target=\"_other\">https://ld.stadt-zuerich.ch/statistics/code/TOUH000</a></td>\n",
       "<td class=val>0.0</td></tr><tr class=even><td class=val>2014-12-31</td>\n",
       "<td class=val>Stadt Zürich (ab 1934)</td>\n",
       "<td class=val><a href=\"https://ld.stadt-zuerich.ch/statistics/code/SEX0002\" target=\"_other\">https://ld.stadt-zuerich.ch/statistics/code/SEX0002</a></td>\n",
       "<td class=val><a href=\"https://ld.stadt-zuerich.ch/statistics/code/ALT0513\" target=\"_other\">https://ld.stadt-zuerich.ch/statistics/code/ALT0513</a></td>\n",
       "<td class=val><a href=\"https://ld.stadt-zuerich.ch/statistics/code/TOUH000\" target=\"_other\">https://ld.stadt-zuerich.ch/statistics/code/TOUH000</a></td>\n",
       "<td class=val>0.0</td></tr><tr class=odd><td class=val>2014-12-31</td>\n",
       "<td class=val>Stadt Zürich (ab 1934)</td>\n",
       "<td class=val><a href=\"https://ld.stadt-zuerich.ch/statistics/code/SEX0002\" target=\"_other\">https://ld.stadt-zuerich.ch/statistics/code/SEX0002</a></td>\n",
       "<td class=val><a href=\"https://ld.stadt-zuerich.ch/statistics/code/ALT0513\" target=\"_other\">https://ld.stadt-zuerich.ch/statistics/code/ALT0513</a></td>\n",
       "<td class=val><a href=\"https://ld.stadt-zuerich.ch/statistics/code/TOUH000\" target=\"_other\">https://ld.stadt-zuerich.ch/statistics/code/TOUH000</a></td>\n",
       "<td class=val>0.0</td></tr></table><div class=\"tinfo\">Total: 15, Shown: 15</div></div>"
      ]
     },
     "metadata": {},
     "output_type": "display_data"
    }
   ],
   "source": [
    "# Let's explore one dataset at a time\n",
    "\n",
    "# https://ld.stadt-zuerich.ch/statistics/GES-ALT-SEX-TOU\n",
    "PREFIX schema: <http://schema.org/>\n",
    "PREFIX cube: <https://cube.link/>\n",
    "PREFIX ssz: <https://ld.stadt-zuerich.ch/statistics/property/>\n",
    "\n",
    "SELECT ?time ?place ?sex ?alt ?tou ?ges\n",
    "\n",
    "\n",
    "FROM <https://lindas.admin.ch/stadtzuerich/stat>\n",
    "WHERE {\n",
    "  <https://ld.stadt-zuerich.ch/statistics/GES-ALT-SEX-TOU> a cube:Cube;\n",
    "             cube:observationSet/cube:observation ?observation. \n",
    "    \n",
    "        ?observation ?p ?measure ;\n",
    "                 ssz:RAUM ?raum ;\n",
    "                 ssz:TIME ?time ;\n",
    "                 <https://ld.stadt-zuerich.ch/statistics/measure/GES> ?ges ;\n",
    "                 ssz:SEX ?sex ;\n",
    "                 ssz:TOU ?tou ;\n",
    "                 ssz:ALT ?alt .\n",
    "    \n",
    "    ?raum schema:name ?place .\n",
    "    \n",
    "    # ISSUE:\n",
    "    # ?sex schema:name ?gender .\n",
    "    \n",
    "    #FILTER(regex(str(?p), \"https://ld.stadt-zuerich.ch/statistics/measure/\"))\n",
    "    #FILTER(?p NOT IN (<http://www.w3.org/1999/02/22-rdf-syntax-ns#type>, <http://www.w3.org/2004/02/skos/core#notation>, <https://ld.stadt-zuerich.ch/statistics/attribute/KORREKTUR>, <https://cube.link/observedBy>))\n",
    "\n",
    "}\n",
    "LIMIT 15"
   ]
  },
  {
   "cell_type": "code",
   "execution_count": null,
   "metadata": {},
   "outputs": [],
   "source": []
  }
 ],
 "metadata": {
  "kernelspec": {
   "display_name": "SPARQL",
   "language": "sparql",
   "name": "sparql"
  },
  "language_info": {
   "codemirror_mode": {
    "name": "sparql"
   },
   "mimetype": "application/sparql-query",
   "name": "sparql",
   "pygments_lexer": "sparql-nb"
  }
 },
 "nbformat": 4,
 "nbformat_minor": 4
}
